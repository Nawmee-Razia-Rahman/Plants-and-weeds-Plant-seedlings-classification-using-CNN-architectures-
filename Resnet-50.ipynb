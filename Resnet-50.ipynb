{
  "nbformat": 4,
  "nbformat_minor": 0,
  "metadata": {
    "colab": {
      "name": "plant_seedling_code_resnet_test_set_Neeeeeeee.ipynb",
      "provenance": [],
      "collapsed_sections": [],
      "toc_visible": true,
      "machine_shape": "hm"
    },
    "kernelspec": {
      "name": "python3",
      "display_name": "Python 3"
    },
    "accelerator": "GPU"
  },
  "cells": [
    {
      "cell_type": "code",
      "metadata": {
        "id": "25TBTh03Cu97",
        "colab_type": "code",
        "outputId": "92f1b333-6ec2-4aae-8b89-6a80525467d0",
        "colab": {
          "base_uri": "https://localhost:8080/",
          "height": 204
        }
      },
      "source": [
        "!pip install -U kaggle"
      ],
      "execution_count": 1,
      "outputs": [
        {
          "output_type": "stream",
          "text": [
            "Requirement already up-to-date: kaggle in /usr/local/lib/python3.6/dist-packages (1.5.6)\n",
            "Requirement already satisfied, skipping upgrade: urllib3<1.25,>=1.21.1 in /usr/local/lib/python3.6/dist-packages (from kaggle) (1.24.3)\n",
            "Requirement already satisfied, skipping upgrade: python-dateutil in /usr/local/lib/python3.6/dist-packages (from kaggle) (2.8.1)\n",
            "Requirement already satisfied, skipping upgrade: tqdm in /usr/local/lib/python3.6/dist-packages (from kaggle) (4.41.1)\n",
            "Requirement already satisfied, skipping upgrade: requests in /usr/local/lib/python3.6/dist-packages (from kaggle) (2.23.0)\n",
            "Requirement already satisfied, skipping upgrade: certifi in /usr/local/lib/python3.6/dist-packages (from kaggle) (2020.4.5.1)\n",
            "Requirement already satisfied, skipping upgrade: six>=1.10 in /usr/local/lib/python3.6/dist-packages (from kaggle) (1.12.0)\n",
            "Requirement already satisfied, skipping upgrade: python-slugify in /usr/local/lib/python3.6/dist-packages (from kaggle) (4.0.0)\n",
            "Requirement already satisfied, skipping upgrade: idna<3,>=2.5 in /usr/local/lib/python3.6/dist-packages (from requests->kaggle) (2.9)\n",
            "Requirement already satisfied, skipping upgrade: chardet<4,>=3.0.2 in /usr/local/lib/python3.6/dist-packages (from requests->kaggle) (3.0.4)\n",
            "Requirement already satisfied, skipping upgrade: text-unidecode>=1.3 in /usr/local/lib/python3.6/dist-packages (from python-slugify->kaggle) (1.3)\n"
          ],
          "name": "stdout"
        }
      ]
    },
    {
      "cell_type": "code",
      "metadata": {
        "id": "cKzzzsLjEUCg",
        "colab_type": "code",
        "outputId": "9e011ece-053b-47ed-c754-030b24b6be44",
        "colab": {
          "resources": {
            "http://localhost:8080/nbextensions/google.colab/files.js": {
              "data": "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",
              "ok": true,
              "headers": [
                [
                  "content-type",
                  "application/javascript"
                ]
              ],
              "status": 200,
              "status_text": ""
            }
          },
          "base_uri": "https://localhost:8080/",
          "height": 91
        }
      },
      "source": [
        "from google.colab import files\n",
        "files.upload()"
      ],
      "execution_count": 2,
      "outputs": [
        {
          "output_type": "display_data",
          "data": {
            "text/html": [
              "\n",
              "     <input type=\"file\" id=\"files-669466bf-b9ca-4f6c-9a42-3ecb5bbac843\" name=\"files[]\" multiple disabled />\n",
              "     <output id=\"result-669466bf-b9ca-4f6c-9a42-3ecb5bbac843\">\n",
              "      Upload widget is only available when the cell has been executed in the\n",
              "      current browser session. Please rerun this cell to enable.\n",
              "      </output>\n",
              "      <script src=\"/nbextensions/google.colab/files.js\"></script> "
            ],
            "text/plain": [
              "<IPython.core.display.HTML object>"
            ]
          },
          "metadata": {
            "tags": []
          }
        },
        {
          "output_type": "stream",
          "text": [
            "Saving kaggle.json to kaggle.json\n"
          ],
          "name": "stdout"
        },
        {
          "output_type": "execute_result",
          "data": {
            "text/plain": [
              "{'kaggle.json': b'{\"username\":\"nawmee121\",\"key\":\"cea99b9c80a2631c31dcfbdaf5241379\"}'}"
            ]
          },
          "metadata": {
            "tags": []
          },
          "execution_count": 2
        }
      ]
    },
    {
      "cell_type": "code",
      "metadata": {
        "id": "8kxCGPmhE3I-",
        "colab_type": "code",
        "colab": {}
      },
      "source": [
        "!mkdir -p ~/.kaggle\n",
        "!cp kaggle.json ~/.kaggle/\n",
        "#sudo kaggle competitions list\n",
        "#!chmod 600 ~/.kaggle/kaggle.json\n",
        "!chmod 600 ~/.kaggle/kaggle.json\n",
        "#!export KAGGLE_USERNAME=[nawmee121]\n",
        "#!export KAGGLE_KEY=4a3ad69e2b2ff1ffbe8a2d03b5ae8891"
      ],
      "execution_count": 0,
      "outputs": []
    },
    {
      "cell_type": "markdown",
      "metadata": {
        "id": "I--qCw5ybSuJ",
        "colab_type": "text"
      },
      "source": [
        ""
      ]
    },
    {
      "cell_type": "code",
      "metadata": {
        "id": "QdZ9-TAWHEZE",
        "colab_type": "code",
        "outputId": "4734dc10-03f3-4332-e53f-d5b9ddb75bb1",
        "colab": {
          "base_uri": "https://localhost:8080/",
          "height": 68
        }
      },
      "source": [
        "!kaggle datasets download -d vbookshelf/v2-plant-seedlings-dataset"
      ],
      "execution_count": 4,
      "outputs": [
        {
          "output_type": "stream",
          "text": [
            "Downloading v2-plant-seedlings-dataset.zip to /content\n",
            "100% 3.19G/3.19G [00:51<00:00, 38.2MB/s]\n",
            "100% 3.19G/3.19G [00:51<00:00, 66.2MB/s]\n"
          ],
          "name": "stdout"
        }
      ]
    },
    {
      "cell_type": "code",
      "metadata": {
        "id": "fPFqvgZvIdzH",
        "colab_type": "code",
        "outputId": "2aeb8788-1c77-4b9b-89d1-dd9f53295402",
        "colab": {
          "base_uri": "https://localhost:8080/",
          "height": 34
        }
      },
      "source": [
        "from zipfile import ZipFile \n",
        "file_name=\"v2-plant-seedlings-dataset.zip\"\n",
        "\n",
        "with ZipFile(file_name,'r') as zip:\n",
        "  zip.extractall()\n",
        "  print('Done')"
      ],
      "execution_count": 5,
      "outputs": [
        {
          "output_type": "stream",
          "text": [
            "Done\n"
          ],
          "name": "stdout"
        }
      ]
    },
    {
      "cell_type": "code",
      "metadata": {
        "id": "w4Wm0SRCs1bG",
        "colab_type": "code",
        "colab": {}
      },
      "source": [
        "!rm -r /content/v2-plant-seedlings-dataset.zip"
      ],
      "execution_count": 0,
      "outputs": []
    },
    {
      "cell_type": "code",
      "metadata": {
        "id": "tEOifiAOKw-i",
        "colab_type": "code",
        "outputId": "5c0892a7-906f-46e5-f95b-9e877ec567e9",
        "colab": {
          "base_uri": "https://localhost:8080/",
          "height": 289
        }
      },
      "source": [
        "import os\n",
        "os.listdir('/content')"
      ],
      "execution_count": 7,
      "outputs": [
        {
          "output_type": "execute_result",
          "data": {
            "text/plain": [
              "['.config',\n",
              " 'Fat Hen',\n",
              " 'Small-flowered Cranesbill',\n",
              " 'Common Chickweed',\n",
              " 'ShepherdΓÇÖs Purse',\n",
              " 'Black-grass',\n",
              " 'Scentless Mayweed',\n",
              " 'Maize',\n",
              " 'Sugar beet',\n",
              " 'Charlock',\n",
              " 'Loose Silky-bent',\n",
              " 'Common wheat',\n",
              " 'kaggle.json',\n",
              " 'nonsegmentedv2',\n",
              " 'Cleavers',\n",
              " 'sample_data']"
            ]
          },
          "metadata": {
            "tags": []
          },
          "execution_count": 7
        }
      ]
    },
    {
      "cell_type": "code",
      "metadata": {
        "id": "n9jWcBlZLJcc",
        "colab_type": "code",
        "colab": {}
      },
      "source": [
        "DATADIR='/content/nonsegmentedv2'"
      ],
      "execution_count": 0,
      "outputs": []
    },
    {
      "cell_type": "code",
      "metadata": {
        "id": "mDykGgkTLZG0",
        "colab_type": "code",
        "outputId": "d5920308-6fff-4cbc-cd22-59352e299b5b",
        "colab": {
          "base_uri": "https://localhost:8080/",
          "height": 34
        }
      },
      "source": [
        "import os\n",
        "import keras\n",
        "import cv2\n",
        "from sklearn.metrics import confusion_matrix\n",
        "from sklearn.model_selection import train_test_split\n",
        "from sklearn.utils.multiclass import unique_labels\n",
        "from matplotlib import pyplot as plt\n",
        "from pprint import pprint\n",
        "import numpy as np # linear algebra\n",
        "import pandas as pd # data processing, CSV file I/O (e.g. pd.read_csv)\n",
        "import random\n",
        "from keras.preprocessing.image import ImageDataGenerator"
      ],
      "execution_count": 9,
      "outputs": [
        {
          "output_type": "stream",
          "text": [
            "Using TensorFlow backend.\n"
          ],
          "name": "stderr"
        }
      ]
    },
    {
      "cell_type": "code",
      "metadata": {
        "id": "x3Ma07RILw0r",
        "colab_type": "code",
        "outputId": "6421d4e0-6387-46db-f6a2-f7c8fd57244b",
        "colab": {
          "base_uri": "https://localhost:8080/",
          "height": 54
        }
      },
      "source": [
        "print(os.listdir(r'/content/nonsegmentedv2'))\n",
        "#print(os.listdir(r'/content/RiceDiseaseDataset/validation'))"
      ],
      "execution_count": 10,
      "outputs": [
        {
          "output_type": "stream",
          "text": [
            "['Fat Hen', 'Small-flowered Cranesbill', 'Common Chickweed', 'ShepherdΓÇÖs Purse', 'Black-grass', 'Scentless Mayweed', 'Maize', 'Sugar beet', 'Charlock', 'Loose Silky-bent', 'Common wheat', 'Cleavers']\n"
          ],
          "name": "stdout"
        }
      ]
    },
    {
      "cell_type": "code",
      "metadata": {
        "id": "GivJt4bfMmyt",
        "colab_type": "code",
        "colab": {}
      },
      "source": [
        "#IMAGE_SIZE=224\n",
        "NUM_CLASSES=12\n"
      ],
      "execution_count": 0,
      "outputs": []
    },
    {
      "cell_type": "code",
      "metadata": {
        "id": "8JDh93YSMqE8",
        "colab_type": "code",
        "outputId": "236ed93b-7086-4e3b-9e03-1301b407218b",
        "colab": {
          "base_uri": "https://localhost:8080/",
          "height": 71
        }
      },
      "source": [
        "classes=sorted(os.listdir(DATADIR))\n",
        "print('There are {} having names:\\n{}'.format(len(classes),classes))"
      ],
      "execution_count": 12,
      "outputs": [
        {
          "output_type": "stream",
          "text": [
            "There are 12 having names:\n",
            "['Black-grass', 'Charlock', 'Cleavers', 'Common Chickweed', 'Common wheat', 'Fat Hen', 'Loose Silky-bent', 'Maize', 'Scentless Mayweed', 'ShepherdΓÇÖs Purse', 'Small-flowered Cranesbill', 'Sugar beet']\n"
          ],
          "name": "stdout"
        }
      ]
    },
    {
      "cell_type": "code",
      "metadata": {
        "id": "boradcAOMuny",
        "colab_type": "code",
        "colab": {}
      },
      "source": [
        "CATEGORIES = [\"Black-grass\", \"Charlock\",\"Cleavers\",\"Common Chickweed\",\"Common wheat\",\"Fat Hen\",\"Loose Silky-bent\",\"Maize\",\"Scentless Mayweed\",\"ShepherdΓÇÖs Purse\",\"Small-flowered Cranesbill\",\"Sugar beet\"]"
      ],
      "execution_count": 0,
      "outputs": []
    },
    {
      "cell_type": "code",
      "metadata": {
        "id": "uiEmaQ0iYaJq",
        "colab_type": "code",
        "colab": {}
      },
      "source": [
        "# print(CATEGORIES.class_indices)"
      ],
      "execution_count": 0,
      "outputs": []
    },
    {
      "cell_type": "code",
      "metadata": {
        "id": "tYqpxkQOMwGV",
        "colab_type": "code",
        "outputId": "ab8845db-e0be-447c-abc6-33ef50938c61",
        "colab": {
          "base_uri": "https://localhost:8080/",
          "height": 221
        }
      },
      "source": [
        "#\\ reading all the images from the folders\n",
        "images_list=dict()\n",
        "for i in classes:\n",
        "    images_list[i]=os.listdir(os.path.join(DATADIR, i))\n",
        "    print('{0} \\t--> {1}'.format(len(images_list[i]),i))"
      ],
      "execution_count": 15,
      "outputs": [
        {
          "output_type": "stream",
          "text": [
            "309 \t--> Black-grass\n",
            "452 \t--> Charlock\n",
            "335 \t--> Cleavers\n",
            "713 \t--> Common Chickweed\n",
            "253 \t--> Common wheat\n",
            "538 \t--> Fat Hen\n",
            "762 \t--> Loose Silky-bent\n",
            "257 \t--> Maize\n",
            "607 \t--> Scentless Mayweed\n",
            "274 \t--> ShepherdΓÇÖs Purse\n",
            "576 \t--> Small-flowered Cranesbill\n",
            "463 \t--> Sugar beet\n"
          ],
          "name": "stdout"
        }
      ]
    },
    {
      "cell_type": "code",
      "metadata": {
        "id": "H9BRPvyArFys",
        "colab_type": "code",
        "colab": {}
      },
      "source": [
        "scores=[309,452,335,713,253,538,762,257,607,274,576,463]"
      ],
      "execution_count": 0,
      "outputs": []
    },
    {
      "cell_type": "code",
      "metadata": {
        "id": "_uD4Y9IhrdFi",
        "colab_type": "code",
        "colab": {}
      },
      "source": [
        "positions=[0,1,2,3,4,5,6,7,8,9,10,11]"
      ],
      "execution_count": 0,
      "outputs": []
    },
    {
      "cell_type": "code",
      "metadata": {
        "id": "M_nUe7W5r4jg",
        "colab_type": "code",
        "outputId": "274f1aaf-b936-4784-c55e-65d14d90e0a4",
        "colab": {
          "base_uri": "https://localhost:8080/",
          "height": 703
        }
      },
      "source": [
        "fig=plt.figure(figsize=(19.5,10))\n",
        "plt.bar(positions,scores,width=.5,color=\"g\")\n",
        "plt.xticks(positions,CATEGORIES,rotation=45,fontsize=12)\n",
        "plt.show()"
      ],
      "execution_count": 18,
      "outputs": [
        {
          "output_type": "display_data",
          "data": {
            "image/png": "[encoded data removed]",
            "text/plain": [
              "<Figure size 1404x720 with 1 Axes>"
            ]
          },
          "metadata": {
            "tags": [],
            "needs_background": "light"
          }
        }
      ]
    },
    {
      "cell_type": "code",
      "metadata": {
        "id": "WF5BL2YXNCDR",
        "colab_type": "code",
        "outputId": "2f25448c-1dfb-4845-a13a-2ef95ef939f9",
        "colab": {
          "base_uri": "https://localhost:8080/",
          "height": 1000
        }
      },
      "source": [
        "for category in CATEGORIES:  # do dogs and cats\n",
        "    path = os.path.join(DATADIR,category)  # create path to dogs and cats\n",
        "    for img in os.listdir(path):  # iterate over each image per dogs and cats\n",
        "        img_array = cv2.imread(os.path.join(path,img))  # convert to array\n",
        "        print(img_array)\n",
        "        plt.imshow(img_array)  # graph it\n",
        "        plt.show()  # display!\n",
        "\n",
        "        break  # we just want one for now so break\n",
        "    break  #...and one more!\n"
      ],
      "execution_count": 19,
      "outputs": [
        {
          "output_type": "stream",
          "text": [
            "[[[ 61  84  97]\n",
            "  [ 59  82  94]\n",
            "  [ 47  72  84]\n",
            "  ...\n",
            "  [ 50  72  89]\n",
            "  [ 49  70  87]\n",
            "  [ 53  72  89]]\n",
            "\n",
            " [[ 63  87  98]\n",
            "  [ 63  86  97]\n",
            "  [ 49  74  85]\n",
            "  ...\n",
            "  [ 54  73  87]\n",
            "  [ 49  65  81]\n",
            "  [ 43  58  75]]\n",
            "\n",
            " [[ 66  91 100]\n",
            "  [ 59  84  92]\n",
            "  [ 52  77  86]\n",
            "  ...\n",
            "  [ 46  61  76]\n",
            "  [ 31  46  63]\n",
            "  [ 20  33  53]]\n",
            "\n",
            " ...\n",
            "\n",
            " [[ 56  53  59]\n",
            "  [ 65  61  66]\n",
            "  [ 56  51  58]\n",
            "  ...\n",
            "  [ 45  43  51]\n",
            "  [ 47  44  51]\n",
            "  [ 51  48  54]]\n",
            "\n",
            " [[ 58  53  60]\n",
            "  [ 60  54  61]\n",
            "  [ 57  51  58]\n",
            "  ...\n",
            "  [ 42  40  47]\n",
            "  [ 46  44  51]\n",
            "  [ 50  48  54]]\n",
            "\n",
            " [[ 61  56  64]\n",
            "  [ 59  53  60]\n",
            "  [ 57  52  58]\n",
            "  ...\n",
            "  [ 33  32  39]\n",
            "  [ 44  43  49]\n",
            "  [ 45  44  50]]]\n"
          ],
          "name": "stdout"
        },
        {
          "output_type": "display_data",
          "data": {
            "image/png": "[encoded data removed]",
            "text/plain": [
              "<Figure size 432x288 with 1 Axes>"
            ]
          },
          "metadata": {
            "tags": [],
            "needs_background": "light"
          }
        }
      ]
    },
    {
      "cell_type": "code",
      "metadata": {
        "id": "RrnNsWCZNMPo",
        "colab_type": "code",
        "colab": {}
      },
      "source": [
        "IMG_SIZE = 224"
      ],
      "execution_count": 0,
      "outputs": []
    },
    {
      "cell_type": "code",
      "metadata": {
        "id": "jTFPLbzFTiXX",
        "colab_type": "code",
        "outputId": "f322e8dc-6475-4437-d1a6-e0a5daba1f84",
        "colab": {
          "base_uri": "https://localhost:8080/",
          "height": 286
        }
      },
      "source": [
        "new_array = cv2.resize(img_array, (IMG_SIZE, IMG_SIZE))\n",
        "plt.imshow(new_array)\n",
        "plt.show()\n",
        "new_array.shape"
      ],
      "execution_count": 21,
      "outputs": [
        {
          "output_type": "display_data",
          "data": {
            "image/png": "[encoded data removed]",
            "text/plain": [
              "<Figure size 432x288 with 1 Axes>"
            ]
          },
          "metadata": {
            "tags": [],
            "needs_background": "light"
          }
        },
        {
          "output_type": "execute_result",
          "data": {
            "text/plain": [
              "(224, 224, 3)"
            ]
          },
          "metadata": {
            "tags": []
          },
          "execution_count": 21
        }
      ]
    },
    {
      "cell_type": "code",
      "metadata": {
        "id": "Nvp0AXTKTmRU",
        "colab_type": "code",
        "colab": {}
      },
      "source": [
        "training_data = []\n",
        "\n",
        "def create_training_data():\n",
        "    for category in CATEGORIES:  # do dogs and cats\n",
        "\n",
        "        path = os.path.join(DATADIR,category)  # create path to dogs and cats\n",
        "        class_num = CATEGORIES.index(category)  \n",
        "        print('this is class num',class_num)\n",
        "\n",
        "        for img in os.listdir(path):  # iterate over each image per dogs and cats\n",
        "            try:\n",
        "                img_array = cv2.imread(os.path.join(path,img))  # convert to array\n",
        "                new_array = cv2.resize(img_array, (IMG_SIZE, IMG_SIZE))  # resize to normalize data size\n",
        "                training_data.append([new_array, class_num])  # add this to our training_data\n",
        "            except Exception as e:  # in the interest in keeping the output clean...\n",
        "                pass"
      ],
      "execution_count": 0,
      "outputs": []
    },
    {
      "cell_type": "code",
      "metadata": {
        "id": "BYNQlC8JTnpw",
        "colab_type": "code",
        "outputId": "0ce3277c-3cb4-4db4-aaa3-405b4d8d0b6e",
        "colab": {
          "base_uri": "https://localhost:8080/",
          "height": 238
        }
      },
      "source": [
        "\n",
        "create_training_data()\n",
        "\n",
        "print(len(training_data))"
      ],
      "execution_count": 23,
      "outputs": [
        {
          "output_type": "stream",
          "text": [
            "this is class num 0\n",
            "this is class num 1\n",
            "this is class num 2\n",
            "this is class num 3\n",
            "this is class num 4\n",
            "this is class num 5\n",
            "this is class num 6\n",
            "this is class num 7\n",
            "this is class num 8\n",
            "this is class num 9\n",
            "this is class num 10\n",
            "this is class num 11\n",
            "5539\n"
          ],
          "name": "stdout"
        }
      ]
    },
    {
      "cell_type": "code",
      "metadata": {
        "id": "v5qcsyP1Ttvl",
        "colab_type": "code",
        "outputId": "7acb4957-3aaf-4dd5-f62c-67d479135c8b",
        "colab": {
          "base_uri": "https://localhost:8080/",
          "height": 34
        }
      },
      "source": [
        "cata=len(CATEGORIES)\n",
        "print(cata)"
      ],
      "execution_count": 24,
      "outputs": [
        {
          "output_type": "stream",
          "text": [
            "12\n"
          ],
          "name": "stdout"
        }
      ]
    },
    {
      "cell_type": "code",
      "metadata": {
        "id": "PCn4thuuTyFN",
        "colab_type": "code",
        "colab": {}
      },
      "source": [
        "#!rm -r /content/RiceDiseaseDataset"
      ],
      "execution_count": 0,
      "outputs": []
    },
    {
      "cell_type": "code",
      "metadata": {
        "id": "Oa8k9OCwSZHJ",
        "colab_type": "code",
        "colab": {}
      },
      "source": [
        " import random\n",
        " random.shuffle(training_data)"
      ],
      "execution_count": 0,
      "outputs": []
    },
    {
      "cell_type": "code",
      "metadata": {
        "id": "3SEMag5oT1Ml",
        "colab_type": "code",
        "outputId": "a9ed275b-44a6-41ba-ba06-f9ddd9033376",
        "colab": {
          "base_uri": "https://localhost:8080/",
          "height": 187
        }
      },
      "source": [
        "for sample in training_data[:10]:\n",
        "    print(sample[1])"
      ],
      "execution_count": 27,
      "outputs": [
        {
          "output_type": "stream",
          "text": [
            "3\n",
            "1\n",
            "4\n",
            "6\n",
            "3\n",
            "3\n",
            "5\n",
            "6\n",
            "7\n",
            "1\n"
          ],
          "name": "stdout"
        }
      ]
    },
    {
      "cell_type": "code",
      "metadata": {
        "id": "YxSj7LyeT46m",
        "colab_type": "code",
        "colab": {}
      },
      "source": [
        "X = []\n",
        "y = []\n",
        "\n",
        "for features,label in training_data:\n",
        "    X.append(features)\n",
        "    y.append(label)\n",
        "\n",
        "\n"
      ],
      "execution_count": 0,
      "outputs": []
    },
    {
      "cell_type": "code",
      "metadata": {
        "id": "J0ZBcJB5pqLi",
        "colab_type": "code",
        "colab": {}
      },
      "source": [
        "X = np.array(X).reshape(-1, IMG_SIZE, IMG_SIZE, 3)\n",
        "y = np.array(y)\n",
        "X=X/255.0\n"
      ],
      "execution_count": 0,
      "outputs": []
    },
    {
      "cell_type": "code",
      "metadata": {
        "id": "F23V0RlRT9MP",
        "colab_type": "code",
        "outputId": "1f22349a-1620-4a78-d563-73cdd720c4de",
        "colab": {
          "base_uri": "https://localhost:8080/",
          "height": 34
        }
      },
      "source": [
        "X.shape"
      ],
      "execution_count": 30,
      "outputs": [
        {
          "output_type": "execute_result",
          "data": {
            "text/plain": [
              "(5539, 224, 224, 3)"
            ]
          },
          "metadata": {
            "tags": []
          },
          "execution_count": 30
        }
      ]
    },
    {
      "cell_type": "code",
      "metadata": {
        "id": "7CcnQ56i8nuX",
        "colab_type": "code",
        "outputId": "92d1c8d8-e48e-422c-d108-5cf62ec51e1a",
        "colab": {
          "base_uri": "https://localhost:8080/",
          "height": 34
        }
      },
      "source": [
        "y.shape"
      ],
      "execution_count": 31,
      "outputs": [
        {
          "output_type": "execute_result",
          "data": {
            "text/plain": [
              "(5539,)"
            ]
          },
          "metadata": {
            "tags": []
          },
          "execution_count": 31
        }
      ]
    },
    {
      "cell_type": "code",
      "metadata": {
        "id": "lij7ty4aYmxm",
        "colab_type": "code",
        "colab": {}
      },
      "source": [
        "# print(y.class_indices)"
      ],
      "execution_count": 0,
      "outputs": []
    },
    {
      "cell_type": "code",
      "metadata": {
        "id": "Dzkb_GlWUB7s",
        "colab_type": "code",
        "colab": {}
      },
      "source": [
        "import keras\n",
        "import keras.utils\n",
        "from keras import utils as np_utils\n",
        "y = keras.utils.to_categorical(y, cata)"
      ],
      "execution_count": 0,
      "outputs": []
    },
    {
      "cell_type": "code",
      "metadata": {
        "id": "fI8S7b3uVHpP",
        "colab_type": "code",
        "outputId": "1b0f308e-3b17-4abb-f400-3ae143c6b8fa",
        "colab": {
          "base_uri": "https://localhost:8080/",
          "height": 34
        }
      },
      "source": [
        "y.shape"
      ],
      "execution_count": 34,
      "outputs": [
        {
          "output_type": "execute_result",
          "data": {
            "text/plain": [
              "(5539, 12)"
            ]
          },
          "metadata": {
            "tags": []
          },
          "execution_count": 34
        }
      ]
    },
    {
      "cell_type": "code",
      "metadata": {
        "id": "fKCUu7TgVMu8",
        "colab_type": "code",
        "outputId": "e22a2199-52a9-4cd2-e5e6-f655c886b334",
        "colab": {
          "base_uri": "https://localhost:8080/",
          "height": 187
        }
      },
      "source": [
        "for label in y[:10]:\n",
        "    print(label)"
      ],
      "execution_count": 35,
      "outputs": [
        {
          "output_type": "stream",
          "text": [
            "[0. 0. 0. 1. 0. 0. 0. 0. 0. 0. 0. 0.]\n",
            "[0. 1. 0. 0. 0. 0. 0. 0. 0. 0. 0. 0.]\n",
            "[0. 0. 0. 0. 1. 0. 0. 0. 0. 0. 0. 0.]\n",
            "[0. 0. 0. 0. 0. 0. 1. 0. 0. 0. 0. 0.]\n",
            "[0. 0. 0. 1. 0. 0. 0. 0. 0. 0. 0. 0.]\n",
            "[0. 0. 0. 1. 0. 0. 0. 0. 0. 0. 0. 0.]\n",
            "[0. 0. 0. 0. 0. 1. 0. 0. 0. 0. 0. 0.]\n",
            "[0. 0. 0. 0. 0. 0. 1. 0. 0. 0. 0. 0.]\n",
            "[0. 0. 0. 0. 0. 0. 0. 1. 0. 0. 0. 0.]\n",
            "[0. 1. 0. 0. 0. 0. 0. 0. 0. 0. 0. 0.]\n"
          ],
          "name": "stdout"
        }
      ]
    },
    {
      "cell_type": "code",
      "metadata": {
        "id": "d--nGHjCVQrG",
        "colab_type": "code",
        "outputId": "b04b2b7d-0c20-4de0-a2b4-c4c0636257a0",
        "colab": {
          "base_uri": "https://localhost:8080/",
          "height": 51
        }
      },
      "source": [
        "from sklearn.model_selection import train_test_split\n",
        "x_train, x_test, y_train, y_test = train_test_split(X,y, test_size=0.1,  random_state=42)\n",
        "print(y_train.shape, y_test.shape)\n",
        "print(x_train.shape, x_test.shape)"
      ],
      "execution_count": 36,
      "outputs": [
        {
          "output_type": "stream",
          "text": [
            "(4985, 12) (554, 12)\n",
            "(4985, 224, 224, 3) (554, 224, 224, 3)\n"
          ],
          "name": "stdout"
        }
      ]
    },
    {
      "cell_type": "code",
      "metadata": {
        "id": "yf3I0PNFwFf-",
        "colab_type": "code",
        "colab": {}
      },
      "source": [
        "#plt.figure()\n",
        "# fig, axs = plt.subplots(nrows=3,ncols=4, sharex='all', sharey='all', figsize=( 15,  10))\n",
        "# axs[0,0].set_title('Black-grass')\n",
        "# axs[0,0].imshow(x_train[0])\n",
        "# axs[0,1].set_title('Charlock')\n",
        "# axs[0,1].imshow(x_train[1])\n",
        "# axs[0,2].set_title('Cleavers')\n",
        "# axs[0,2].imshow(x_train[2])\n",
        "# axs[0,3].set_title('Common Chickweed')\n",
        "# axs[0,3].imshow(x_train[3])\n",
        "# axs[1,0].set_title('Common wheat')\n",
        "# axs[1,0].imshow(x_train[4])\n",
        "# axs[1,1].set_title('Fat Hen')\n",
        "# axs[1,1].imshow(x_train[5])\n",
        "# axs[1,2].set_title('Loose Silky-bent')\n",
        "# axs[1,2].imshow(x_train[6])\n",
        "# axs[1,3].set_title('Maize')\n",
        "# axs[1,3].imshow(x_train[7])\n",
        "# axs[2,0].set_title('Scentless Mayweed')\n",
        "# axs[2,0].imshow(x_train[8])\n",
        "# axs[2,1].set_title('ShepherdΓÇÖs Purse')\n",
        "# axs[2,1].imshow(x_train[9])\n",
        "# axs[2,2].set_title('Small-flowered Cranesbill')\n",
        "# axs[2,2].imshow(x_train[10])\n",
        "# axs[2,3].set_title('Sugar beet')\n",
        "# axs[2,3].imshow(x_train[11])\n",
        "\n",
        "# ******************************************\n",
        "\n",
        "# plt.subplot(3,4,1)\n",
        "# # plt.imshow(x_train[2])\n",
        "# #axs[0,0].title('Cleavers')\n",
        "# #plt.show()\n",
        "# #\n",
        "# #plt.figure()\n",
        "# plt.subplot(3,4,2)\n",
        "# plt.imshow(x_train[3])\n",
        "# plt.title('Common Chickweed')\n",
        "\n",
        "# #plt.figure()\n",
        "# plt.subplot(3,4,3)\n",
        "# plt.imshow(x_train[3])\n",
        "# plt.title('Common Chickweed')\n",
        "\n",
        "# #plt.figure()\n",
        "# plt.subplot(3,4,4)\n",
        "# plt.imshow(x_train[3])\n",
        "# plt.title('Common Chickweed')\n",
        "\n",
        "# plt.subplot(3,4,5)\n",
        "# plt.imshow(x_train[3])\n",
        "# plt.title('Common Chickweed')"
      ],
      "execution_count": 0,
      "outputs": []
    },
    {
      "cell_type": "code",
      "metadata": {
        "id": "RX7hH2-i6K_z",
        "colab_type": "code",
        "colab": {}
      },
      "source": [
        "del X\n",
        "del y"
      ],
      "execution_count": 0,
      "outputs": []
    },
    {
      "cell_type": "code",
      "metadata": {
        "id": "o0Z8Q8xP5pYO",
        "colab_type": "code",
        "colab": {}
      },
      "source": [
        "# import argparse\n",
        "# ap = argparse.ArgumentParser()\n",
        "# ap.add_argument(\"-d\", \"--dataset\", required=True,\n",
        "# \thelp=\"path to input dataset\")\n",
        "# ap.add_argument(\"-a\", \"--augment\", type=int, default=-1,\n",
        "# \thelp=\"whether or not 'on the fly' data augmentation should be used\")\n",
        "# ap.add_argument(\"-p\", \"--plot\", type=str, default=\"plot.png\",\n",
        "# \thelp=\"path to output loss/accuracy plot\")\n",
        "# args = vars(ap.parse_args())"
      ],
      "execution_count": 0,
      "outputs": []
    },
    {
      "cell_type": "code",
      "metadata": {
        "id": "SePgwJe44bWk",
        "colab_type": "code",
        "colab": {}
      },
      "source": [
        "from keras.preprocessing.image import ImageDataGenerator\n",
        "#aug = ImageDataGenerator()"
      ],
      "execution_count": 0,
      "outputs": []
    },
    {
      "cell_type": "code",
      "metadata": {
        "id": "-LH44O915HVm",
        "colab_type": "code",
        "colab": {}
      },
      "source": [
        "# if args[\"augment\"] > 0:\n",
        "# \tprint(\"[INFO] performing 'on the fly' data augmentation\")\n",
        "gen = ImageDataGenerator(\n",
        "\t\trotation_range=20,\n",
        "\t\tzoom_range=0.1,\n",
        "\t\twidth_shift_range=0.1,\n",
        "\t\theight_shift_range=0.1,\n",
        "\t\tshear_range=0.15,\n",
        "\t\thorizontal_flip=True,\n",
        "\t\tfill_mode=\"nearest\")"
      ],
      "execution_count": 0,
      "outputs": []
    },
    {
      "cell_type": "code",
      "metadata": {
        "id": "_wUP_2TaVfAg",
        "colab_type": "code",
        "colab": {}
      },
      "source": [
        "# plt.figure(figsize=[5,5])\n",
        "\n",
        "# # Display the first image in training data\n",
        "# plt.subplot(121)\n",
        "# plt.imshow(x_train[0,:,:,:])\n",
        "# plt.title(\"Training Data : {}\".format(x_train[0]))\n",
        "\n",
        "# # Display the first image in testing data\n",
        "# plt.subplot(122)\n",
        "# plt.imshow(x_test[0,:,:,:])\n",
        "# plt.title(\"Testing Data : {}\".format(x_test[0]))"
      ],
      "execution_count": 0,
      "outputs": []
    },
    {
      "cell_type": "code",
      "metadata": {
        "id": "wNGF186NViBA",
        "colab_type": "code",
        "outputId": "20b62e90-c111-4765-e67a-3ccc7aa935aa",
        "colab": {
          "base_uri": "https://localhost:8080/",
          "height": 51
        }
      },
      "source": [
        "from sklearn.model_selection import train_test_split\n",
        "train_X,valid_X,train_label,valid_label = train_test_split(x_train, y_train, test_size=0.11, random_state=50)\n",
        "print(train_X.shape, valid_X.shape)\n",
        "print(train_label.shape, valid_label.shape)"
      ],
      "execution_count": 43,
      "outputs": [
        {
          "output_type": "stream",
          "text": [
            "(4436, 224, 224, 3) (549, 224, 224, 3)\n",
            "(4436, 12) (549, 12)\n"
          ],
          "name": "stdout"
        }
      ]
    },
    {
      "cell_type": "code",
      "metadata": {
        "id": "mZ8Gn1yT5SgF",
        "colab_type": "code",
        "colab": {}
      },
      "source": [
        "del x_train\n",
        "del y_train"
      ],
      "execution_count": 0,
      "outputs": []
    },
    {
      "cell_type": "code",
      "metadata": {
        "id": "3kmB3FYAVlFY",
        "colab_type": "code",
        "outputId": "8e5c9308-be5c-4bc4-bc55-8f7a8aa651d6",
        "colab": {
          "base_uri": "https://localhost:8080/",
          "height": 34
        }
      },
      "source": [
        "train_X.shape,valid_X.shape,train_label.shape,valid_label.shape"
      ],
      "execution_count": 45,
      "outputs": [
        {
          "output_type": "execute_result",
          "data": {
            "text/plain": [
              "((4436, 224, 224, 3), (549, 224, 224, 3), (4436, 12), (549, 12))"
            ]
          },
          "metadata": {
            "tags": []
          },
          "execution_count": 45
        }
      ]
    },
    {
      "cell_type": "markdown",
      "metadata": {
        "id": "HgFZnyDh5nZO",
        "colab_type": "text"
      },
      "source": [
        "# ResNet-50"
      ]
    },
    {
      "cell_type": "code",
      "metadata": {
        "id": "o8j3dm3SRvb2",
        "colab_type": "code",
        "colab": {}
      },
      "source": [
        "import keras\n",
        "from keras.models import Sequential,Input,Model\n",
        "from keras.layers import Dense, Dropout, Flatten\n",
        "from keras.layers import Conv2D, MaxPooling2D\n",
        "from keras.layers.normalization import BatchNormalization\n",
        "from keras.layers.advanced_activations import LeakyReLU"
      ],
      "execution_count": 0,
      "outputs": []
    },
    {
      "cell_type": "code",
      "metadata": {
        "id": "9h_sY4j7RyGd",
        "colab_type": "code",
        "colab": {}
      },
      "source": [
        "batch_size = 20\n",
        "epochs = 150"
      ],
      "execution_count": 0,
      "outputs": []
    },
    {
      "cell_type": "code",
      "metadata": {
        "id": "VGF1ql0FR0XH",
        "colab_type": "code",
        "colab": {}
      },
      "source": [
        "from keras.initializers import glorot_uniform\n",
        "\n",
        "\n",
        "def identity_block(input_tensor, kernel_size, filters, stage, block):\n",
        "    \"\"\" \n",
        "    An identity block.\n",
        "\n",
        "    Parameters\n",
        "    ----------\n",
        "    input_tensor:\n",
        "\n",
        "    kernel_size: int\n",
        "        The kernel size of middle conv layer at main path.\n",
        "\n",
        "    filters: list[int]\n",
        "        The filters of 3 conv layer at main path.\n",
        "\n",
        "    stage: int\n",
        "        Current stage label, used for generating layer names.\n",
        "\n",
        "    block: : str\n",
        "        'a','b'..., current block label, used for generating layer names.\n",
        "\n",
        "    Returns\n",
        "    -------\n",
        "    Output tensor for the block.\n",
        "    \"\"\"\n",
        "    conv_name_base = 'res' + str(stage) + block + '_branch'\n",
        "    bn_name_base = 'bn' + str(stage) + block + '_branch'\n",
        "    \n",
        "    # for batch normalization layer, we assume\n",
        "    # the input data is in channel last format\n",
        "    bn_axis = 3\n",
        "\n",
        "    filters1, filters2, filters3 = filters\n",
        "  \n",
        "    # main path, note that setting the kernel_initializer seed here is only used\n",
        "    # for reproducibility, we techniqually don't need it\n",
        "    x = layers.Conv2D(filters1, kernel_size=(1, 1), strides=(1, 1),\n",
        "                      kernel_initializer=glorot_uniform(seed=0),\n",
        "                      padding='valid', name=conv_name_base + '2a')(input_tensor)\n",
        "    x = layers.BatchNormalization(axis=bn_axis, name=bn_name_base + '2a')(x)\n",
        "    x = layers.Activation('relu')(x)\n",
        "\n",
        "    x = layers.Conv2D(filters2, kernel_size, strides=(1, 1),\n",
        "                      kernel_initializer=glorot_uniform(seed=0),\n",
        "                      padding='same', name=conv_name_base + '2b')(x)\n",
        "    x = layers.BatchNormalization(axis=bn_axis, name=bn_name_base + '2b')(x)\n",
        "    x = layers.Activation('relu')(x)\n",
        "\n",
        "    x = layers.Conv2D(filters3, kernel_size=(1, 1), strides=(1, 1),\n",
        "                      kernel_initializer=glorot_uniform(seed=0),\n",
        "                      padding='valid', name=conv_name_base + '2c')(x)\n",
        "    x = layers.BatchNormalization(axis=bn_axis, name=bn_name_base + '2c')(x)\n",
        "\n",
        "    # this line is the core component of resnet, the skip connection, i.e.\n",
        "    # having a shortcut to the main path before the activation, when addition\n",
        "    # is performed on convolutional layers, the element-wise addition is performed\n",
        "    # on their feature maps, i.e. channel by channel\n",
        "    x = layers.add([x, input_tensor])\n",
        "    x = layers.Activation('relu')(x)\n",
        "    return x"
      ],
      "execution_count": 0,
      "outputs": []
    },
    {
      "cell_type": "code",
      "metadata": {
        "id": "7_r5r0bMqZ3l",
        "colab_type": "code",
        "colab": {}
      },
      "source": [
        "def conv_block(input_tensor, kernel_size, filters, stage, block, strides=(2, 2)):\n",
        "    \"\"\" \n",
        "    A block that has a conv layer at shortcut.\n",
        "\n",
        "    Parameters\n",
        "    ----------\n",
        "    input_tensor:\n",
        "    \n",
        "    kernel_size: int\n",
        "        The kernel size of middle conv layer at main path.\n",
        "\n",
        "    filters: list[int]\n",
        "        The filters of 3 conv layer at main path.\n",
        "\n",
        "    stage: int\n",
        "        Current stage label, used for generating layer names.\n",
        "\n",
        "    block: : str\n",
        "        'a','b'..., current block label, used for generating layer names.\n",
        "        \n",
        "    strides : tuple, default (2, 2)\n",
        "        Strides for the first conv layer in the block.\n",
        "\n",
        "    Returns\n",
        "    -------\n",
        "    Output tensor for the block.\n",
        "    \"\"\"\n",
        "    conv_name_base = 'res' + str(stage) + block + '_branch'\n",
        "    bn_name_base = 'bn' + str(stage) + block + '_branch'\n",
        "    \n",
        "    # for batch normalization layer, we assume\n",
        "    # the input data is in channel last format,\n",
        "    # which is the case if we are using the default\n",
        "    # keras' backend tensorflow\n",
        "    bn_axis = 3\n",
        "\n",
        "    filters1, filters2, filters3 = filters\n",
        "  \n",
        "    # main path, note that setting the kernel_initializer set here is only used\n",
        "    # for reproducibility, we techniqually don't need it\n",
        "    #filters=[64,64,26]=filters1\n",
        "    x = layers.Conv2D(filters1, kernel_size=(1, 1), strides=strides,\n",
        "                      kernel_initializer=glorot_uniform(seed=0),\n",
        "                      padding='valid', name=conv_name_base + '2a')(input_tensor)\n",
        "    x = layers.BatchNormalization(axis=bn_axis, name=bn_name_base + '2a')(x)\n",
        "    x = layers.Activation('relu')(x)\n",
        "\n",
        "    x = layers.Conv2D(filters2, kernel_size, strides=(1, 1),\n",
        "                      kernel_initializer=glorot_uniform(seed=0),\n",
        "                      padding='same', name=conv_name_base + '2b')(x)\n",
        "    x = layers.BatchNormalization(axis=bn_axis, name=bn_name_base + '2b')(x)\n",
        "    x = layers.Activation('relu')(x)\n",
        "\n",
        "    x = layers.Conv2D(filters3, kernel_size=(1, 1), strides=(1, 1),\n",
        "                      kernel_initializer=glorot_uniform(seed=0),\n",
        "                      padding='valid', name=conv_name_base + '2c')(x)\n",
        "    x = layers.BatchNormalization(axis=bn_axis, name=bn_name_base + '2c')(x)\n",
        "    \n",
        "    # we resize the input so its dimension will match the output dimension\n",
        "    # of the main path\n",
        "    shortcut = layers.Conv2D(filters3, kernel_size=(1, 1), strides=strides,\n",
        "                             kernel_initializer=glorot_uniform(seed=0),\n",
        "                             padding='valid', name=conv_name_base + '1')(input_tensor)\n",
        "    shortcut = layers.BatchNormalization(axis=bn_axis, name=bn_name_base + '1')(shortcut) \n",
        "\n",
        "    # this line is the core component of resnet, the skip connection, i.e.\n",
        "    # having a shortcut to the main path before the activation\n",
        "    x = layers.add([x, shortcut])\n",
        "    x = layers.Activation('relu')(x)\n",
        "    return x"
      ],
      "execution_count": 0,
      "outputs": []
    },
    {
      "cell_type": "code",
      "metadata": {
        "id": "cx8v5Hr6qeVy",
        "colab_type": "code",
        "colab": {}
      },
      "source": [
        "n_classes = 12\n",
        "img_rows, img_cols = 224, 224\n",
        "input_shape = img_rows, img_cols, 3"
      ],
      "execution_count": 0,
      "outputs": []
    },
    {
      "cell_type": "code",
      "metadata": {
        "id": "5vpdkaahqhLE",
        "colab_type": "code",
        "colab": {}
      },
      "source": [
        "from keras import layers\n",
        "def ResNet(input_shape, n_classes):\n",
        "    \"\"\"\n",
        "    Definition of ResNet\n",
        "    \n",
        "    References\n",
        "    ----------\n",
        "    https://github.com/keras-team/keras-applications/blob/master/keras_applications/resnet50.py\n",
        "    \"\"\"\n",
        "    img_input = layers.Input(shape=input_shape)\n",
        "    \n",
        "    bn_axis = 3\n",
        "    \n",
        "    x = layers.ZeroPadding2D(padding=(3, 3), name='conv1_pad')(img_input)\n",
        "    x = layers.Conv2D(64, (7, 7),\n",
        "                      strides=(2, 2),\n",
        "                      padding='valid',\n",
        "                      kernel_initializer='he_normal',\n",
        "                      name='conv1')(x)\n",
        "    x = layers.BatchNormalization(axis=bn_axis, name='bn_conv1')(x)\n",
        "    x = layers.Activation('relu')(x)\n",
        "    x = layers.ZeroPadding2D(padding=(1, 1), name='pool1_pad')(x)\n",
        "    x = layers.MaxPooling2D((3, 3), strides=(2, 2))(x)\n",
        "\n",
        "    x = conv_block(x, 3, [64, 64, 256], stage=2, block='a', strides=(1, 1))\n",
        "    x = identity_block(x, 3, [64, 64, 256], stage=2, block='b')\n",
        "    x = identity_block(x, 3, [64, 64, 256], stage=2, block='c')\n",
        "\n",
        "    x = conv_block(x, 3, [128, 128, 512], stage=3, block='a')\n",
        "    x = identity_block(x, 3, [128, 128, 512], stage=3, block='b')\n",
        "    x = identity_block(x, 3, [128, 128, 512], stage=3, block='c')\n",
        "    x = identity_block(x, 3, [128, 128, 512], stage=3, block='d')\n",
        "    \n",
        "    # the commented out blocks are what's needed to build out the\n",
        "    # full ResNet50 (a ResNet with 50 layers), we won't be needing\n",
        "    # the complexity here\n",
        "    x = conv_block(x, 3, [256, 256, 1024], stage=4, block='a')\n",
        "    x = identity_block(x, 3, [256, 256, 1024], stage=4, block='b')\n",
        "    x = identity_block(x, 3, [256, 256, 1024], stage=4, block='c')\n",
        "    x = identity_block(x, 3, [256, 256, 1024], stage=4, block='d')\n",
        "    x = identity_block(x, 3, [256, 256, 1024], stage=4, block='e')\n",
        "    x = identity_block(x, 3, [256, 256, 1024], stage=4, block='f')\n",
        "\n",
        "    x = conv_block(x, 3, [512, 512, 2048], stage=5, block='a')\n",
        "    x = identity_block(x, 3, [512, 512, 2048], stage=5, block='b')\n",
        "    x = identity_block(x, 3, [512, 512, 2048], stage=5, block='c')\n",
        "    \n",
        "    x = layers.GlobalAveragePooling2D(name='avg_pool')(x)\n",
        "    img_output = layers.Dense(n_classes, activation='softmax', name='fc' + str(n_classes))(x)\n",
        "\n",
        "    # model = Model(inputs=img_input, outputs=img_output, name='resnet')\n",
        "    # return model\n",
        "    return Model(img_input, img_output)"
      ],
      "execution_count": 0,
      "outputs": []
    },
    {
      "cell_type": "code",
      "metadata": {
        "id": "5GKVTjVWqkxd",
        "colab_type": "code",
        "colab": {}
      },
      "source": [
        "model=ResNet(input_shape, n_classes)"
      ],
      "execution_count": 0,
      "outputs": []
    },
    {
      "cell_type": "code",
      "metadata": {
        "id": "oTGuBemhepEM",
        "colab_type": "code",
        "outputId": "093b81ca-26d9-46c4-ac5f-9e1dc5c608c0",
        "colab": {
          "base_uri": "https://localhost:8080/",
          "height": 34
        }
      },
      "source": [
        "print(type(model))"
      ],
      "execution_count": 53,
      "outputs": [
        {
          "output_type": "stream",
          "text": [
            "<class 'keras.engine.training.Model'>\n"
          ],
          "name": "stdout"
        }
      ]
    },
    {
      "cell_type": "code",
      "metadata": {
        "id": "6CnBDnKYeuKW",
        "colab_type": "code",
        "outputId": "45b705e0-880c-4a61-dd64-b17d625d7dce",
        "colab": {
          "base_uri": "https://localhost:8080/",
          "height": 1000
        }
      },
      "source": [
        "print(model.summary())"
      ],
      "execution_count": 54,
      "outputs": [
        {
          "output_type": "stream",
          "text": [
            "Model: \"model_1\"\n",
            "__________________________________________________________________________________________________\n",
            "Layer (type)                    Output Shape         Param #     Connected to                     \n",
            "==================================================================================================\n",
            "input_1 (InputLayer)            (None, 224, 224, 3)  0                                            \n",
            "__________________________________________________________________________________________________\n",
            "conv1_pad (ZeroPadding2D)       (None, 230, 230, 3)  0           input_1[0][0]                    \n",
            "__________________________________________________________________________________________________\n",
            "conv1 (Conv2D)                  (None, 112, 112, 64) 9472        conv1_pad[0][0]                  \n",
            "__________________________________________________________________________________________________\n",
            "bn_conv1 (BatchNormalization)   (None, 112, 112, 64) 256         conv1[0][0]                      \n",
            "__________________________________________________________________________________________________\n",
            "activation_1 (Activation)       (None, 112, 112, 64) 0           bn_conv1[0][0]                   \n",
            "__________________________________________________________________________________________________\n",
            "pool1_pad (ZeroPadding2D)       (None, 114, 114, 64) 0           activation_1[0][0]               \n",
            "__________________________________________________________________________________________________\n",
            "max_pooling2d_1 (MaxPooling2D)  (None, 56, 56, 64)   0           pool1_pad[0][0]                  \n",
            "__________________________________________________________________________________________________\n",
            "res2a_branch2a (Conv2D)         (None, 56, 56, 64)   4160        max_pooling2d_1[0][0]            \n",
            "__________________________________________________________________________________________________\n",
            "bn2a_branch2a (BatchNormalizati (None, 56, 56, 64)   256         res2a_branch2a[0][0]             \n",
            "__________________________________________________________________________________________________\n",
            "activation_2 (Activation)       (None, 56, 56, 64)   0           bn2a_branch2a[0][0]              \n",
            "__________________________________________________________________________________________________\n",
            "res2a_branch2b (Conv2D)         (None, 56, 56, 64)   36928       activation_2[0][0]               \n",
            "__________________________________________________________________________________________________\n",
            "bn2a_branch2b (BatchNormalizati (None, 56, 56, 64)   256         res2a_branch2b[0][0]             \n",
            "__________________________________________________________________________________________________\n",
            "activation_3 (Activation)       (None, 56, 56, 64)   0           bn2a_branch2b[0][0]              \n",
            "__________________________________________________________________________________________________\n",
            "res2a_branch2c (Conv2D)         (None, 56, 56, 256)  16640       activation_3[0][0]               \n",
            "__________________________________________________________________________________________________\n",
            "res2a_branch1 (Conv2D)          (None, 56, 56, 256)  16640       max_pooling2d_1[0][0]            \n",
            "__________________________________________________________________________________________________\n",
            "bn2a_branch2c (BatchNormalizati (None, 56, 56, 256)  1024        res2a_branch2c[0][0]             \n",
            "__________________________________________________________________________________________________\n",
            "bn2a_branch1 (BatchNormalizatio (None, 56, 56, 256)  1024        res2a_branch1[0][0]              \n",
            "__________________________________________________________________________________________________\n",
            "add_1 (Add)                     (None, 56, 56, 256)  0           bn2a_branch2c[0][0]              \n",
            "                                                                 bn2a_branch1[0][0]               \n",
            "__________________________________________________________________________________________________\n",
            "activation_4 (Activation)       (None, 56, 56, 256)  0           add_1[0][0]                      \n",
            "__________________________________________________________________________________________________\n",
            "res2b_branch2a (Conv2D)         (None, 56, 56, 64)   16448       activation_4[0][0]               \n",
            "__________________________________________________________________________________________________\n",
            "bn2b_branch2a (BatchNormalizati (None, 56, 56, 64)   256         res2b_branch2a[0][0]             \n",
            "__________________________________________________________________________________________________\n",
            "activation_5 (Activation)       (None, 56, 56, 64)   0           bn2b_branch2a[0][0]              \n",
            "__________________________________________________________________________________________________\n",
            "res2b_branch2b (Conv2D)         (None, 56, 56, 64)   36928       activation_5[0][0]               \n",
            "__________________________________________________________________________________________________\n",
            "bn2b_branch2b (BatchNormalizati (None, 56, 56, 64)   256         res2b_branch2b[0][0]             \n",
            "__________________________________________________________________________________________________\n",
            "activation_6 (Activation)       (None, 56, 56, 64)   0           bn2b_branch2b[0][0]              \n",
            "__________________________________________________________________________________________________\n",
            "res2b_branch2c (Conv2D)         (None, 56, 56, 256)  16640       activation_6[0][0]               \n",
            "__________________________________________________________________________________________________\n",
            "bn2b_branch2c (BatchNormalizati (None, 56, 56, 256)  1024        res2b_branch2c[0][0]             \n",
            "__________________________________________________________________________________________________\n",
            "add_2 (Add)                     (None, 56, 56, 256)  0           bn2b_branch2c[0][0]              \n",
            "                                                                 activation_4[0][0]               \n",
            "__________________________________________________________________________________________________\n",
            "activation_7 (Activation)       (None, 56, 56, 256)  0           add_2[0][0]                      \n",
            "__________________________________________________________________________________________________\n",
            "res2c_branch2a (Conv2D)         (None, 56, 56, 64)   16448       activation_7[0][0]               \n",
            "__________________________________________________________________________________________________\n",
            "bn2c_branch2a (BatchNormalizati (None, 56, 56, 64)   256         res2c_branch2a[0][0]             \n",
            "__________________________________________________________________________________________________\n",
            "activation_8 (Activation)       (None, 56, 56, 64)   0           bn2c_branch2a[0][0]              \n",
            "__________________________________________________________________________________________________\n",
            "res2c_branch2b (Conv2D)         (None, 56, 56, 64)   36928       activation_8[0][0]               \n",
            "__________________________________________________________________________________________________\n",
            "bn2c_branch2b (BatchNormalizati (None, 56, 56, 64)   256         res2c_branch2b[0][0]             \n",
            "__________________________________________________________________________________________________\n",
            "activation_9 (Activation)       (None, 56, 56, 64)   0           bn2c_branch2b[0][0]              \n",
            "__________________________________________________________________________________________________\n",
            "res2c_branch2c (Conv2D)         (None, 56, 56, 256)  16640       activation_9[0][0]               \n",
            "__________________________________________________________________________________________________\n",
            "bn2c_branch2c (BatchNormalizati (None, 56, 56, 256)  1024        res2c_branch2c[0][0]             \n",
            "__________________________________________________________________________________________________\n",
            "add_3 (Add)                     (None, 56, 56, 256)  0           bn2c_branch2c[0][0]              \n",
            "                                                                 activation_7[0][0]               \n",
            "__________________________________________________________________________________________________\n",
            "activation_10 (Activation)      (None, 56, 56, 256)  0           add_3[0][0]                      \n",
            "__________________________________________________________________________________________________\n",
            "res3a_branch2a (Conv2D)         (None, 28, 28, 128)  32896       activation_10[0][0]              \n",
            "__________________________________________________________________________________________________\n",
            "bn3a_branch2a (BatchNormalizati (None, 28, 28, 128)  512         res3a_branch2a[0][0]             \n",
            "__________________________________________________________________________________________________\n",
            "activation_11 (Activation)      (None, 28, 28, 128)  0           bn3a_branch2a[0][0]              \n",
            "__________________________________________________________________________________________________\n",
            "res3a_branch2b (Conv2D)         (None, 28, 28, 128)  147584      activation_11[0][0]              \n",
            "__________________________________________________________________________________________________\n",
            "bn3a_branch2b (BatchNormalizati (None, 28, 28, 128)  512         res3a_branch2b[0][0]             \n",
            "__________________________________________________________________________________________________\n",
            "activation_12 (Activation)      (None, 28, 28, 128)  0           bn3a_branch2b[0][0]              \n",
            "__________________________________________________________________________________________________\n",
            "res3a_branch2c (Conv2D)         (None, 28, 28, 512)  66048       activation_12[0][0]              \n",
            "__________________________________________________________________________________________________\n",
            "res3a_branch1 (Conv2D)          (None, 28, 28, 512)  131584      activation_10[0][0]              \n",
            "__________________________________________________________________________________________________\n",
            "bn3a_branch2c (BatchNormalizati (None, 28, 28, 512)  2048        res3a_branch2c[0][0]             \n",
            "__________________________________________________________________________________________________\n",
            "bn3a_branch1 (BatchNormalizatio (None, 28, 28, 512)  2048        res3a_branch1[0][0]              \n",
            "__________________________________________________________________________________________________\n",
            "add_4 (Add)                     (None, 28, 28, 512)  0           bn3a_branch2c[0][0]              \n",
            "                                                                 bn3a_branch1[0][0]               \n",
            "__________________________________________________________________________________________________\n",
            "activation_13 (Activation)      (None, 28, 28, 512)  0           add_4[0][0]                      \n",
            "__________________________________________________________________________________________________\n",
            "res3b_branch2a (Conv2D)         (None, 28, 28, 128)  65664       activation_13[0][0]              \n",
            "__________________________________________________________________________________________________\n",
            "bn3b_branch2a (BatchNormalizati (None, 28, 28, 128)  512         res3b_branch2a[0][0]             \n",
            "__________________________________________________________________________________________________\n",
            "activation_14 (Activation)      (None, 28, 28, 128)  0           bn3b_branch2a[0][0]              \n",
            "__________________________________________________________________________________________________\n",
            "res3b_branch2b (Conv2D)         (None, 28, 28, 128)  147584      activation_14[0][0]              \n",
            "__________________________________________________________________________________________________\n",
            "bn3b_branch2b (BatchNormalizati (None, 28, 28, 128)  512         res3b_branch2b[0][0]             \n",
            "__________________________________________________________________________________________________\n",
            "activation_15 (Activation)      (None, 28, 28, 128)  0           bn3b_branch2b[0][0]              \n",
            "__________________________________________________________________________________________________\n",
            "res3b_branch2c (Conv2D)         (None, 28, 28, 512)  66048       activation_15[0][0]              \n",
            "__________________________________________________________________________________________________\n",
            "bn3b_branch2c (BatchNormalizati (None, 28, 28, 512)  2048        res3b_branch2c[0][0]             \n",
            "__________________________________________________________________________________________________\n",
            "add_5 (Add)                     (None, 28, 28, 512)  0           bn3b_branch2c[0][0]              \n",
            "                                                                 activation_13[0][0]              \n",
            "__________________________________________________________________________________________________\n",
            "activation_16 (Activation)      (None, 28, 28, 512)  0           add_5[0][0]                      \n",
            "__________________________________________________________________________________________________\n",
            "res3c_branch2a (Conv2D)         (None, 28, 28, 128)  65664       activation_16[0][0]              \n",
            "__________________________________________________________________________________________________\n",
            "bn3c_branch2a (BatchNormalizati (None, 28, 28, 128)  512         res3c_branch2a[0][0]             \n",
            "__________________________________________________________________________________________________\n",
            "activation_17 (Activation)      (None, 28, 28, 128)  0           bn3c_branch2a[0][0]              \n",
            "__________________________________________________________________________________________________\n",
            "res3c_branch2b (Conv2D)         (None, 28, 28, 128)  147584      activation_17[0][0]              \n",
            "__________________________________________________________________________________________________\n",
            "bn3c_branch2b (BatchNormalizati (None, 28, 28, 128)  512         res3c_branch2b[0][0]             \n",
            "__________________________________________________________________________________________________\n",
            "activation_18 (Activation)      (None, 28, 28, 128)  0           bn3c_branch2b[0][0]              \n",
            "__________________________________________________________________________________________________\n",
            "res3c_branch2c (Conv2D)         (None, 28, 28, 512)  66048       activation_18[0][0]              \n",
            "__________________________________________________________________________________________________\n",
            "bn3c_branch2c (BatchNormalizati (None, 28, 28, 512)  2048        res3c_branch2c[0][0]             \n",
            "__________________________________________________________________________________________________\n",
            "add_6 (Add)                     (None, 28, 28, 512)  0           bn3c_branch2c[0][0]              \n",
            "                                                                 activation_16[0][0]              \n",
            "__________________________________________________________________________________________________\n",
            "activation_19 (Activation)      (None, 28, 28, 512)  0           add_6[0][0]                      \n",
            "__________________________________________________________________________________________________\n",
            "res3d_branch2a (Conv2D)         (None, 28, 28, 128)  65664       activation_19[0][0]              \n",
            "__________________________________________________________________________________________________\n",
            "bn3d_branch2a (BatchNormalizati (None, 28, 28, 128)  512         res3d_branch2a[0][0]             \n",
            "__________________________________________________________________________________________________\n",
            "activation_20 (Activation)      (None, 28, 28, 128)  0           bn3d_branch2a[0][0]              \n",
            "__________________________________________________________________________________________________\n",
            "res3d_branch2b (Conv2D)         (None, 28, 28, 128)  147584      activation_20[0][0]              \n",
            "__________________________________________________________________________________________________\n",
            "bn3d_branch2b (BatchNormalizati (None, 28, 28, 128)  512         res3d_branch2b[0][0]             \n",
            "__________________________________________________________________________________________________\n",
            "activation_21 (Activation)      (None, 28, 28, 128)  0           bn3d_branch2b[0][0]              \n",
            "__________________________________________________________________________________________________\n",
            "res3d_branch2c (Conv2D)         (None, 28, 28, 512)  66048       activation_21[0][0]              \n",
            "__________________________________________________________________________________________________\n",
            "bn3d_branch2c (BatchNormalizati (None, 28, 28, 512)  2048        res3d_branch2c[0][0]             \n",
            "__________________________________________________________________________________________________\n",
            "add_7 (Add)                     (None, 28, 28, 512)  0           bn3d_branch2c[0][0]              \n",
            "                                                                 activation_19[0][0]              \n",
            "__________________________________________________________________________________________________\n",
            "activation_22 (Activation)      (None, 28, 28, 512)  0           add_7[0][0]                      \n",
            "__________________________________________________________________________________________________\n",
            "res4a_branch2a (Conv2D)         (None, 14, 14, 256)  131328      activation_22[0][0]              \n",
            "__________________________________________________________________________________________________\n",
            "bn4a_branch2a (BatchNormalizati (None, 14, 14, 256)  1024        res4a_branch2a[0][0]             \n",
            "__________________________________________________________________________________________________\n",
            "activation_23 (Activation)      (None, 14, 14, 256)  0           bn4a_branch2a[0][0]              \n",
            "__________________________________________________________________________________________________\n",
            "res4a_branch2b (Conv2D)         (None, 14, 14, 256)  590080      activation_23[0][0]              \n",
            "__________________________________________________________________________________________________\n",
            "bn4a_branch2b (BatchNormalizati (None, 14, 14, 256)  1024        res4a_branch2b[0][0]             \n",
            "__________________________________________________________________________________________________\n",
            "activation_24 (Activation)      (None, 14, 14, 256)  0           bn4a_branch2b[0][0]              \n",
            "__________________________________________________________________________________________________\n",
            "res4a_branch2c (Conv2D)         (None, 14, 14, 1024) 263168      activation_24[0][0]              \n",
            "__________________________________________________________________________________________________\n",
            "res4a_branch1 (Conv2D)          (None, 14, 14, 1024) 525312      activation_22[0][0]              \n",
            "__________________________________________________________________________________________________\n",
            "bn4a_branch2c (BatchNormalizati (None, 14, 14, 1024) 4096        res4a_branch2c[0][0]             \n",
            "__________________________________________________________________________________________________\n",
            "bn4a_branch1 (BatchNormalizatio (None, 14, 14, 1024) 4096        res4a_branch1[0][0]              \n",
            "__________________________________________________________________________________________________\n",
            "add_8 (Add)                     (None, 14, 14, 1024) 0           bn4a_branch2c[0][0]              \n",
            "                                                                 bn4a_branch1[0][0]               \n",
            "__________________________________________________________________________________________________\n",
            "activation_25 (Activation)      (None, 14, 14, 1024) 0           add_8[0][0]                      \n",
            "__________________________________________________________________________________________________\n",
            "res4b_branch2a (Conv2D)         (None, 14, 14, 256)  262400      activation_25[0][0]              \n",
            "__________________________________________________________________________________________________\n",
            "bn4b_branch2a (BatchNormalizati (None, 14, 14, 256)  1024        res4b_branch2a[0][0]             \n",
            "__________________________________________________________________________________________________\n",
            "activation_26 (Activation)      (None, 14, 14, 256)  0           bn4b_branch2a[0][0]              \n",
            "__________________________________________________________________________________________________\n",
            "res4b_branch2b (Conv2D)         (None, 14, 14, 256)  590080      activation_26[0][0]              \n",
            "__________________________________________________________________________________________________\n",
            "bn4b_branch2b (BatchNormalizati (None, 14, 14, 256)  1024        res4b_branch2b[0][0]             \n",
            "__________________________________________________________________________________________________\n",
            "activation_27 (Activation)      (None, 14, 14, 256)  0           bn4b_branch2b[0][0]              \n",
            "__________________________________________________________________________________________________\n",
            "res4b_branch2c (Conv2D)         (None, 14, 14, 1024) 263168      activation_27[0][0]              \n",
            "__________________________________________________________________________________________________\n",
            "bn4b_branch2c (BatchNormalizati (None, 14, 14, 1024) 4096        res4b_branch2c[0][0]             \n",
            "__________________________________________________________________________________________________\n",
            "add_9 (Add)                     (None, 14, 14, 1024) 0           bn4b_branch2c[0][0]              \n",
            "                                                                 activation_25[0][0]              \n",
            "__________________________________________________________________________________________________\n",
            "activation_28 (Activation)      (None, 14, 14, 1024) 0           add_9[0][0]                      \n",
            "__________________________________________________________________________________________________\n",
            "res4c_branch2a (Conv2D)         (None, 14, 14, 256)  262400      activation_28[0][0]              \n",
            "__________________________________________________________________________________________________\n",
            "bn4c_branch2a (BatchNormalizati (None, 14, 14, 256)  1024        res4c_branch2a[0][0]             \n",
            "__________________________________________________________________________________________________\n",
            "activation_29 (Activation)      (None, 14, 14, 256)  0           bn4c_branch2a[0][0]              \n",
            "__________________________________________________________________________________________________\n",
            "res4c_branch2b (Conv2D)         (None, 14, 14, 256)  590080      activation_29[0][0]              \n",
            "__________________________________________________________________________________________________\n",
            "bn4c_branch2b (BatchNormalizati (None, 14, 14, 256)  1024        res4c_branch2b[0][0]             \n",
            "__________________________________________________________________________________________________\n",
            "activation_30 (Activation)      (None, 14, 14, 256)  0           bn4c_branch2b[0][0]              \n",
            "__________________________________________________________________________________________________\n",
            "res4c_branch2c (Conv2D)         (None, 14, 14, 1024) 263168      activation_30[0][0]              \n",
            "__________________________________________________________________________________________________\n",
            "bn4c_branch2c (BatchNormalizati (None, 14, 14, 1024) 4096        res4c_branch2c[0][0]             \n",
            "__________________________________________________________________________________________________\n",
            "add_10 (Add)                    (None, 14, 14, 1024) 0           bn4c_branch2c[0][0]              \n",
            "                                                                 activation_28[0][0]              \n",
            "__________________________________________________________________________________________________\n",
            "activation_31 (Activation)      (None, 14, 14, 1024) 0           add_10[0][0]                     \n",
            "__________________________________________________________________________________________________\n",
            "res4d_branch2a (Conv2D)         (None, 14, 14, 256)  262400      activation_31[0][0]              \n",
            "__________________________________________________________________________________________________\n",
            "bn4d_branch2a (BatchNormalizati (None, 14, 14, 256)  1024        res4d_branch2a[0][0]             \n",
            "__________________________________________________________________________________________________\n",
            "activation_32 (Activation)      (None, 14, 14, 256)  0           bn4d_branch2a[0][0]              \n",
            "__________________________________________________________________________________________________\n",
            "res4d_branch2b (Conv2D)         (None, 14, 14, 256)  590080      activation_32[0][0]              \n",
            "__________________________________________________________________________________________________\n",
            "bn4d_branch2b (BatchNormalizati (None, 14, 14, 256)  1024        res4d_branch2b[0][0]             \n",
            "__________________________________________________________________________________________________\n",
            "activation_33 (Activation)      (None, 14, 14, 256)  0           bn4d_branch2b[0][0]              \n",
            "__________________________________________________________________________________________________\n",
            "res4d_branch2c (Conv2D)         (None, 14, 14, 1024) 263168      activation_33[0][0]              \n",
            "__________________________________________________________________________________________________\n",
            "bn4d_branch2c (BatchNormalizati (None, 14, 14, 1024) 4096        res4d_branch2c[0][0]             \n",
            "__________________________________________________________________________________________________\n",
            "add_11 (Add)                    (None, 14, 14, 1024) 0           bn4d_branch2c[0][0]              \n",
            "                                                                 activation_31[0][0]              \n",
            "__________________________________________________________________________________________________\n",
            "activation_34 (Activation)      (None, 14, 14, 1024) 0           add_11[0][0]                     \n",
            "__________________________________________________________________________________________________\n",
            "res4e_branch2a (Conv2D)         (None, 14, 14, 256)  262400      activation_34[0][0]              \n",
            "__________________________________________________________________________________________________\n",
            "bn4e_branch2a (BatchNormalizati (None, 14, 14, 256)  1024        res4e_branch2a[0][0]             \n",
            "__________________________________________________________________________________________________\n",
            "activation_35 (Activation)      (None, 14, 14, 256)  0           bn4e_branch2a[0][0]              \n",
            "__________________________________________________________________________________________________\n",
            "res4e_branch2b (Conv2D)         (None, 14, 14, 256)  590080      activation_35[0][0]              \n",
            "__________________________________________________________________________________________________\n",
            "bn4e_branch2b (BatchNormalizati (None, 14, 14, 256)  1024        res4e_branch2b[0][0]             \n",
            "__________________________________________________________________________________________________\n",
            "activation_36 (Activation)      (None, 14, 14, 256)  0           bn4e_branch2b[0][0]              \n",
            "__________________________________________________________________________________________________\n",
            "res4e_branch2c (Conv2D)         (None, 14, 14, 1024) 263168      activation_36[0][0]              \n",
            "__________________________________________________________________________________________________\n",
            "bn4e_branch2c (BatchNormalizati (None, 14, 14, 1024) 4096        res4e_branch2c[0][0]             \n",
            "__________________________________________________________________________________________________\n",
            "add_12 (Add)                    (None, 14, 14, 1024) 0           bn4e_branch2c[0][0]              \n",
            "                                                                 activation_34[0][0]              \n",
            "__________________________________________________________________________________________________\n",
            "activation_37 (Activation)      (None, 14, 14, 1024) 0           add_12[0][0]                     \n",
            "__________________________________________________________________________________________________\n",
            "res4f_branch2a (Conv2D)         (None, 14, 14, 256)  262400      activation_37[0][0]              \n",
            "__________________________________________________________________________________________________\n",
            "bn4f_branch2a (BatchNormalizati (None, 14, 14, 256)  1024        res4f_branch2a[0][0]             \n",
            "__________________________________________________________________________________________________\n",
            "activation_38 (Activation)      (None, 14, 14, 256)  0           bn4f_branch2a[0][0]              \n",
            "__________________________________________________________________________________________________\n",
            "res4f_branch2b (Conv2D)         (None, 14, 14, 256)  590080      activation_38[0][0]              \n",
            "__________________________________________________________________________________________________\n",
            "bn4f_branch2b (BatchNormalizati (None, 14, 14, 256)  1024        res4f_branch2b[0][0]             \n",
            "__________________________________________________________________________________________________\n",
            "activation_39 (Activation)      (None, 14, 14, 256)  0           bn4f_branch2b[0][0]              \n",
            "__________________________________________________________________________________________________\n",
            "res4f_branch2c (Conv2D)         (None, 14, 14, 1024) 263168      activation_39[0][0]              \n",
            "__________________________________________________________________________________________________\n",
            "bn4f_branch2c (BatchNormalizati (None, 14, 14, 1024) 4096        res4f_branch2c[0][0]             \n",
            "__________________________________________________________________________________________________\n",
            "add_13 (Add)                    (None, 14, 14, 1024) 0           bn4f_branch2c[0][0]              \n",
            "                                                                 activation_37[0][0]              \n",
            "__________________________________________________________________________________________________\n",
            "activation_40 (Activation)      (None, 14, 14, 1024) 0           add_13[0][0]                     \n",
            "__________________________________________________________________________________________________\n",
            "res5a_branch2a (Conv2D)         (None, 7, 7, 512)    524800      activation_40[0][0]              \n",
            "__________________________________________________________________________________________________\n",
            "bn5a_branch2a (BatchNormalizati (None, 7, 7, 512)    2048        res5a_branch2a[0][0]             \n",
            "__________________________________________________________________________________________________\n",
            "activation_41 (Activation)      (None, 7, 7, 512)    0           bn5a_branch2a[0][0]              \n",
            "__________________________________________________________________________________________________\n",
            "res5a_branch2b (Conv2D)         (None, 7, 7, 512)    2359808     activation_41[0][0]              \n",
            "__________________________________________________________________________________________________\n",
            "bn5a_branch2b (BatchNormalizati (None, 7, 7, 512)    2048        res5a_branch2b[0][0]             \n",
            "__________________________________________________________________________________________________\n",
            "activation_42 (Activation)      (None, 7, 7, 512)    0           bn5a_branch2b[0][0]              \n",
            "__________________________________________________________________________________________________\n",
            "res5a_branch2c (Conv2D)         (None, 7, 7, 2048)   1050624     activation_42[0][0]              \n",
            "__________________________________________________________________________________________________\n",
            "res5a_branch1 (Conv2D)          (None, 7, 7, 2048)   2099200     activation_40[0][0]              \n",
            "__________________________________________________________________________________________________\n",
            "bn5a_branch2c (BatchNormalizati (None, 7, 7, 2048)   8192        res5a_branch2c[0][0]             \n",
            "__________________________________________________________________________________________________\n",
            "bn5a_branch1 (BatchNormalizatio (None, 7, 7, 2048)   8192        res5a_branch1[0][0]              \n",
            "__________________________________________________________________________________________________\n",
            "add_14 (Add)                    (None, 7, 7, 2048)   0           bn5a_branch2c[0][0]              \n",
            "                                                                 bn5a_branch1[0][0]               \n",
            "__________________________________________________________________________________________________\n",
            "activation_43 (Activation)      (None, 7, 7, 2048)   0           add_14[0][0]                     \n",
            "__________________________________________________________________________________________________\n",
            "res5b_branch2a (Conv2D)         (None, 7, 7, 512)    1049088     activation_43[0][0]              \n",
            "__________________________________________________________________________________________________\n",
            "bn5b_branch2a (BatchNormalizati (None, 7, 7, 512)    2048        res5b_branch2a[0][0]             \n",
            "__________________________________________________________________________________________________\n",
            "activation_44 (Activation)      (None, 7, 7, 512)    0           bn5b_branch2a[0][0]              \n",
            "__________________________________________________________________________________________________\n",
            "res5b_branch2b (Conv2D)         (None, 7, 7, 512)    2359808     activation_44[0][0]              \n",
            "__________________________________________________________________________________________________\n",
            "bn5b_branch2b (BatchNormalizati (None, 7, 7, 512)    2048        res5b_branch2b[0][0]             \n",
            "__________________________________________________________________________________________________\n",
            "activation_45 (Activation)      (None, 7, 7, 512)    0           bn5b_branch2b[0][0]              \n",
            "__________________________________________________________________________________________________\n",
            "res5b_branch2c (Conv2D)         (None, 7, 7, 2048)   1050624     activation_45[0][0]              \n",
            "__________________________________________________________________________________________________\n",
            "bn5b_branch2c (BatchNormalizati (None, 7, 7, 2048)   8192        res5b_branch2c[0][0]             \n",
            "__________________________________________________________________________________________________\n",
            "add_15 (Add)                    (None, 7, 7, 2048)   0           bn5b_branch2c[0][0]              \n",
            "                                                                 activation_43[0][0]              \n",
            "__________________________________________________________________________________________________\n",
            "activation_46 (Activation)      (None, 7, 7, 2048)   0           add_15[0][0]                     \n",
            "__________________________________________________________________________________________________\n",
            "res5c_branch2a (Conv2D)         (None, 7, 7, 512)    1049088     activation_46[0][0]              \n",
            "__________________________________________________________________________________________________\n",
            "bn5c_branch2a (BatchNormalizati (None, 7, 7, 512)    2048        res5c_branch2a[0][0]             \n",
            "__________________________________________________________________________________________________\n",
            "activation_47 (Activation)      (None, 7, 7, 512)    0           bn5c_branch2a[0][0]              \n",
            "__________________________________________________________________________________________________\n",
            "res5c_branch2b (Conv2D)         (None, 7, 7, 512)    2359808     activation_47[0][0]              \n",
            "__________________________________________________________________________________________________\n",
            "bn5c_branch2b (BatchNormalizati (None, 7, 7, 512)    2048        res5c_branch2b[0][0]             \n",
            "__________________________________________________________________________________________________\n",
            "activation_48 (Activation)      (None, 7, 7, 512)    0           bn5c_branch2b[0][0]              \n",
            "__________________________________________________________________________________________________\n",
            "res5c_branch2c (Conv2D)         (None, 7, 7, 2048)   1050624     activation_48[0][0]              \n",
            "__________________________________________________________________________________________________\n",
            "bn5c_branch2c (BatchNormalizati (None, 7, 7, 2048)   8192        res5c_branch2c[0][0]             \n",
            "__________________________________________________________________________________________________\n",
            "add_16 (Add)                    (None, 7, 7, 2048)   0           bn5c_branch2c[0][0]              \n",
            "                                                                 activation_46[0][0]              \n",
            "__________________________________________________________________________________________________\n",
            "activation_49 (Activation)      (None, 7, 7, 2048)   0           add_16[0][0]                     \n",
            "__________________________________________________________________________________________________\n",
            "avg_pool (GlobalAveragePooling2 (None, 2048)         0           activation_49[0][0]              \n",
            "__________________________________________________________________________________________________\n",
            "fc12 (Dense)                    (None, 12)           24588       avg_pool[0][0]                   \n",
            "==================================================================================================\n",
            "Total params: 23,612,300\n",
            "Trainable params: 23,559,180\n",
            "Non-trainable params: 53,120\n",
            "__________________________________________________________________________________________________\n",
            "None\n"
          ],
          "name": "stdout"
        }
      ]
    },
    {
      "cell_type": "code",
      "metadata": {
        "id": "d_Ii3VhnK-LM",
        "colab_type": "code",
        "colab": {}
      },
      "source": [
        "# filepath=\"weights-improvement-{epoch:02d}-{val_accuracy:.2f}.hdf5\""
      ],
      "execution_count": 0,
      "outputs": []
    },
    {
      "cell_type": "code",
      "metadata": {
        "id": "HSJKgqiJLIcW",
        "colab_type": "code",
        "colab": {}
      },
      "source": [
        "from keras.callbacks import ModelCheckpoint\n",
        "# # checkpoint = ModelCheckpoint(filepath, monitor='val_accuracy', verbose=1, save_best_only=True, mode='max')\n",
        "# callbacks=[ModelCheckpoint('weight.model', monitor='val_accuracy', save_best_only=True,mode='max')]\n",
        "# # callbacks_list = [checkpoint]\n",
        "filepath = \"resnet-model.h5\"\n",
        "checkpoint = ModelCheckpoint(filepath, monitor='val_accuracy', verbose=1, \n",
        "                             save_best_only=True, mode='max')\n",
        "callbacks_list = [checkpoint]"
      ],
      "execution_count": 0,
      "outputs": []
    },
    {
      "cell_type": "code",
      "metadata": {
        "id": "KVnq2eT4quEj",
        "colab_type": "code",
        "colab": {}
      },
      "source": [
        "import cv2\n",
        "import numpy as np\n",
        "import matplotlib.pyplot as plt\n",
        "import keras.layers as layers\n",
        "from keras.models import Model\n",
        "from keras.preprocessing import image"
      ],
      "execution_count": 0,
      "outputs": []
    },
    {
      "cell_type": "code",
      "metadata": {
        "id": "gZ5TJsgETmFq",
        "colab_type": "code",
        "colab": {}
      },
      "source": [
        "# model = ResNet(input_shape, n_classes)\n",
        "model.compile(optimizer='adam', loss='categorical_crossentropy', metrics=['accuracy'])\n",
        "#model.summary()"
      ],
      "execution_count": 0,
      "outputs": []
    },
    {
      "cell_type": "code",
      "metadata": {
        "id": "nZrql8DBR6aO",
        "colab_type": "code",
        "outputId": "146f64a4-c4ce-420f-8004-16df06713206",
        "colab": {
          "base_uri": "https://localhost:8080/",
          "height": 1000
        }
      },
      "source": [
        "history = model.fit_generator(gen.flow(train_X, train_label, batch_size=batch_size),epochs=epochs,verbose=2,validation_data=(valid_X, valid_label),callbacks=callbacks_list)"
      ],
      "execution_count": 59,
      "outputs": [
        {
          "output_type": "stream",
          "text": [
            "Epoch 1/150\n",
            " - 234s - loss: 1.8265 - accuracy: 0.4545 - val_loss: 4.4693 - val_accuracy: 0.2149\n",
            "\n",
            "Epoch 00001: val_accuracy improved from -inf to 0.21494, saving model to resnet-model.h5\n",
            "Epoch 2/150\n",
            " - 208s - loss: 1.1893 - accuracy: 0.6136 - val_loss: 3.3197 - val_accuracy: 0.4299\n",
            "\n",
            "Epoch 00002: val_accuracy improved from 0.21494 to 0.42987, saving model to resnet-model.h5\n",
            "Epoch 3/150\n",
            " - 208s - loss: 0.9785 - accuracy: 0.6849 - val_loss: 1.7956 - val_accuracy: 0.4608\n",
            "\n",
            "Epoch 00003: val_accuracy improved from 0.42987 to 0.46084, saving model to resnet-model.h5\n",
            "Epoch 4/150\n",
            " - 207s - loss: 0.8373 - accuracy: 0.7234 - val_loss: 4.3676 - val_accuracy: 0.3151\n",
            "\n",
            "Epoch 00004: val_accuracy did not improve from 0.46084\n",
            "Epoch 5/150\n",
            " - 208s - loss: 0.7389 - accuracy: 0.7482 - val_loss: 1.0641 - val_accuracy: 0.7031\n",
            "\n",
            "Epoch 00005: val_accuracy improved from 0.46084 to 0.70310, saving model to resnet-model.h5\n",
            "Epoch 6/150\n",
            " - 208s - loss: 0.6388 - accuracy: 0.7827 - val_loss: 2.4151 - val_accuracy: 0.5191\n",
            "\n",
            "Epoch 00006: val_accuracy did not improve from 0.70310\n",
            "Epoch 7/150\n",
            " - 208s - loss: 0.5655 - accuracy: 0.8075 - val_loss: 1.6106 - val_accuracy: 0.6175\n",
            "\n",
            "Epoch 00007: val_accuracy did not improve from 0.70310\n",
            "Epoch 8/150\n",
            " - 208s - loss: 0.5435 - accuracy: 0.8145 - val_loss: 0.8275 - val_accuracy: 0.7359\n",
            "\n",
            "Epoch 00008: val_accuracy improved from 0.70310 to 0.73588, saving model to resnet-model.h5\n",
            "Epoch 9/150\n",
            " - 208s - loss: 0.5109 - accuracy: 0.8280 - val_loss: 0.9245 - val_accuracy: 0.7286\n",
            "\n",
            "Epoch 00009: val_accuracy did not improve from 0.73588\n",
            "Epoch 10/150\n",
            " - 208s - loss: 0.4371 - accuracy: 0.8541 - val_loss: 0.5558 - val_accuracy: 0.8233\n",
            "\n",
            "Epoch 00010: val_accuracy improved from 0.73588 to 0.82332, saving model to resnet-model.h5\n",
            "Epoch 11/150\n",
            " - 208s - loss: 0.4050 - accuracy: 0.8580 - val_loss: 0.5022 - val_accuracy: 0.8415\n",
            "\n",
            "Epoch 00011: val_accuracy improved from 0.82332 to 0.84153, saving model to resnet-model.h5\n",
            "Epoch 12/150\n",
            " - 208s - loss: 0.3834 - accuracy: 0.8702 - val_loss: 2.5698 - val_accuracy: 0.5137\n",
            "\n",
            "Epoch 00012: val_accuracy did not improve from 0.84153\n",
            "Epoch 13/150\n",
            " - 209s - loss: 0.3517 - accuracy: 0.8794 - val_loss: 1.7633 - val_accuracy: 0.5738\n",
            "\n",
            "Epoch 00013: val_accuracy did not improve from 0.84153\n",
            "Epoch 14/150\n",
            " - 208s - loss: 0.3637 - accuracy: 0.8706 - val_loss: 0.8618 - val_accuracy: 0.7231\n",
            "\n",
            "Epoch 00014: val_accuracy did not improve from 0.84153\n",
            "Epoch 15/150\n",
            " - 207s - loss: 0.3306 - accuracy: 0.8817 - val_loss: 0.7363 - val_accuracy: 0.8106\n",
            "\n",
            "Epoch 00015: val_accuracy did not improve from 0.84153\n",
            "Epoch 16/150\n",
            " - 209s - loss: 0.3288 - accuracy: 0.8900 - val_loss: 11.0196 - val_accuracy: 0.3169\n",
            "\n",
            "Epoch 00016: val_accuracy did not improve from 0.84153\n",
            "Epoch 17/150\n",
            " - 209s - loss: 0.3539 - accuracy: 0.8780 - val_loss: 0.5649 - val_accuracy: 0.8415\n",
            "\n",
            "Epoch 00017: val_accuracy did not improve from 0.84153\n",
            "Epoch 18/150\n",
            " - 209s - loss: 0.2829 - accuracy: 0.8986 - val_loss: 1.0327 - val_accuracy: 0.7359\n",
            "\n",
            "Epoch 00018: val_accuracy did not improve from 0.84153\n",
            "Epoch 19/150\n",
            " - 209s - loss: 0.2303 - accuracy: 0.9164 - val_loss: 1.3553 - val_accuracy: 0.6812\n",
            "\n",
            "Epoch 00019: val_accuracy did not improve from 0.84153\n",
            "Epoch 20/150\n",
            " - 209s - loss: 0.2535 - accuracy: 0.9092 - val_loss: 0.8193 - val_accuracy: 0.7395\n",
            "\n",
            "Epoch 00020: val_accuracy did not improve from 0.84153\n",
            "Epoch 21/150\n",
            " - 209s - loss: 0.2665 - accuracy: 0.9085 - val_loss: 0.9664 - val_accuracy: 0.7158\n",
            "\n",
            "Epoch 00021: val_accuracy did not improve from 0.84153\n",
            "Epoch 22/150\n",
            " - 209s - loss: 0.2387 - accuracy: 0.9177 - val_loss: 0.8817 - val_accuracy: 0.7395\n",
            "\n",
            "Epoch 00022: val_accuracy did not improve from 0.84153\n",
            "Epoch 23/150\n",
            " - 209s - loss: 0.2232 - accuracy: 0.9225 - val_loss: 4.0150 - val_accuracy: 0.2678\n",
            "\n",
            "Epoch 00023: val_accuracy did not improve from 0.84153\n",
            "Epoch 24/150\n",
            " - 208s - loss: 0.2509 - accuracy: 0.9116 - val_loss: 2.7719 - val_accuracy: 0.5501\n",
            "\n",
            "Epoch 00024: val_accuracy did not improve from 0.84153\n",
            "Epoch 25/150\n",
            " - 209s - loss: 0.2167 - accuracy: 0.9227 - val_loss: 0.8490 - val_accuracy: 0.7268\n",
            "\n",
            "Epoch 00025: val_accuracy did not improve from 0.84153\n",
            "Epoch 26/150\n",
            " - 209s - loss: 0.2135 - accuracy: 0.9234 - val_loss: 0.6804 - val_accuracy: 0.8069\n",
            "\n",
            "Epoch 00026: val_accuracy did not improve from 0.84153\n",
            "Epoch 27/150\n",
            " - 209s - loss: 0.2066 - accuracy: 0.9279 - val_loss: 0.2517 - val_accuracy: 0.9235\n",
            "\n",
            "Epoch 00027: val_accuracy improved from 0.84153 to 0.92350, saving model to resnet-model.h5\n",
            "Epoch 28/150\n",
            " - 208s - loss: 0.1909 - accuracy: 0.9315 - val_loss: 0.4486 - val_accuracy: 0.8871\n",
            "\n",
            "Epoch 00028: val_accuracy did not improve from 0.92350\n",
            "Epoch 29/150\n",
            " - 209s - loss: 0.1898 - accuracy: 0.9292 - val_loss: 0.7711 - val_accuracy: 0.7741\n",
            "\n",
            "Epoch 00029: val_accuracy did not improve from 0.92350\n",
            "Epoch 30/150\n",
            " - 208s - loss: 0.1853 - accuracy: 0.9294 - val_loss: 5.1704 - val_accuracy: 0.4809\n",
            "\n",
            "Epoch 00030: val_accuracy did not improve from 0.92350\n",
            "Epoch 31/150\n",
            " - 209s - loss: 0.1643 - accuracy: 0.9405 - val_loss: 0.6242 - val_accuracy: 0.8452\n",
            "\n",
            "Epoch 00031: val_accuracy did not improve from 0.92350\n",
            "Epoch 32/150\n",
            " - 206s - loss: 0.1920 - accuracy: 0.9290 - val_loss: 0.6856 - val_accuracy: 0.8160\n",
            "\n",
            "Epoch 00032: val_accuracy did not improve from 0.92350\n",
            "Epoch 33/150\n",
            " - 209s - loss: 0.1864 - accuracy: 0.9333 - val_loss: 0.5627 - val_accuracy: 0.8834\n",
            "\n",
            "Epoch 00033: val_accuracy did not improve from 0.92350\n",
            "Epoch 34/150\n",
            " - 208s - loss: 0.1773 - accuracy: 0.9346 - val_loss: 1.6115 - val_accuracy: 0.6357\n",
            "\n",
            "Epoch 00034: val_accuracy did not improve from 0.92350\n",
            "Epoch 35/150\n",
            " - 208s - loss: 0.1604 - accuracy: 0.9443 - val_loss: 1.7443 - val_accuracy: 0.6685\n",
            "\n",
            "Epoch 00035: val_accuracy did not improve from 0.92350\n",
            "Epoch 36/150\n",
            " - 208s - loss: 0.1733 - accuracy: 0.9380 - val_loss: 5.5085 - val_accuracy: 0.5938\n",
            "\n",
            "Epoch 00036: val_accuracy did not improve from 0.92350\n",
            "Epoch 37/150\n",
            " - 209s - loss: 0.1575 - accuracy: 0.9468 - val_loss: 0.3629 - val_accuracy: 0.8852\n",
            "\n",
            "Epoch 00037: val_accuracy did not improve from 0.92350\n",
            "Epoch 38/150\n",
            " - 208s - loss: 0.1431 - accuracy: 0.9488 - val_loss: 0.5427 - val_accuracy: 0.8415\n",
            "\n",
            "Epoch 00038: val_accuracy did not improve from 0.92350\n",
            "Epoch 39/150\n",
            " - 209s - loss: 0.1368 - accuracy: 0.9495 - val_loss: 2.0620 - val_accuracy: 0.5683\n",
            "\n",
            "Epoch 00039: val_accuracy did not improve from 0.92350\n",
            "Epoch 40/150\n",
            " - 208s - loss: 0.1947 - accuracy: 0.9306 - val_loss: 2.2687 - val_accuracy: 0.6885\n",
            "\n",
            "Epoch 00040: val_accuracy did not improve from 0.92350\n",
            "Epoch 41/150\n",
            " - 209s - loss: 0.1517 - accuracy: 0.9427 - val_loss: 1.8552 - val_accuracy: 0.6995\n",
            "\n",
            "Epoch 00041: val_accuracy did not improve from 0.92350\n",
            "Epoch 42/150\n",
            " - 209s - loss: 0.1191 - accuracy: 0.9545 - val_loss: 0.3339 - val_accuracy: 0.9071\n",
            "\n",
            "Epoch 00042: val_accuracy did not improve from 0.92350\n",
            "Epoch 43/150\n",
            " - 208s - loss: 0.1518 - accuracy: 0.9479 - val_loss: 0.4418 - val_accuracy: 0.9071\n",
            "\n",
            "Epoch 00043: val_accuracy did not improve from 0.92350\n",
            "Epoch 44/150\n",
            " - 209s - loss: 0.1089 - accuracy: 0.9624 - val_loss: 12.8221 - val_accuracy: 0.2040\n",
            "\n",
            "Epoch 00044: val_accuracy did not improve from 0.92350\n",
            "Epoch 45/150\n",
            " - 209s - loss: 0.1469 - accuracy: 0.9522 - val_loss: 1.3045 - val_accuracy: 0.6922\n",
            "\n",
            "Epoch 00045: val_accuracy did not improve from 0.92350\n",
            "Epoch 46/150\n",
            " - 209s - loss: 0.1304 - accuracy: 0.9527 - val_loss: 1.9260 - val_accuracy: 0.7832\n",
            "\n",
            "Epoch 00046: val_accuracy did not improve from 0.92350\n",
            "Epoch 47/150\n",
            " - 208s - loss: 0.1480 - accuracy: 0.9472 - val_loss: 1.5455 - val_accuracy: 0.7049\n",
            "\n",
            "Epoch 00047: val_accuracy did not improve from 0.92350\n",
            "Epoch 48/150\n",
            " - 209s - loss: 0.1725 - accuracy: 0.9445 - val_loss: 0.2736 - val_accuracy: 0.9180\n",
            "\n",
            "Epoch 00048: val_accuracy did not improve from 0.92350\n",
            "Epoch 49/150\n",
            " - 206s - loss: 0.1180 - accuracy: 0.9556 - val_loss: 4.2098 - val_accuracy: 0.4189\n",
            "\n",
            "Epoch 00049: val_accuracy did not improve from 0.92350\n",
            "Epoch 50/150\n",
            " - 209s - loss: 0.1158 - accuracy: 0.9522 - val_loss: 0.2872 - val_accuracy: 0.9290\n",
            "\n",
            "Epoch 00050: val_accuracy improved from 0.92350 to 0.92896, saving model to resnet-model.h5\n",
            "Epoch 51/150\n",
            " - 208s - loss: 0.1084 - accuracy: 0.9590 - val_loss: 0.5504 - val_accuracy: 0.8871\n",
            "\n",
            "Epoch 00051: val_accuracy did not improve from 0.92896\n",
            "Epoch 52/150\n",
            " - 208s - loss: 0.1114 - accuracy: 0.9601 - val_loss: 0.6954 - val_accuracy: 0.8124\n",
            "\n",
            "Epoch 00052: val_accuracy did not improve from 0.92896\n",
            "Epoch 53/150\n",
            " - 208s - loss: 0.1269 - accuracy: 0.9556 - val_loss: 0.9102 - val_accuracy: 0.8579\n",
            "\n",
            "Epoch 00053: val_accuracy did not improve from 0.92896\n",
            "Epoch 54/150\n",
            " - 209s - loss: 0.1434 - accuracy: 0.9506 - val_loss: 0.9119 - val_accuracy: 0.7577\n",
            "\n",
            "Epoch 00054: val_accuracy did not improve from 0.92896\n",
            "Epoch 55/150\n",
            " - 208s - loss: 0.0953 - accuracy: 0.9635 - val_loss: 0.7700 - val_accuracy: 0.8051\n",
            "\n",
            "Epoch 00055: val_accuracy did not improve from 0.92896\n",
            "Epoch 56/150\n",
            " - 209s - loss: 0.0966 - accuracy: 0.9666 - val_loss: 0.5919 - val_accuracy: 0.8725\n",
            "\n",
            "Epoch 00056: val_accuracy did not improve from 0.92896\n",
            "Epoch 57/150\n",
            " - 208s - loss: 0.0963 - accuracy: 0.9651 - val_loss: 0.6165 - val_accuracy: 0.8616\n",
            "\n",
            "Epoch 00057: val_accuracy did not improve from 0.92896\n",
            "Epoch 58/150\n",
            " - 209s - loss: 0.0986 - accuracy: 0.9657 - val_loss: 0.2784 - val_accuracy: 0.9290\n",
            "\n",
            "Epoch 00058: val_accuracy did not improve from 0.92896\n",
            "Epoch 59/150\n",
            " - 208s - loss: 0.0999 - accuracy: 0.9621 - val_loss: 1.3185 - val_accuracy: 0.7796\n",
            "\n",
            "Epoch 00059: val_accuracy did not improve from 0.92896\n",
            "Epoch 60/150\n",
            " - 209s - loss: 0.0910 - accuracy: 0.9691 - val_loss: 2.0589 - val_accuracy: 0.6357\n",
            "\n",
            "Epoch 00060: val_accuracy did not improve from 0.92896\n",
            "Epoch 61/150\n",
            " - 208s - loss: 0.0749 - accuracy: 0.9727 - val_loss: 0.2472 - val_accuracy: 0.9344\n",
            "\n",
            "Epoch 00061: val_accuracy improved from 0.92896 to 0.93443, saving model to resnet-model.h5\n",
            "Epoch 62/150\n",
            " - 209s - loss: 0.0966 - accuracy: 0.9664 - val_loss: 0.5113 - val_accuracy: 0.8470\n",
            "\n",
            "Epoch 00062: val_accuracy did not improve from 0.93443\n",
            "Epoch 63/150\n",
            " - 208s - loss: 0.0726 - accuracy: 0.9736 - val_loss: 0.6821 - val_accuracy: 0.8270\n",
            "\n",
            "Epoch 00063: val_accuracy did not improve from 0.93443\n",
            "Epoch 64/150\n",
            " - 209s - loss: 0.0802 - accuracy: 0.9693 - val_loss: 0.2353 - val_accuracy: 0.9381\n",
            "\n",
            "Epoch 00064: val_accuracy improved from 0.93443 to 0.93807, saving model to resnet-model.h5\n",
            "Epoch 65/150\n",
            " - 209s - loss: 0.0970 - accuracy: 0.9691 - val_loss: 0.4593 - val_accuracy: 0.8871\n",
            "\n",
            "Epoch 00065: val_accuracy did not improve from 0.93807\n",
            "Epoch 66/150\n",
            " - 207s - loss: 0.0853 - accuracy: 0.9687 - val_loss: 2.6427 - val_accuracy: 0.5829\n",
            "\n",
            "Epoch 00066: val_accuracy did not improve from 0.93807\n",
            "Epoch 67/150\n",
            " - 208s - loss: 0.1045 - accuracy: 0.9651 - val_loss: 1.8726 - val_accuracy: 0.6758\n",
            "\n",
            "Epoch 00067: val_accuracy did not improve from 0.93807\n",
            "Epoch 68/150\n",
            " - 207s - loss: 0.0812 - accuracy: 0.9716 - val_loss: 0.5982 - val_accuracy: 0.8689\n",
            "\n",
            "Epoch 00068: val_accuracy did not improve from 0.93807\n",
            "Epoch 69/150\n",
            " - 205s - loss: 0.0897 - accuracy: 0.9660 - val_loss: 0.6712 - val_accuracy: 0.8561\n",
            "\n",
            "Epoch 00069: val_accuracy did not improve from 0.93807\n",
            "Epoch 70/150\n",
            " - 206s - loss: 0.0792 - accuracy: 0.9714 - val_loss: 0.3696 - val_accuracy: 0.9107\n",
            "\n",
            "Epoch 00070: val_accuracy did not improve from 0.93807\n",
            "Epoch 71/150\n",
            " - 205s - loss: 0.0795 - accuracy: 0.9716 - val_loss: 1.6108 - val_accuracy: 0.7596\n",
            "\n",
            "Epoch 00071: val_accuracy did not improve from 0.93807\n",
            "Epoch 72/150\n",
            " - 205s - loss: 0.0845 - accuracy: 0.9684 - val_loss: 0.6162 - val_accuracy: 0.8288\n",
            "\n",
            "Epoch 00072: val_accuracy did not improve from 0.93807\n",
            "Epoch 73/150\n",
            " - 206s - loss: 0.0831 - accuracy: 0.9691 - val_loss: 0.9610 - val_accuracy: 0.7887\n",
            "\n",
            "Epoch 00073: val_accuracy did not improve from 0.93807\n",
            "Epoch 74/150\n",
            " - 206s - loss: 0.0735 - accuracy: 0.9723 - val_loss: 0.4137 - val_accuracy: 0.8998\n",
            "\n",
            "Epoch 00074: val_accuracy did not improve from 0.93807\n",
            "Epoch 75/150\n",
            " - 208s - loss: 0.0802 - accuracy: 0.9723 - val_loss: 0.2861 - val_accuracy: 0.9362\n",
            "\n",
            "Epoch 00075: val_accuracy did not improve from 0.93807\n",
            "Epoch 76/150\n",
            " - 206s - loss: 0.0671 - accuracy: 0.9777 - val_loss: 0.2333 - val_accuracy: 0.9344\n",
            "\n",
            "Epoch 00076: val_accuracy did not improve from 0.93807\n",
            "Epoch 77/150\n",
            " - 205s - loss: 0.0514 - accuracy: 0.9831 - val_loss: 2.1241 - val_accuracy: 0.6648\n",
            "\n",
            "Epoch 00077: val_accuracy did not improve from 0.93807\n",
            "Epoch 78/150\n",
            " - 205s - loss: 0.0737 - accuracy: 0.9734 - val_loss: 0.6927 - val_accuracy: 0.8397\n",
            "\n",
            "Epoch 00078: val_accuracy did not improve from 0.93807\n",
            "Epoch 79/150\n",
            " - 206s - loss: 0.0543 - accuracy: 0.9795 - val_loss: 2.3986 - val_accuracy: 0.6339\n",
            "\n",
            "Epoch 00079: val_accuracy did not improve from 0.93807\n",
            "Epoch 80/150\n",
            " - 206s - loss: 0.0779 - accuracy: 0.9707 - val_loss: 0.7224 - val_accuracy: 0.8233\n",
            "\n",
            "Epoch 00080: val_accuracy did not improve from 0.93807\n",
            "Epoch 81/150\n",
            " - 207s - loss: 0.0671 - accuracy: 0.9752 - val_loss: 1.0732 - val_accuracy: 0.8106\n",
            "\n",
            "Epoch 00081: val_accuracy did not improve from 0.93807\n",
            "Epoch 82/150\n",
            " - 209s - loss: 0.0840 - accuracy: 0.9698 - val_loss: 0.6022 - val_accuracy: 0.8506\n",
            "\n",
            "Epoch 00082: val_accuracy did not improve from 0.93807\n",
            "Epoch 83/150\n",
            " - 208s - loss: 0.0504 - accuracy: 0.9817 - val_loss: 0.3059 - val_accuracy: 0.9290\n",
            "\n",
            "Epoch 00083: val_accuracy did not improve from 0.93807\n",
            "Epoch 84/150\n",
            " - 207s - loss: 0.0511 - accuracy: 0.9822 - val_loss: 0.4073 - val_accuracy: 0.9035\n",
            "\n",
            "Epoch 00084: val_accuracy did not improve from 0.93807\n",
            "Epoch 85/150\n",
            " - 208s - loss: 0.0686 - accuracy: 0.9745 - val_loss: 0.2811 - val_accuracy: 0.9235\n",
            "\n",
            "Epoch 00085: val_accuracy did not improve from 0.93807\n",
            "Epoch 86/150\n",
            " - 208s - loss: 0.0625 - accuracy: 0.9757 - val_loss: 0.3610 - val_accuracy: 0.9016\n",
            "\n",
            "Epoch 00086: val_accuracy did not improve from 0.93807\n",
            "Epoch 87/150\n",
            " - 209s - loss: 0.0427 - accuracy: 0.9840 - val_loss: 0.3268 - val_accuracy: 0.9290\n",
            "\n",
            "Epoch 00087: val_accuracy did not improve from 0.93807\n",
            "Epoch 88/150\n",
            " - 208s - loss: 0.0443 - accuracy: 0.9847 - val_loss: 1.7114 - val_accuracy: 0.6940\n",
            "\n",
            "Epoch 00088: val_accuracy did not improve from 0.93807\n",
            "Epoch 89/150\n",
            " - 209s - loss: 0.0602 - accuracy: 0.9790 - val_loss: 0.3149 - val_accuracy: 0.9217\n",
            "\n",
            "Epoch 00089: val_accuracy did not improve from 0.93807\n",
            "Epoch 90/150\n",
            " - 208s - loss: 0.0533 - accuracy: 0.9824 - val_loss: 0.1711 - val_accuracy: 0.9490\n",
            "\n",
            "Epoch 00090: val_accuracy improved from 0.93807 to 0.94900, saving model to resnet-model.h5\n",
            "Epoch 91/150\n",
            " - 206s - loss: 0.0433 - accuracy: 0.9820 - val_loss: 1.3548 - val_accuracy: 0.7031\n",
            "\n",
            "Epoch 00091: val_accuracy did not improve from 0.94900\n",
            "Epoch 92/150\n",
            " - 206s - loss: 0.0664 - accuracy: 0.9750 - val_loss: 1.7107 - val_accuracy: 0.7523\n",
            "\n",
            "Epoch 00092: val_accuracy did not improve from 0.94900\n",
            "Epoch 93/150\n",
            " - 205s - loss: 0.0479 - accuracy: 0.9829 - val_loss: 0.2365 - val_accuracy: 0.9399\n",
            "\n",
            "Epoch 00093: val_accuracy did not improve from 0.94900\n",
            "Epoch 94/150\n",
            " - 205s - loss: 0.0511 - accuracy: 0.9822 - val_loss: 0.1840 - val_accuracy: 0.9490\n",
            "\n",
            "Epoch 00094: val_accuracy did not improve from 0.94900\n",
            "Epoch 95/150\n",
            " - 206s - loss: 0.0674 - accuracy: 0.9770 - val_loss: 0.4662 - val_accuracy: 0.8944\n",
            "\n",
            "Epoch 00095: val_accuracy did not improve from 0.94900\n",
            "Epoch 96/150\n",
            " - 208s - loss: 0.0418 - accuracy: 0.9849 - val_loss: 0.8083 - val_accuracy: 0.8270\n",
            "\n",
            "Epoch 00096: val_accuracy did not improve from 0.94900\n",
            "Epoch 97/150\n",
            " - 208s - loss: 0.0425 - accuracy: 0.9874 - val_loss: 0.2833 - val_accuracy: 0.9508\n",
            "\n",
            "Epoch 00097: val_accuracy improved from 0.94900 to 0.95082, saving model to resnet-model.h5\n",
            "Epoch 98/150\n",
            " - 208s - loss: 0.0490 - accuracy: 0.9833 - val_loss: 5.1383 - val_accuracy: 0.5137\n",
            "\n",
            "Epoch 00098: val_accuracy did not improve from 0.95082\n",
            "Epoch 99/150\n",
            " - 206s - loss: 0.0532 - accuracy: 0.9820 - val_loss: 1.6139 - val_accuracy: 0.7851\n",
            "\n",
            "Epoch 00099: val_accuracy did not improve from 0.95082\n",
            "Epoch 100/150\n",
            " - 205s - loss: 0.0595 - accuracy: 0.9802 - val_loss: 0.3903 - val_accuracy: 0.9071\n",
            "\n",
            "Epoch 00100: val_accuracy did not improve from 0.95082\n",
            "Epoch 101/150\n",
            " - 206s - loss: 0.0502 - accuracy: 0.9833 - val_loss: 0.1797 - val_accuracy: 0.9581\n",
            "\n",
            "Epoch 00101: val_accuracy improved from 0.95082 to 0.95811, saving model to resnet-model.h5\n",
            "Epoch 102/150\n",
            " - 208s - loss: 0.0401 - accuracy: 0.9849 - val_loss: 0.7547 - val_accuracy: 0.8124\n",
            "\n",
            "Epoch 00102: val_accuracy did not improve from 0.95811\n",
            "Epoch 103/150\n",
            " - 209s - loss: 0.0597 - accuracy: 0.9808 - val_loss: 6.9818 - val_accuracy: 0.3789\n",
            "\n",
            "Epoch 00103: val_accuracy did not improve from 0.95811\n",
            "Epoch 104/150\n",
            " - 208s - loss: 0.0420 - accuracy: 0.9872 - val_loss: 0.1933 - val_accuracy: 0.9545\n",
            "\n",
            "Epoch 00104: val_accuracy did not improve from 0.95811\n",
            "Epoch 105/150\n",
            " - 208s - loss: 0.0585 - accuracy: 0.9802 - val_loss: 0.6790 - val_accuracy: 0.8670\n",
            "\n",
            "Epoch 00105: val_accuracy did not improve from 0.95811\n",
            "Epoch 106/150\n",
            " - 208s - loss: 0.0389 - accuracy: 0.9838 - val_loss: 0.2973 - val_accuracy: 0.9490\n",
            "\n",
            "Epoch 00106: val_accuracy did not improve from 0.95811\n",
            "Epoch 107/150\n",
            " - 208s - loss: 0.0375 - accuracy: 0.9858 - val_loss: 0.1915 - val_accuracy: 0.9545\n",
            "\n",
            "Epoch 00107: val_accuracy did not improve from 0.95811\n",
            "Epoch 108/150\n",
            " - 208s - loss: 0.0358 - accuracy: 0.9865 - val_loss: 1.0663 - val_accuracy: 0.8106\n",
            "\n",
            "Epoch 00108: val_accuracy did not improve from 0.95811\n",
            "Epoch 109/150\n",
            " - 209s - loss: 0.0465 - accuracy: 0.9838 - val_loss: 0.2086 - val_accuracy: 0.9599\n",
            "\n",
            "Epoch 00109: val_accuracy improved from 0.95811 to 0.95993, saving model to resnet-model.h5\n",
            "Epoch 110/150\n",
            " - 209s - loss: 0.0465 - accuracy: 0.9847 - val_loss: 0.2338 - val_accuracy: 0.9381\n",
            "\n",
            "Epoch 00110: val_accuracy did not improve from 0.95993\n",
            "Epoch 111/150\n",
            " - 206s - loss: 0.0379 - accuracy: 0.9847 - val_loss: 0.3532 - val_accuracy: 0.9016\n",
            "\n",
            "Epoch 00111: val_accuracy did not improve from 0.95993\n",
            "Epoch 112/150\n",
            " - 207s - loss: 0.0683 - accuracy: 0.9779 - val_loss: 0.2692 - val_accuracy: 0.9344\n",
            "\n",
            "Epoch 00112: val_accuracy did not improve from 0.95993\n",
            "Epoch 113/150\n",
            " - 207s - loss: 0.0318 - accuracy: 0.9881 - val_loss: 0.3698 - val_accuracy: 0.9180\n",
            "\n",
            "Epoch 00113: val_accuracy did not improve from 0.95993\n",
            "Epoch 114/150\n",
            " - 208s - loss: 0.0520 - accuracy: 0.9822 - val_loss: 0.3520 - val_accuracy: 0.9126\n",
            "\n",
            "Epoch 00114: val_accuracy did not improve from 0.95993\n",
            "Epoch 115/150\n",
            " - 208s - loss: 0.0395 - accuracy: 0.9840 - val_loss: 1.0319 - val_accuracy: 0.7978\n",
            "\n",
            "Epoch 00115: val_accuracy did not improve from 0.95993\n",
            "Epoch 116/150\n",
            " - 207s - loss: 0.0417 - accuracy: 0.9842 - val_loss: 0.1831 - val_accuracy: 0.9472\n",
            "\n",
            "Epoch 00116: val_accuracy did not improve from 0.95993\n",
            "Epoch 117/150\n",
            " - 208s - loss: 0.0304 - accuracy: 0.9912 - val_loss: 0.2216 - val_accuracy: 0.9417\n",
            "\n",
            "Epoch 00117: val_accuracy did not improve from 0.95993\n",
            "Epoch 118/150\n",
            " - 207s - loss: 0.0412 - accuracy: 0.9847 - val_loss: 0.2667 - val_accuracy: 0.9381\n",
            "\n",
            "Epoch 00118: val_accuracy did not improve from 0.95993\n",
            "Epoch 119/150\n",
            " - 207s - loss: 0.0176 - accuracy: 0.9948 - val_loss: 0.2143 - val_accuracy: 0.9508\n",
            "\n",
            "Epoch 00119: val_accuracy did not improve from 0.95993\n",
            "Epoch 120/150\n",
            " - 206s - loss: 0.0373 - accuracy: 0.9856 - val_loss: 0.2246 - val_accuracy: 0.9417\n",
            "\n",
            "Epoch 00120: val_accuracy did not improve from 0.95993\n",
            "Epoch 121/150\n",
            " - 206s - loss: 0.0335 - accuracy: 0.9878 - val_loss: 0.2239 - val_accuracy: 0.9399\n",
            "\n",
            "Epoch 00121: val_accuracy did not improve from 0.95993\n",
            "Epoch 122/150\n",
            " - 205s - loss: 0.0289 - accuracy: 0.9903 - val_loss: 0.2430 - val_accuracy: 0.9508\n",
            "\n",
            "Epoch 00122: val_accuracy did not improve from 0.95993\n",
            "Epoch 123/150\n",
            " - 206s - loss: 0.0503 - accuracy: 0.9842 - val_loss: 0.5679 - val_accuracy: 0.8834\n",
            "\n",
            "Epoch 00123: val_accuracy did not improve from 0.95993\n",
            "Epoch 124/150\n",
            " - 206s - loss: 0.0305 - accuracy: 0.9892 - val_loss: 3.1837 - val_accuracy: 0.6193\n",
            "\n",
            "Epoch 00124: val_accuracy did not improve from 0.95993\n",
            "Epoch 125/150\n",
            " - 206s - loss: 0.0412 - accuracy: 0.9862 - val_loss: 1.4178 - val_accuracy: 0.7832\n",
            "\n",
            "Epoch 00125: val_accuracy did not improve from 0.95993\n",
            "Epoch 126/150\n",
            " - 205s - loss: 0.0346 - accuracy: 0.9894 - val_loss: 1.1159 - val_accuracy: 0.7687\n",
            "\n",
            "Epoch 00126: val_accuracy did not improve from 0.95993\n",
            "Epoch 127/150\n",
            " - 207s - loss: 0.0249 - accuracy: 0.9921 - val_loss: 1.4657 - val_accuracy: 0.8251\n",
            "\n",
            "Epoch 00127: val_accuracy did not improve from 0.95993\n",
            "Epoch 128/150\n",
            " - 208s - loss: 0.0344 - accuracy: 0.9860 - val_loss: 0.3519 - val_accuracy: 0.9071\n",
            "\n",
            "Epoch 00128: val_accuracy did not improve from 0.95993\n",
            "Epoch 129/150\n",
            " - 206s - loss: 0.0333 - accuracy: 0.9874 - val_loss: 0.4375 - val_accuracy: 0.8998\n",
            "\n",
            "Epoch 00129: val_accuracy did not improve from 0.95993\n",
            "Epoch 130/150\n",
            " - 205s - loss: 0.0346 - accuracy: 0.9883 - val_loss: 4.4553 - val_accuracy: 0.5610\n",
            "\n",
            "Epoch 00130: val_accuracy did not improve from 0.95993\n",
            "Epoch 131/150\n",
            " - 207s - loss: 0.0349 - accuracy: 0.9876 - val_loss: 0.3967 - val_accuracy: 0.9180\n",
            "\n",
            "Epoch 00131: val_accuracy did not improve from 0.95993\n",
            "Epoch 132/150\n",
            " - 207s - loss: 0.0709 - accuracy: 0.9777 - val_loss: 0.5917 - val_accuracy: 0.8834\n",
            "\n",
            "Epoch 00132: val_accuracy did not improve from 0.95993\n",
            "Epoch 133/150\n",
            " - 205s - loss: 0.0271 - accuracy: 0.9899 - val_loss: 0.3218 - val_accuracy: 0.9344\n",
            "\n",
            "Epoch 00133: val_accuracy did not improve from 0.95993\n",
            "Epoch 134/150\n",
            " - 205s - loss: 0.0329 - accuracy: 0.9876 - val_loss: 0.2029 - val_accuracy: 0.9599\n",
            "\n",
            "Epoch 00134: val_accuracy did not improve from 0.95993\n",
            "Epoch 135/150\n",
            " - 206s - loss: 0.0223 - accuracy: 0.9908 - val_loss: 0.2072 - val_accuracy: 0.9563\n",
            "\n",
            "Epoch 00135: val_accuracy did not improve from 0.95993\n",
            "Epoch 136/150\n",
            " - 206s - loss: 0.0439 - accuracy: 0.9856 - val_loss: 0.6734 - val_accuracy: 0.8506\n",
            "\n",
            "Epoch 00136: val_accuracy did not improve from 0.95993\n",
            "Epoch 137/150\n",
            " - 206s - loss: 0.0182 - accuracy: 0.9950 - val_loss: 1.0246 - val_accuracy: 0.7923\n",
            "\n",
            "Epoch 00137: val_accuracy did not improve from 0.95993\n",
            "Epoch 138/150\n",
            " - 207s - loss: 0.0303 - accuracy: 0.9892 - val_loss: 0.2053 - val_accuracy: 0.9599\n",
            "\n",
            "Epoch 00138: val_accuracy did not improve from 0.95993\n",
            "Epoch 139/150\n",
            " - 207s - loss: 0.0321 - accuracy: 0.9894 - val_loss: 0.2203 - val_accuracy: 0.9581\n",
            "\n",
            "Epoch 00139: val_accuracy did not improve from 0.95993\n",
            "Epoch 140/150\n",
            " - 208s - loss: 0.0318 - accuracy: 0.9894 - val_loss: 1.5406 - val_accuracy: 0.7013\n",
            "\n",
            "Epoch 00140: val_accuracy did not improve from 0.95993\n",
            "Epoch 141/150\n",
            " - 208s - loss: 0.0283 - accuracy: 0.9901 - val_loss: 0.2715 - val_accuracy: 0.9417\n",
            "\n",
            "Epoch 00141: val_accuracy did not improve from 0.95993\n",
            "Epoch 142/150\n",
            " - 206s - loss: 0.0218 - accuracy: 0.9928 - val_loss: 0.3083 - val_accuracy: 0.9253\n",
            "\n",
            "Epoch 00142: val_accuracy did not improve from 0.95993\n",
            "Epoch 143/150\n",
            " - 206s - loss: 0.0260 - accuracy: 0.9905 - val_loss: 0.1449 - val_accuracy: 0.9709\n",
            "\n",
            "Epoch 00143: val_accuracy improved from 0.95993 to 0.97086, saving model to resnet-model.h5\n",
            "Epoch 144/150\n",
            " - 209s - loss: 0.0232 - accuracy: 0.9923 - val_loss: 0.3525 - val_accuracy: 0.9290\n",
            "\n",
            "Epoch 00144: val_accuracy did not improve from 0.97086\n",
            "Epoch 145/150\n",
            " - 208s - loss: 0.0505 - accuracy: 0.9835 - val_loss: 0.3199 - val_accuracy: 0.9399\n",
            "\n",
            "Epoch 00145: val_accuracy did not improve from 0.97086\n",
            "Epoch 146/150\n",
            " - 209s - loss: 0.0279 - accuracy: 0.9908 - val_loss: 1.8007 - val_accuracy: 0.7359\n",
            "\n",
            "Epoch 00146: val_accuracy did not improve from 0.97086\n",
            "Epoch 147/150\n",
            " - 208s - loss: 0.0222 - accuracy: 0.9921 - val_loss: 0.2853 - val_accuracy: 0.9362\n",
            "\n",
            "Epoch 00147: val_accuracy did not improve from 0.97086\n",
            "Epoch 148/150\n",
            " - 209s - loss: 0.0254 - accuracy: 0.9899 - val_loss: 0.3487 - val_accuracy: 0.9308\n",
            "\n",
            "Epoch 00148: val_accuracy did not improve from 0.97086\n",
            "Epoch 149/150\n",
            " - 208s - loss: 0.0343 - accuracy: 0.9887 - val_loss: 0.2698 - val_accuracy: 0.9381\n",
            "\n",
            "Epoch 00149: val_accuracy did not improve from 0.97086\n",
            "Epoch 150/150\n",
            " - 208s - loss: 0.0354 - accuracy: 0.9890 - val_loss: 1.0919 - val_accuracy: 0.8033\n",
            "\n",
            "Epoch 00150: val_accuracy did not improve from 0.97086\n"
          ],
          "name": "stdout"
        }
      ]
    },
    {
      "cell_type": "code",
      "metadata": {
        "id": "z79BztU2Gg6v",
        "colab_type": "code",
        "colab": {}
      },
      "source": [
        "model.load_weights('resnet-model.h5')"
      ],
      "execution_count": 0,
      "outputs": []
    },
    {
      "cell_type": "markdown",
      "metadata": {
        "id": "2JO2-Otp6CwX",
        "colab_type": "text"
      },
      "source": [
        "# validation set"
      ]
    },
    {
      "cell_type": "code",
      "metadata": {
        "id": "41J1T7Xc6G_K",
        "colab_type": "code",
        "colab": {
          "base_uri": "https://localhost:8080/",
          "height": 187
        },
        "outputId": "fc216fbe-378c-4503-d499-74604735d09b"
      },
      "source": [
        "from sklearn.metrics import f1_score, precision_score, recall_score, confusion_matrix, accuracy_score\n",
        "y_pred1 = model.predict(valid_X,batch_size=1)\n",
        "print(y_pred1.shape)\n",
        "y_pred1=np.argmax(y_pred1,axis=1)\n",
        "print(y_pred1.shape)\n",
        "print(valid_label.shape)\n",
        "valid_label1=valid_label\n",
        "valid_label1=np.argmax(valid_label1,axis=1)\n",
        "print(valid_label1.shape)\n",
        "# y_pred1[1]\n",
        "# print(y_pred1[1])\n",
        "# print(\"//\")\n",
        "# y_pred[1]\n",
        "# print(\"//\")\n",
        "# valid_label[1]\n",
        "# #Print f1, precision, and recall scores\n",
        "print('Precision score:')\n",
        "print(precision_score(valid_label1, y_pred1,average='macro'))\n",
        "print('recall score:')\n",
        "print(recall_score(valid_label1, y_pred1,average='macro'))\n",
        "print('f1 score:')\n",
        "print(f1_score(valid_label1, y_pred1,average='macro'))\n",
        "\n",
        "#print(recall_score(valid_label1, y_pred1,average='micro'))\n",
        "# print('accuracy score:')\n",
        "# print(accuracy_score(valid_label1, y_pred1))\n",
        "# # val_pred=model.predict(valid_X,batch_size=40)\n",
        "# # np.round(val_pred[1])"
      ],
      "execution_count": 61,
      "outputs": [
        {
          "output_type": "stream",
          "text": [
            "(549, 12)\n",
            "(549,)\n",
            "(549, 12)\n",
            "(549,)\n",
            "Precision score:\n",
            "0.9642735678005062\n",
            "recall score:\n",
            "0.9691118052419422\n",
            "f1 score:\n",
            "0.9664733158586766\n"
          ],
          "name": "stdout"
        }
      ]
    },
    {
      "cell_type": "code",
      "metadata": {
        "id": "gBHd-M3t6L-4",
        "colab_type": "code",
        "colab": {
          "base_uri": "https://localhost:8080/",
          "height": 340
        },
        "outputId": "2d1a67ab-3186-4c62-b9ab-0051f3b0c690"
      },
      "source": [
        "from sklearn.metrics import classification_report\n",
        "cm_plot_labels=['Black-grass','Charlock', 'Cleavers','Common Chickweed','Common wheat','Fat Hen','Loose Silky-bent','Maize','Scentless Mayweed','ShepherdΓÇÖs Purse','Small-flowered Cranesbill','Sugar beet']\n",
        "# Generate a classification report\n",
        "report = classification_report(valid_label1, y_pred1,target_names=cm_plot_labels)\n",
        "\n",
        "print(report)\n",
        "# precision=.96\n",
        "# recall=.94\n",
        "# f1=.947"
      ],
      "execution_count": 62,
      "outputs": [
        {
          "output_type": "stream",
          "text": [
            "                           precision    recall  f1-score   support\n",
            "\n",
            "              Black-grass       0.80      0.80      0.80        25\n",
            "                 Charlock       1.00      0.97      0.99        40\n",
            "                 Cleavers       1.00      1.00      1.00        26\n",
            "         Common Chickweed       0.99      0.99      0.99        73\n",
            "             Common wheat       0.94      1.00      0.97        29\n",
            "                  Fat Hen       0.98      0.98      0.98        56\n",
            "         Loose Silky-bent       0.95      0.94      0.94        78\n",
            "                    Maize       0.95      1.00      0.98        20\n",
            "        Scentless Mayweed       0.98      1.00      0.99        61\n",
            "       ShepherdΓÇÖs Purse       1.00      1.00      1.00        23\n",
            "Small-flowered Cranesbill       1.00      0.95      0.97        60\n",
            "               Sugar beet       0.98      1.00      0.99        58\n",
            "\n",
            "                 accuracy                           0.97       549\n",
            "                macro avg       0.96      0.97      0.97       549\n",
            "             weighted avg       0.97      0.97      0.97       549\n",
            "\n"
          ],
          "name": "stdout"
        }
      ]
    },
    {
      "cell_type": "code",
      "metadata": {
        "id": "ZlOOEdpm6QLo",
        "colab_type": "code",
        "colab": {
          "base_uri": "https://localhost:8080/",
          "height": 981
        },
        "outputId": "c95642fb-cf61-4d83-e0fd-b9b45c08e9ac"
      },
      "source": [
        "    import matplotlib.pyplot as plt\n",
        "    import seaborn as sns\n",
        "    from sklearn import metrics\n",
        "    cm = metrics.confusion_matrix(valid_label1, y_pred1)\n",
        "    print(cm)\n",
        "    plt.figure(figsize=(12,12))\n",
        "    sns.heatmap(cm, annot=True, fmt=\".3f\", linewidths=.20, square = True, cmap = 'Blues_r');\n",
        "    plt.ylabel('Actual label');\n",
        "    plt.xlabel('Predicted label');\n",
        "    plt.xticks(range(12), ['Black-grass','Charlock', 'Cleavers','Common Chickweed','Common wheat','Fat Hen','Loose Silky-bent','Maize','Scentless Mayweed','ShepherdΓÇÖs Purse','Small-flowered Cranesbill','Sugar beet'], rotation=45,fontsize=10)\n",
        "    plt.yticks(range(12), ['Black-grass','Charlock', 'Cleavers','Common Chickweed','Common wheat','Fat Hen','Loose Silky-bent','Maize','Scentless Mayweed','ShepherdΓÇÖs Purse','Small-flowered Cranesbill','Sugar beet'],rotation=45, fontsize=10)\n",
        "    plt.show()\n",
        "    # /CATEGORIES = [\"Black-grass\", \"Charlock\",\"Cleavers\",\"Common Chickweed\",\"Common wheat\",\"Fat Hen\",\"Loose Silky-bent\",\"Maize\",\"Scentless Mayweed\",\"ShepherdΓÇÖs Purse\",\"Small-flowered Cranesbill\",\"Sugar beet\"]"
      ],
      "execution_count": 63,
      "outputs": [
        {
          "output_type": "stream",
          "text": [
            "[[20  0  0  0  2  0  3  0  0  0  0  0]\n",
            " [ 0 39  0  0  0  0  0  0  0  0  0  1]\n",
            " [ 0  0 26  0  0  0  0  0  0  0  0  0]\n",
            " [ 0  0  0 72  0  0  0  0  1  0  0  0]\n",
            " [ 0  0  0  0 29  0  0  0  0  0  0  0]\n",
            " [ 0  0  0  1  0 55  0  0  0  0  0  0]\n",
            " [ 5  0  0  0  0  0 73  0  0  0  0  0]\n",
            " [ 0  0  0  0  0  0  0 20  0  0  0  0]\n",
            " [ 0  0  0  0  0  0  0  0 61  0  0  0]\n",
            " [ 0  0  0  0  0  0  0  0  0 23  0  0]\n",
            " [ 0  0  0  0  0  1  1  1  0  0 57  0]\n",
            " [ 0  0  0  0  0  0  0  0  0  0  0 58]]\n"
          ],
          "name": "stdout"
        },
        {
          "output_type": "stream",
          "text": [
            "/usr/local/lib/python3.6/dist-packages/statsmodels/tools/_testing.py:19: FutureWarning: pandas.util.testing is deprecated. Use the functions in the public API at pandas.testing instead.\n",
            "  import pandas.util.testing as tm\n"
          ],
          "name": "stderr"
        },
        {
          "output_type": "display_data",
          "data": {
            "image/png": "[encoded data removed]",
            "text/plain": [
              "<Figure size 864x864 with 2 Axes>"
            ]
          },
          "metadata": {
            "tags": [],
            "needs_background": "light"
          }
        }
      ]
    },
    {
      "cell_type": "markdown",
      "metadata": {
        "id": "IqG3c3SZ6WPt",
        "colab_type": "text"
      },
      "source": [
        "# test set"
      ]
    },
    {
      "cell_type": "code",
      "metadata": {
        "id": "XuKICc6CUACp",
        "colab_type": "code",
        "outputId": "539967a8-7b8b-4703-ea60-86c5a13da028",
        "colab": {
          "base_uri": "https://localhost:8080/",
          "height": 34
        }
      },
      "source": [
        "test_eval =model.evaluate(x_test, y_test)"
      ],
      "execution_count": 64,
      "outputs": [
        {
          "output_type": "stream",
          "text": [
            "554/554 [==============================] - 8s 14ms/step\n"
          ],
          "name": "stdout"
        }
      ]
    },
    {
      "cell_type": "code",
      "metadata": {
        "id": "31qqo-aSUHRi",
        "colab_type": "code",
        "outputId": "260253b0-b74d-477f-ba83-4323004b22be",
        "colab": {
          "base_uri": "https://localhost:8080/",
          "height": 51
        }
      },
      "source": [
        "print('Test loss:', test_eval[0])\n",
        "print('Test accuracy:', test_eval[1])"
      ],
      "execution_count": 65,
      "outputs": [
        {
          "output_type": "stream",
          "text": [
            "Test loss: 0.16723092380467305\n",
            "Test accuracy: 0.9620938897132874\n"
          ],
          "name": "stdout"
        }
      ]
    },
    {
      "cell_type": "code",
      "metadata": {
        "id": "bRp9j62Tgu6u",
        "colab_type": "code",
        "outputId": "87e86bc7-7a8c-4e9e-a0a3-5a18b4cecb64",
        "colab": {
          "base_uri": "https://localhost:8080/",
          "height": 187
        }
      },
      "source": [
        "from sklearn.metrics import f1_score, precision_score, recall_score, confusion_matrix, accuracy_score\n",
        "y_pred1 = model.predict(x_test,batch_size=1)\n",
        "print(y_pred1.shape)\n",
        "y_pred1=np.argmax(y_pred1,axis=1)\n",
        "print(y_pred1.shape)\n",
        "print(y_test.shape)\n",
        "valid_label1=y_test\n",
        "valid_label1=np.argmax(valid_label1,axis=1)\n",
        "print(valid_label1.shape)\n",
        "# y_pred1[1]\n",
        "# print(y_pred1[1])\n",
        "# print(\"//\")\n",
        "# y_pred[1]\n",
        "# print(\"//\")\n",
        "# valid_label[1]\n",
        "# #Print f1, precision, and recall scores\n",
        "print('Precision score:')\n",
        "print(precision_score(valid_label1, y_pred1,average='macro'))\n",
        "print('recall score:')\n",
        "print(recall_score(valid_label1, y_pred1,average='macro'))\n",
        "print('f1 score:')\n",
        "print(f1_score(valid_label1, y_pred1,average='macro'))\n",
        "\n",
        "#print(recall_score(valid_label1, y_pred1,average='micro'))\n",
        "# print('accuracy score:')\n",
        "# print(accuracy_score(valid_label1, y_pred1))\n",
        "# # val_pred=model.predict(valid_X,batch_size=40)\n",
        "# # np.round(val_pred[1])"
      ],
      "execution_count": 66,
      "outputs": [
        {
          "output_type": "stream",
          "text": [
            "(554, 12)\n",
            "(554,)\n",
            "(554, 12)\n",
            "(554,)\n",
            "Precision score:\n",
            "0.9524390322170109\n",
            "recall score:\n",
            "0.9573609526928218\n",
            "f1 score:\n",
            "0.9543545001005612\n"
          ],
          "name": "stdout"
        }
      ]
    },
    {
      "cell_type": "code",
      "metadata": {
        "id": "LynW7DoyOs9q",
        "colab_type": "code",
        "outputId": "8508ee4c-010b-45df-cd3d-2db58cbbad73",
        "colab": {
          "base_uri": "https://localhost:8080/",
          "height": 932
        }
      },
      "source": [
        "    import matplotlib.pyplot as plt\n",
        "    import seaborn as sns\n",
        "    from sklearn import metrics\n",
        "    cm = metrics.confusion_matrix(valid_label1, y_pred1)\n",
        "    print(cm)\n",
        "    plt.figure(figsize=(12,12))\n",
        "    sns.heatmap(cm, annot=True, fmt=\".3f\", linewidths=.20, square = True, cmap = 'Blues_r');\n",
        "    plt.ylabel('Actual label');\n",
        "    plt.xlabel('Predicted label');\n",
        "    plt.xticks(range(12), ['Black-grass','Charlock', 'Cleavers','Common Chickweed','Common wheat','Fat Hen','Loose Silky-bent','Maize','Scentless Mayweed','ShepherdΓÇÖs Purse','Cranesbill','Sugar beet'], rotation=45,fontsize=10)\n",
        "    plt.yticks(range(12), ['Black-grass','Charlock', 'Cleavers','Common Chickweed','Common wheat','Fat Hen','Loose Silky-bent','Maize','Scentless Mayweed','ShepherdΓÇÖs Purse','Cranesbill','Sugar beet'],rotation=45, fontsize=10)\n",
        "    plt.show()\n",
        "    # /CATEGORIES = [\"Black-grass\", \"Charlock\",\"Cleavers\",\"Common Chickweed\",\"Common wheat\",\"Fat Hen\",\"Loose Silky-bent\",\"Maize\",\"Scentless Mayweed\",\"ShepherdΓÇÖs Purse\",\"Small-flowered Cranesbill\",\"Sugar beet\"]"
      ],
      "execution_count": 67,
      "outputs": [
        {
          "output_type": "stream",
          "text": [
            "[[22  0  0  0  0  0  4  0  0  0  0  0]\n",
            " [ 0 52  0  0  0  0  0  0  0  0  0  0]\n",
            " [ 0  0 23  0  1  0  0  0  0  0  0  0]\n",
            " [ 0  0  0 79  0  0  0  0  0  0  0  1]\n",
            " [ 0  0  0  0 22  0  0  0  0  0  0  1]\n",
            " [ 0  0  0  1  0 45  0  0  0  0  0  0]\n",
            " [ 5  0  0  1  1  0 75  0  0  0  0  0]\n",
            " [ 0  0  0  0  0  0  0 24  0  0  0  0]\n",
            " [ 0  0  0  0  0  0  0  0 65  0  0  0]\n",
            " [ 0  0  0  0  0  0  0  0  1 24  0  1]\n",
            " [ 0  0  2  0  0  0  0  0  0  0 56  0]\n",
            " [ 0  0  0  0  2  0  0  0  0  0  0 46]]\n"
          ],
          "name": "stdout"
        },
        {
          "output_type": "display_data",
          "data": {
            "image/png": "[encoded data removed]",
            "text/plain": [
              "<Figure size 864x864 with 2 Axes>"
            ]
          },
          "metadata": {
            "tags": [],
            "needs_background": "light"
          }
        }
      ]
    },
    {
      "cell_type": "code",
      "metadata": {
        "id": "Z3WOcnaqRJx1",
        "colab_type": "code",
        "outputId": "5761c110-081a-40f0-da55-cbd518d24e9e",
        "colab": {
          "base_uri": "https://localhost:8080/",
          "height": 340
        }
      },
      "source": [
        "from sklearn.metrics import classification_report\n",
        "cm_plot_labels=['Black-grass','Charlock', 'Cleavers','Common Chickweed','Common wheat','Fat Hen','Loose Silky-bent','Maize','Scentless Mayweed','ShepherdΓÇÖs Purse','Cranesbill','Sugar beet']\n",
        "# Generate a classification report\n",
        "report = classification_report(valid_label1, y_pred1,target_names=cm_plot_labels)\n",
        "\n",
        "print(report)\n",
        "# precision=.96\n",
        "# recall=.94\n",
        "# f1=.947"
      ],
      "execution_count": 68,
      "outputs": [
        {
          "output_type": "stream",
          "text": [
            "                    precision    recall  f1-score   support\n",
            "\n",
            "       Black-grass       0.81      0.85      0.83        26\n",
            "          Charlock       1.00      1.00      1.00        52\n",
            "          Cleavers       0.92      0.96      0.94        24\n",
            "  Common Chickweed       0.98      0.99      0.98        80\n",
            "      Common wheat       0.85      0.96      0.90        23\n",
            "           Fat Hen       1.00      0.98      0.99        46\n",
            "  Loose Silky-bent       0.95      0.91      0.93        82\n",
            "             Maize       1.00      1.00      1.00        24\n",
            " Scentless Mayweed       0.98      1.00      0.99        65\n",
            "ShepherdΓÇÖs Purse       1.00      0.92      0.96        26\n",
            "        Cranesbill       1.00      0.97      0.98        58\n",
            "        Sugar beet       0.94      0.96      0.95        48\n",
            "\n",
            "          accuracy                           0.96       554\n",
            "         macro avg       0.95      0.96      0.95       554\n",
            "      weighted avg       0.96      0.96      0.96       554\n",
            "\n"
          ],
          "name": "stdout"
        }
      ]
    },
    {
      "cell_type": "code",
      "metadata": {
        "id": "5ctal5TWtA06",
        "colab_type": "code",
        "colab": {}
      },
      "source": [
        "# valid_label[1]"
      ],
      "execution_count": 0,
      "outputs": []
    },
    {
      "cell_type": "code",
      "metadata": {
        "id": "_19OpGjCtNGr",
        "colab_type": "code",
        "colab": {}
      },
      "source": [
        "# rounded_labels=np.argmax(valid_label, axis=1)\n",
        "# rounded_labels[1]"
      ],
      "execution_count": 0,
      "outputs": []
    },
    {
      "cell_type": "code",
      "metadata": {
        "id": "Y33sDRaStof4",
        "colab_type": "code",
        "colab": {}
      },
      "source": [
        "# from sklearn.metrics import confusion_matrix\n",
        "# cm = confusion_matrix(valid_label, val_pred)\n",
        "# cm"
      ],
      "execution_count": 0,
      "outputs": []
    },
    {
      "cell_type": "markdown",
      "metadata": {
        "id": "Mp2VeOvUabaB",
        "colab_type": "text"
      },
      "source": [
        "# acc curve"
      ]
    },
    {
      "cell_type": "code",
      "metadata": {
        "id": "RDqCxbG7aVS0",
        "colab_type": "code",
        "outputId": "009703e1-ccc9-446a-e1e6-7abaa2faf517",
        "colab": {
          "base_uri": "https://localhost:8080/",
          "height": 295
        }
      },
      "source": [
        "plt.plot(history.history['accuracy'])\n",
        "plt.plot(history.history['val_accuracy'])\n",
        "plt.title('model accuracy')\n",
        "plt.ylabel('accuracy')\n",
        "plt.xlabel('epoch')\n",
        "plt.legend(['training', 'validation'], loc='upper left')\n",
        "plt.show()"
      ],
      "execution_count": 72,
      "outputs": [
        {
          "output_type": "display_data",
          "data": {
            "image/png": "[encoded data removed]",
            "text/plain": [
              "<Figure size 432x288 with 1 Axes>"
            ]
          },
          "metadata": {
            "tags": [],
            "needs_background": "light"
          }
        }
      ]
    },
    {
      "cell_type": "markdown",
      "metadata": {
        "id": "5uB2o9FFbDDc",
        "colab_type": "text"
      },
      "source": [
        "# loss curve"
      ]
    },
    {
      "cell_type": "code",
      "metadata": {
        "id": "0uOf3ah8bIag",
        "colab_type": "code",
        "outputId": "a48e000e-2f0a-493d-b73a-d84847a20281",
        "colab": {
          "base_uri": "https://localhost:8080/",
          "height": 295
        }
      },
      "source": [
        "plt.plot(history.history['loss'])\n",
        "plt.plot(history.history['val_loss'])\n",
        "plt.title('model loss')\n",
        "plt.ylabel('loss')\n",
        "plt.xlabel('epoch')\n",
        "plt.legend(['training', 'validation'], loc='upper left')\n",
        "plt.show()"
      ],
      "execution_count": 73,
      "outputs": [
        {
          "output_type": "display_data",
          "data": {
            "image/png": "[encoded data removed]",
            "text/plain": [
              "<Figure size 432x288 with 1 Axes>"
            ]
          },
          "metadata": {
            "tags": [],
            "needs_background": "light"
          }
        }
      ]
    },
    {
      "cell_type": "code",
      "metadata": {
        "id": "HqWB8RNreq_w",
        "colab_type": "code",
        "colab": {}
      },
      "source": [
        ""
      ],
      "execution_count": 0,
      "outputs": []
    },
    {
      "cell_type": "code",
      "metadata": {
        "id": "fmx_Y6rRGVNq",
        "colab_type": "code",
        "colab": {}
      },
      "source": [
        ""
      ],
      "execution_count": 0,
      "outputs": []
    },
    {
      "cell_type": "markdown",
      "metadata": {
        "id": "kEDZi8TOGXQq",
        "colab_type": "text"
      },
      "source": [
        "# DenseNet"
      ]
    },
    {
      "cell_type": "code",
      "metadata": {
        "id": "L71SHFJiGcV9",
        "colab_type": "code",
        "colab": {}
      },
      "source": [
        "classes=12\n",
        "def conv_layer(conv_x, filters):\n",
        "    conv_x = BatchNormalization()(conv_x)\n",
        "    conv_x = Activation('relu')(conv_x)\n",
        "    conv_x = Conv2D(filters, (3, 3), kernel_initializer='he_uniform', padding='same', use_bias=False)(conv_x)\n",
        "    conv_x = Dropout(0.2)(conv_x)\n",
        "\n",
        "    return conv_x\n",
        "\n",
        "\n",
        "def dense_block(block_x, filters, growth_rate, layers_in_block):\n",
        "    for i in range(layers_in_block):\n",
        "        each_layer = conv_layer(block_x, growth_rate)\n",
        "        block_x = concatenate([block_x, each_layer], axis=-1)\n",
        "        filters += growth_rate\n",
        "\n",
        "    return block_x, filters\n",
        "\n",
        "\n",
        "def transition_block(trans_x, tran_filters):\n",
        "    trans_x = BatchNormalization()(trans_x)\n",
        "    trans_x = Activation('relu')(trans_x)\n",
        "    trans_x = Conv2D(tran_filters, (1, 1), kernel_initializer='he_uniform', padding='same', use_bias=False)(trans_x)\n",
        "    trans_x = AveragePooling2D((2, 2), strides=(2, 2))(trans_x)\n",
        "\n",
        "    return trans_x, tran_filters\n",
        "\n",
        "\n",
        "def dense_net(filters, growth_rate, classes, dense_block_size, layers_in_block):\n",
        "    input_img = Input(shape=(224, 224, 3))\n",
        "    x = Conv2D(24, (3, 3), kernel_initializer='he_uniform', padding='same', use_bias=False)(input_img)\n",
        "\n",
        "    dense_x = BatchNormalization()(x)\n",
        "    dense_x = Activation('relu')(x)\n",
        "\n",
        "    dense_x = MaxPooling2D((3, 3), strides=(2, 2), padding='same')(dense_x)\n",
        "    for block in range(dense_block_size - 1):\n",
        "        dense_x, filters = dense_block(dense_x, filters, growth_rate, layers_in_block)\n",
        "        dense_x, filters = transition_block(dense_x, filters)\n",
        "\n",
        "    dense_x, filters = dense_block(dense_x, filters, growth_rate, layers_in_block)\n",
        "    dense_x = BatchNormalization()(dense_x)\n",
        "    dense_x = Activation('relu')(dense_x)\n",
        "    dense_x = GlobalAveragePooling2D()(dense_x)\n",
        "\n",
        "    output = Dense(classes, activation='softmax')(dense_x)\n",
        "\n",
        "    model=Model(input=input_img, out_put=output,name='densenet')\n",
        "    return model\n",
        "    print(type(model))"
      ],
      "execution_count": 0,
      "outputs": []
    },
    {
      "cell_type": "code",
      "metadata": {
        "id": "LXDbmoVvGg-v",
        "colab_type": "code",
        "colab": {}
      },
      "source": [
        "from keras.callbacks import ModelCheckpoint\n",
        "# # checkpoint = ModelCheckpoint(filepath, monitor='val_accuracy', verbose=1, save_best_only=True, mode='max')\n",
        "# callbacks=[ModelCheckpoint('weight.model', monitor='val_accuracy', save_best_only=True,mode='max')]\n",
        "# # callbacks_list = [checkpoint]\n",
        "filepath = \"res-model.h5\"\n",
        "checkpoint = ModelCheckpoint(filepath, monitor='val_accuracy', verbose=1, \n",
        "                             save_best_only=True, mode='max')\n",
        "callbacks_list = [checkpoint]"
      ],
      "execution_count": 0,
      "outputs": []
    },
    {
      "cell_type": "code",
      "metadata": {
        "id": "6BsayCDOGsKc",
        "colab_type": "code",
        "colab": {
          "base_uri": "https://localhost:8080/",
          "height": 1000
        },
        "outputId": "a1ebd27a-01d6-4a8d-dcd3-f6f8167fae12"
      },
      "source": [
        "model.compile(loss=keras.losses.categorical_crossentropy, optimizer=keras.optimizers.Adam(),metrics=['accuracy'])\n",
        "print(model.summary())"
      ],
      "execution_count": 76,
      "outputs": [
        {
          "output_type": "stream",
          "text": [
            "Model: \"model_1\"\n",
            "__________________________________________________________________________________________________\n",
            "Layer (type)                    Output Shape         Param #     Connected to                     \n",
            "==================================================================================================\n",
            "input_1 (InputLayer)            (None, 224, 224, 3)  0                                            \n",
            "__________________________________________________________________________________________________\n",
            "conv1_pad (ZeroPadding2D)       (None, 230, 230, 3)  0           input_1[0][0]                    \n",
            "__________________________________________________________________________________________________\n",
            "conv1 (Conv2D)                  (None, 112, 112, 64) 9472        conv1_pad[0][0]                  \n",
            "__________________________________________________________________________________________________\n",
            "bn_conv1 (BatchNormalization)   (None, 112, 112, 64) 256         conv1[0][0]                      \n",
            "__________________________________________________________________________________________________\n",
            "activation_1 (Activation)       (None, 112, 112, 64) 0           bn_conv1[0][0]                   \n",
            "__________________________________________________________________________________________________\n",
            "pool1_pad (ZeroPadding2D)       (None, 114, 114, 64) 0           activation_1[0][0]               \n",
            "__________________________________________________________________________________________________\n",
            "max_pooling2d_1 (MaxPooling2D)  (None, 56, 56, 64)   0           pool1_pad[0][0]                  \n",
            "__________________________________________________________________________________________________\n",
            "res2a_branch2a (Conv2D)         (None, 56, 56, 64)   4160        max_pooling2d_1[0][0]            \n",
            "__________________________________________________________________________________________________\n",
            "bn2a_branch2a (BatchNormalizati (None, 56, 56, 64)   256         res2a_branch2a[0][0]             \n",
            "__________________________________________________________________________________________________\n",
            "activation_2 (Activation)       (None, 56, 56, 64)   0           bn2a_branch2a[0][0]              \n",
            "__________________________________________________________________________________________________\n",
            "res2a_branch2b (Conv2D)         (None, 56, 56, 64)   36928       activation_2[0][0]               \n",
            "__________________________________________________________________________________________________\n",
            "bn2a_branch2b (BatchNormalizati (None, 56, 56, 64)   256         res2a_branch2b[0][0]             \n",
            "__________________________________________________________________________________________________\n",
            "activation_3 (Activation)       (None, 56, 56, 64)   0           bn2a_branch2b[0][0]              \n",
            "__________________________________________________________________________________________________\n",
            "res2a_branch2c (Conv2D)         (None, 56, 56, 256)  16640       activation_3[0][0]               \n",
            "__________________________________________________________________________________________________\n",
            "res2a_branch1 (Conv2D)          (None, 56, 56, 256)  16640       max_pooling2d_1[0][0]            \n",
            "__________________________________________________________________________________________________\n",
            "bn2a_branch2c (BatchNormalizati (None, 56, 56, 256)  1024        res2a_branch2c[0][0]             \n",
            "__________________________________________________________________________________________________\n",
            "bn2a_branch1 (BatchNormalizatio (None, 56, 56, 256)  1024        res2a_branch1[0][0]              \n",
            "__________________________________________________________________________________________________\n",
            "add_1 (Add)                     (None, 56, 56, 256)  0           bn2a_branch2c[0][0]              \n",
            "                                                                 bn2a_branch1[0][0]               \n",
            "__________________________________________________________________________________________________\n",
            "activation_4 (Activation)       (None, 56, 56, 256)  0           add_1[0][0]                      \n",
            "__________________________________________________________________________________________________\n",
            "res2b_branch2a (Conv2D)         (None, 56, 56, 64)   16448       activation_4[0][0]               \n",
            "__________________________________________________________________________________________________\n",
            "bn2b_branch2a (BatchNormalizati (None, 56, 56, 64)   256         res2b_branch2a[0][0]             \n",
            "__________________________________________________________________________________________________\n",
            "activation_5 (Activation)       (None, 56, 56, 64)   0           bn2b_branch2a[0][0]              \n",
            "__________________________________________________________________________________________________\n",
            "res2b_branch2b (Conv2D)         (None, 56, 56, 64)   36928       activation_5[0][0]               \n",
            "__________________________________________________________________________________________________\n",
            "bn2b_branch2b (BatchNormalizati (None, 56, 56, 64)   256         res2b_branch2b[0][0]             \n",
            "__________________________________________________________________________________________________\n",
            "activation_6 (Activation)       (None, 56, 56, 64)   0           bn2b_branch2b[0][0]              \n",
            "__________________________________________________________________________________________________\n",
            "res2b_branch2c (Conv2D)         (None, 56, 56, 256)  16640       activation_6[0][0]               \n",
            "__________________________________________________________________________________________________\n",
            "bn2b_branch2c (BatchNormalizati (None, 56, 56, 256)  1024        res2b_branch2c[0][0]             \n",
            "__________________________________________________________________________________________________\n",
            "add_2 (Add)                     (None, 56, 56, 256)  0           bn2b_branch2c[0][0]              \n",
            "                                                                 activation_4[0][0]               \n",
            "__________________________________________________________________________________________________\n",
            "activation_7 (Activation)       (None, 56, 56, 256)  0           add_2[0][0]                      \n",
            "__________________________________________________________________________________________________\n",
            "res2c_branch2a (Conv2D)         (None, 56, 56, 64)   16448       activation_7[0][0]               \n",
            "__________________________________________________________________________________________________\n",
            "bn2c_branch2a (BatchNormalizati (None, 56, 56, 64)   256         res2c_branch2a[0][0]             \n",
            "__________________________________________________________________________________________________\n",
            "activation_8 (Activation)       (None, 56, 56, 64)   0           bn2c_branch2a[0][0]              \n",
            "__________________________________________________________________________________________________\n",
            "res2c_branch2b (Conv2D)         (None, 56, 56, 64)   36928       activation_8[0][0]               \n",
            "__________________________________________________________________________________________________\n",
            "bn2c_branch2b (BatchNormalizati (None, 56, 56, 64)   256         res2c_branch2b[0][0]             \n",
            "__________________________________________________________________________________________________\n",
            "activation_9 (Activation)       (None, 56, 56, 64)   0           bn2c_branch2b[0][0]              \n",
            "__________________________________________________________________________________________________\n",
            "res2c_branch2c (Conv2D)         (None, 56, 56, 256)  16640       activation_9[0][0]               \n",
            "__________________________________________________________________________________________________\n",
            "bn2c_branch2c (BatchNormalizati (None, 56, 56, 256)  1024        res2c_branch2c[0][0]             \n",
            "__________________________________________________________________________________________________\n",
            "add_3 (Add)                     (None, 56, 56, 256)  0           bn2c_branch2c[0][0]              \n",
            "                                                                 activation_7[0][0]               \n",
            "__________________________________________________________________________________________________\n",
            "activation_10 (Activation)      (None, 56, 56, 256)  0           add_3[0][0]                      \n",
            "__________________________________________________________________________________________________\n",
            "res3a_branch2a (Conv2D)         (None, 28, 28, 128)  32896       activation_10[0][0]              \n",
            "__________________________________________________________________________________________________\n",
            "bn3a_branch2a (BatchNormalizati (None, 28, 28, 128)  512         res3a_branch2a[0][0]             \n",
            "__________________________________________________________________________________________________\n",
            "activation_11 (Activation)      (None, 28, 28, 128)  0           bn3a_branch2a[0][0]              \n",
            "__________________________________________________________________________________________________\n",
            "res3a_branch2b (Conv2D)         (None, 28, 28, 128)  147584      activation_11[0][0]              \n",
            "__________________________________________________________________________________________________\n",
            "bn3a_branch2b (BatchNormalizati (None, 28, 28, 128)  512         res3a_branch2b[0][0]             \n",
            "__________________________________________________________________________________________________\n",
            "activation_12 (Activation)      (None, 28, 28, 128)  0           bn3a_branch2b[0][0]              \n",
            "__________________________________________________________________________________________________\n",
            "res3a_branch2c (Conv2D)         (None, 28, 28, 512)  66048       activation_12[0][0]              \n",
            "__________________________________________________________________________________________________\n",
            "res3a_branch1 (Conv2D)          (None, 28, 28, 512)  131584      activation_10[0][0]              \n",
            "__________________________________________________________________________________________________\n",
            "bn3a_branch2c (BatchNormalizati (None, 28, 28, 512)  2048        res3a_branch2c[0][0]             \n",
            "__________________________________________________________________________________________________\n",
            "bn3a_branch1 (BatchNormalizatio (None, 28, 28, 512)  2048        res3a_branch1[0][0]              \n",
            "__________________________________________________________________________________________________\n",
            "add_4 (Add)                     (None, 28, 28, 512)  0           bn3a_branch2c[0][0]              \n",
            "                                                                 bn3a_branch1[0][0]               \n",
            "__________________________________________________________________________________________________\n",
            "activation_13 (Activation)      (None, 28, 28, 512)  0           add_4[0][0]                      \n",
            "__________________________________________________________________________________________________\n",
            "res3b_branch2a (Conv2D)         (None, 28, 28, 128)  65664       activation_13[0][0]              \n",
            "__________________________________________________________________________________________________\n",
            "bn3b_branch2a (BatchNormalizati (None, 28, 28, 128)  512         res3b_branch2a[0][0]             \n",
            "__________________________________________________________________________________________________\n",
            "activation_14 (Activation)      (None, 28, 28, 128)  0           bn3b_branch2a[0][0]              \n",
            "__________________________________________________________________________________________________\n",
            "res3b_branch2b (Conv2D)         (None, 28, 28, 128)  147584      activation_14[0][0]              \n",
            "__________________________________________________________________________________________________\n",
            "bn3b_branch2b (BatchNormalizati (None, 28, 28, 128)  512         res3b_branch2b[0][0]             \n",
            "__________________________________________________________________________________________________\n",
            "activation_15 (Activation)      (None, 28, 28, 128)  0           bn3b_branch2b[0][0]              \n",
            "__________________________________________________________________________________________________\n",
            "res3b_branch2c (Conv2D)         (None, 28, 28, 512)  66048       activation_15[0][0]              \n",
            "__________________________________________________________________________________________________\n",
            "bn3b_branch2c (BatchNormalizati (None, 28, 28, 512)  2048        res3b_branch2c[0][0]             \n",
            "__________________________________________________________________________________________________\n",
            "add_5 (Add)                     (None, 28, 28, 512)  0           bn3b_branch2c[0][0]              \n",
            "                                                                 activation_13[0][0]              \n",
            "__________________________________________________________________________________________________\n",
            "activation_16 (Activation)      (None, 28, 28, 512)  0           add_5[0][0]                      \n",
            "__________________________________________________________________________________________________\n",
            "res3c_branch2a (Conv2D)         (None, 28, 28, 128)  65664       activation_16[0][0]              \n",
            "__________________________________________________________________________________________________\n",
            "bn3c_branch2a (BatchNormalizati (None, 28, 28, 128)  512         res3c_branch2a[0][0]             \n",
            "__________________________________________________________________________________________________\n",
            "activation_17 (Activation)      (None, 28, 28, 128)  0           bn3c_branch2a[0][0]              \n",
            "__________________________________________________________________________________________________\n",
            "res3c_branch2b (Conv2D)         (None, 28, 28, 128)  147584      activation_17[0][0]              \n",
            "__________________________________________________________________________________________________\n",
            "bn3c_branch2b (BatchNormalizati (None, 28, 28, 128)  512         res3c_branch2b[0][0]             \n",
            "__________________________________________________________________________________________________\n",
            "activation_18 (Activation)      (None, 28, 28, 128)  0           bn3c_branch2b[0][0]              \n",
            "__________________________________________________________________________________________________\n",
            "res3c_branch2c (Conv2D)         (None, 28, 28, 512)  66048       activation_18[0][0]              \n",
            "__________________________________________________________________________________________________\n",
            "bn3c_branch2c (BatchNormalizati (None, 28, 28, 512)  2048        res3c_branch2c[0][0]             \n",
            "__________________________________________________________________________________________________\n",
            "add_6 (Add)                     (None, 28, 28, 512)  0           bn3c_branch2c[0][0]              \n",
            "                                                                 activation_16[0][0]              \n",
            "__________________________________________________________________________________________________\n",
            "activation_19 (Activation)      (None, 28, 28, 512)  0           add_6[0][0]                      \n",
            "__________________________________________________________________________________________________\n",
            "res3d_branch2a (Conv2D)         (None, 28, 28, 128)  65664       activation_19[0][0]              \n",
            "__________________________________________________________________________________________________\n",
            "bn3d_branch2a (BatchNormalizati (None, 28, 28, 128)  512         res3d_branch2a[0][0]             \n",
            "__________________________________________________________________________________________________\n",
            "activation_20 (Activation)      (None, 28, 28, 128)  0           bn3d_branch2a[0][0]              \n",
            "__________________________________________________________________________________________________\n",
            "res3d_branch2b (Conv2D)         (None, 28, 28, 128)  147584      activation_20[0][0]              \n",
            "__________________________________________________________________________________________________\n",
            "bn3d_branch2b (BatchNormalizati (None, 28, 28, 128)  512         res3d_branch2b[0][0]             \n",
            "__________________________________________________________________________________________________\n",
            "activation_21 (Activation)      (None, 28, 28, 128)  0           bn3d_branch2b[0][0]              \n",
            "__________________________________________________________________________________________________\n",
            "res3d_branch2c (Conv2D)         (None, 28, 28, 512)  66048       activation_21[0][0]              \n",
            "__________________________________________________________________________________________________\n",
            "bn3d_branch2c (BatchNormalizati (None, 28, 28, 512)  2048        res3d_branch2c[0][0]             \n",
            "__________________________________________________________________________________________________\n",
            "add_7 (Add)                     (None, 28, 28, 512)  0           bn3d_branch2c[0][0]              \n",
            "                                                                 activation_19[0][0]              \n",
            "__________________________________________________________________________________________________\n",
            "activation_22 (Activation)      (None, 28, 28, 512)  0           add_7[0][0]                      \n",
            "__________________________________________________________________________________________________\n",
            "res4a_branch2a (Conv2D)         (None, 14, 14, 256)  131328      activation_22[0][0]              \n",
            "__________________________________________________________________________________________________\n",
            "bn4a_branch2a (BatchNormalizati (None, 14, 14, 256)  1024        res4a_branch2a[0][0]             \n",
            "__________________________________________________________________________________________________\n",
            "activation_23 (Activation)      (None, 14, 14, 256)  0           bn4a_branch2a[0][0]              \n",
            "__________________________________________________________________________________________________\n",
            "res4a_branch2b (Conv2D)         (None, 14, 14, 256)  590080      activation_23[0][0]              \n",
            "__________________________________________________________________________________________________\n",
            "bn4a_branch2b (BatchNormalizati (None, 14, 14, 256)  1024        res4a_branch2b[0][0]             \n",
            "__________________________________________________________________________________________________\n",
            "activation_24 (Activation)      (None, 14, 14, 256)  0           bn4a_branch2b[0][0]              \n",
            "__________________________________________________________________________________________________\n",
            "res4a_branch2c (Conv2D)         (None, 14, 14, 1024) 263168      activation_24[0][0]              \n",
            "__________________________________________________________________________________________________\n",
            "res4a_branch1 (Conv2D)          (None, 14, 14, 1024) 525312      activation_22[0][0]              \n",
            "__________________________________________________________________________________________________\n",
            "bn4a_branch2c (BatchNormalizati (None, 14, 14, 1024) 4096        res4a_branch2c[0][0]             \n",
            "__________________________________________________________________________________________________\n",
            "bn4a_branch1 (BatchNormalizatio (None, 14, 14, 1024) 4096        res4a_branch1[0][0]              \n",
            "__________________________________________________________________________________________________\n",
            "add_8 (Add)                     (None, 14, 14, 1024) 0           bn4a_branch2c[0][0]              \n",
            "                                                                 bn4a_branch1[0][0]               \n",
            "__________________________________________________________________________________________________\n",
            "activation_25 (Activation)      (None, 14, 14, 1024) 0           add_8[0][0]                      \n",
            "__________________________________________________________________________________________________\n",
            "res4b_branch2a (Conv2D)         (None, 14, 14, 256)  262400      activation_25[0][0]              \n",
            "__________________________________________________________________________________________________\n",
            "bn4b_branch2a (BatchNormalizati (None, 14, 14, 256)  1024        res4b_branch2a[0][0]             \n",
            "__________________________________________________________________________________________________\n",
            "activation_26 (Activation)      (None, 14, 14, 256)  0           bn4b_branch2a[0][0]              \n",
            "__________________________________________________________________________________________________\n",
            "res4b_branch2b (Conv2D)         (None, 14, 14, 256)  590080      activation_26[0][0]              \n",
            "__________________________________________________________________________________________________\n",
            "bn4b_branch2b (BatchNormalizati (None, 14, 14, 256)  1024        res4b_branch2b[0][0]             \n",
            "__________________________________________________________________________________________________\n",
            "activation_27 (Activation)      (None, 14, 14, 256)  0           bn4b_branch2b[0][0]              \n",
            "__________________________________________________________________________________________________\n",
            "res4b_branch2c (Conv2D)         (None, 14, 14, 1024) 263168      activation_27[0][0]              \n",
            "__________________________________________________________________________________________________\n",
            "bn4b_branch2c (BatchNormalizati (None, 14, 14, 1024) 4096        res4b_branch2c[0][0]             \n",
            "__________________________________________________________________________________________________\n",
            "add_9 (Add)                     (None, 14, 14, 1024) 0           bn4b_branch2c[0][0]              \n",
            "                                                                 activation_25[0][0]              \n",
            "__________________________________________________________________________________________________\n",
            "activation_28 (Activation)      (None, 14, 14, 1024) 0           add_9[0][0]                      \n",
            "__________________________________________________________________________________________________\n",
            "res4c_branch2a (Conv2D)         (None, 14, 14, 256)  262400      activation_28[0][0]              \n",
            "__________________________________________________________________________________________________\n",
            "bn4c_branch2a (BatchNormalizati (None, 14, 14, 256)  1024        res4c_branch2a[0][0]             \n",
            "__________________________________________________________________________________________________\n",
            "activation_29 (Activation)      (None, 14, 14, 256)  0           bn4c_branch2a[0][0]              \n",
            "__________________________________________________________________________________________________\n",
            "res4c_branch2b (Conv2D)         (None, 14, 14, 256)  590080      activation_29[0][0]              \n",
            "__________________________________________________________________________________________________\n",
            "bn4c_branch2b (BatchNormalizati (None, 14, 14, 256)  1024        res4c_branch2b[0][0]             \n",
            "__________________________________________________________________________________________________\n",
            "activation_30 (Activation)      (None, 14, 14, 256)  0           bn4c_branch2b[0][0]              \n",
            "__________________________________________________________________________________________________\n",
            "res4c_branch2c (Conv2D)         (None, 14, 14, 1024) 263168      activation_30[0][0]              \n",
            "__________________________________________________________________________________________________\n",
            "bn4c_branch2c (BatchNormalizati (None, 14, 14, 1024) 4096        res4c_branch2c[0][0]             \n",
            "__________________________________________________________________________________________________\n",
            "add_10 (Add)                    (None, 14, 14, 1024) 0           bn4c_branch2c[0][0]              \n",
            "                                                                 activation_28[0][0]              \n",
            "__________________________________________________________________________________________________\n",
            "activation_31 (Activation)      (None, 14, 14, 1024) 0           add_10[0][0]                     \n",
            "__________________________________________________________________________________________________\n",
            "res4d_branch2a (Conv2D)         (None, 14, 14, 256)  262400      activation_31[0][0]              \n",
            "__________________________________________________________________________________________________\n",
            "bn4d_branch2a (BatchNormalizati (None, 14, 14, 256)  1024        res4d_branch2a[0][0]             \n",
            "__________________________________________________________________________________________________\n",
            "activation_32 (Activation)      (None, 14, 14, 256)  0           bn4d_branch2a[0][0]              \n",
            "__________________________________________________________________________________________________\n",
            "res4d_branch2b (Conv2D)         (None, 14, 14, 256)  590080      activation_32[0][0]              \n",
            "__________________________________________________________________________________________________\n",
            "bn4d_branch2b (BatchNormalizati (None, 14, 14, 256)  1024        res4d_branch2b[0][0]             \n",
            "__________________________________________________________________________________________________\n",
            "activation_33 (Activation)      (None, 14, 14, 256)  0           bn4d_branch2b[0][0]              \n",
            "__________________________________________________________________________________________________\n",
            "res4d_branch2c (Conv2D)         (None, 14, 14, 1024) 263168      activation_33[0][0]              \n",
            "__________________________________________________________________________________________________\n",
            "bn4d_branch2c (BatchNormalizati (None, 14, 14, 1024) 4096        res4d_branch2c[0][0]             \n",
            "__________________________________________________________________________________________________\n",
            "add_11 (Add)                    (None, 14, 14, 1024) 0           bn4d_branch2c[0][0]              \n",
            "                                                                 activation_31[0][0]              \n",
            "__________________________________________________________________________________________________\n",
            "activation_34 (Activation)      (None, 14, 14, 1024) 0           add_11[0][0]                     \n",
            "__________________________________________________________________________________________________\n",
            "res4e_branch2a (Conv2D)         (None, 14, 14, 256)  262400      activation_34[0][0]              \n",
            "__________________________________________________________________________________________________\n",
            "bn4e_branch2a (BatchNormalizati (None, 14, 14, 256)  1024        res4e_branch2a[0][0]             \n",
            "__________________________________________________________________________________________________\n",
            "activation_35 (Activation)      (None, 14, 14, 256)  0           bn4e_branch2a[0][0]              \n",
            "__________________________________________________________________________________________________\n",
            "res4e_branch2b (Conv2D)         (None, 14, 14, 256)  590080      activation_35[0][0]              \n",
            "__________________________________________________________________________________________________\n",
            "bn4e_branch2b (BatchNormalizati (None, 14, 14, 256)  1024        res4e_branch2b[0][0]             \n",
            "__________________________________________________________________________________________________\n",
            "activation_36 (Activation)      (None, 14, 14, 256)  0           bn4e_branch2b[0][0]              \n",
            "__________________________________________________________________________________________________\n",
            "res4e_branch2c (Conv2D)         (None, 14, 14, 1024) 263168      activation_36[0][0]              \n",
            "__________________________________________________________________________________________________\n",
            "bn4e_branch2c (BatchNormalizati (None, 14, 14, 1024) 4096        res4e_branch2c[0][0]             \n",
            "__________________________________________________________________________________________________\n",
            "add_12 (Add)                    (None, 14, 14, 1024) 0           bn4e_branch2c[0][0]              \n",
            "                                                                 activation_34[0][0]              \n",
            "__________________________________________________________________________________________________\n",
            "activation_37 (Activation)      (None, 14, 14, 1024) 0           add_12[0][0]                     \n",
            "__________________________________________________________________________________________________\n",
            "res4f_branch2a (Conv2D)         (None, 14, 14, 256)  262400      activation_37[0][0]              \n",
            "__________________________________________________________________________________________________\n",
            "bn4f_branch2a (BatchNormalizati (None, 14, 14, 256)  1024        res4f_branch2a[0][0]             \n",
            "__________________________________________________________________________________________________\n",
            "activation_38 (Activation)      (None, 14, 14, 256)  0           bn4f_branch2a[0][0]              \n",
            "__________________________________________________________________________________________________\n",
            "res4f_branch2b (Conv2D)         (None, 14, 14, 256)  590080      activation_38[0][0]              \n",
            "__________________________________________________________________________________________________\n",
            "bn4f_branch2b (BatchNormalizati (None, 14, 14, 256)  1024        res4f_branch2b[0][0]             \n",
            "__________________________________________________________________________________________________\n",
            "activation_39 (Activation)      (None, 14, 14, 256)  0           bn4f_branch2b[0][0]              \n",
            "__________________________________________________________________________________________________\n",
            "res4f_branch2c (Conv2D)         (None, 14, 14, 1024) 263168      activation_39[0][0]              \n",
            "__________________________________________________________________________________________________\n",
            "bn4f_branch2c (BatchNormalizati (None, 14, 14, 1024) 4096        res4f_branch2c[0][0]             \n",
            "__________________________________________________________________________________________________\n",
            "add_13 (Add)                    (None, 14, 14, 1024) 0           bn4f_branch2c[0][0]              \n",
            "                                                                 activation_37[0][0]              \n",
            "__________________________________________________________________________________________________\n",
            "activation_40 (Activation)      (None, 14, 14, 1024) 0           add_13[0][0]                     \n",
            "__________________________________________________________________________________________________\n",
            "res5a_branch2a (Conv2D)         (None, 7, 7, 512)    524800      activation_40[0][0]              \n",
            "__________________________________________________________________________________________________\n",
            "bn5a_branch2a (BatchNormalizati (None, 7, 7, 512)    2048        res5a_branch2a[0][0]             \n",
            "__________________________________________________________________________________________________\n",
            "activation_41 (Activation)      (None, 7, 7, 512)    0           bn5a_branch2a[0][0]              \n",
            "__________________________________________________________________________________________________\n",
            "res5a_branch2b (Conv2D)         (None, 7, 7, 512)    2359808     activation_41[0][0]              \n",
            "__________________________________________________________________________________________________\n",
            "bn5a_branch2b (BatchNormalizati (None, 7, 7, 512)    2048        res5a_branch2b[0][0]             \n",
            "__________________________________________________________________________________________________\n",
            "activation_42 (Activation)      (None, 7, 7, 512)    0           bn5a_branch2b[0][0]              \n",
            "__________________________________________________________________________________________________\n",
            "res5a_branch2c (Conv2D)         (None, 7, 7, 2048)   1050624     activation_42[0][0]              \n",
            "__________________________________________________________________________________________________\n",
            "res5a_branch1 (Conv2D)          (None, 7, 7, 2048)   2099200     activation_40[0][0]              \n",
            "__________________________________________________________________________________________________\n",
            "bn5a_branch2c (BatchNormalizati (None, 7, 7, 2048)   8192        res5a_branch2c[0][0]             \n",
            "__________________________________________________________________________________________________\n",
            "bn5a_branch1 (BatchNormalizatio (None, 7, 7, 2048)   8192        res5a_branch1[0][0]              \n",
            "__________________________________________________________________________________________________\n",
            "add_14 (Add)                    (None, 7, 7, 2048)   0           bn5a_branch2c[0][0]              \n",
            "                                                                 bn5a_branch1[0][0]               \n",
            "__________________________________________________________________________________________________\n",
            "activation_43 (Activation)      (None, 7, 7, 2048)   0           add_14[0][0]                     \n",
            "__________________________________________________________________________________________________\n",
            "res5b_branch2a (Conv2D)         (None, 7, 7, 512)    1049088     activation_43[0][0]              \n",
            "__________________________________________________________________________________________________\n",
            "bn5b_branch2a (BatchNormalizati (None, 7, 7, 512)    2048        res5b_branch2a[0][0]             \n",
            "__________________________________________________________________________________________________\n",
            "activation_44 (Activation)      (None, 7, 7, 512)    0           bn5b_branch2a[0][0]              \n",
            "__________________________________________________________________________________________________\n",
            "res5b_branch2b (Conv2D)         (None, 7, 7, 512)    2359808     activation_44[0][0]              \n",
            "__________________________________________________________________________________________________\n",
            "bn5b_branch2b (BatchNormalizati (None, 7, 7, 512)    2048        res5b_branch2b[0][0]             \n",
            "__________________________________________________________________________________________________\n",
            "activation_45 (Activation)      (None, 7, 7, 512)    0           bn5b_branch2b[0][0]              \n",
            "__________________________________________________________________________________________________\n",
            "res5b_branch2c (Conv2D)         (None, 7, 7, 2048)   1050624     activation_45[0][0]              \n",
            "__________________________________________________________________________________________________\n",
            "bn5b_branch2c (BatchNormalizati (None, 7, 7, 2048)   8192        res5b_branch2c[0][0]             \n",
            "__________________________________________________________________________________________________\n",
            "add_15 (Add)                    (None, 7, 7, 2048)   0           bn5b_branch2c[0][0]              \n",
            "                                                                 activation_43[0][0]              \n",
            "__________________________________________________________________________________________________\n",
            "activation_46 (Activation)      (None, 7, 7, 2048)   0           add_15[0][0]                     \n",
            "__________________________________________________________________________________________________\n",
            "res5c_branch2a (Conv2D)         (None, 7, 7, 512)    1049088     activation_46[0][0]              \n",
            "__________________________________________________________________________________________________\n",
            "bn5c_branch2a (BatchNormalizati (None, 7, 7, 512)    2048        res5c_branch2a[0][0]             \n",
            "__________________________________________________________________________________________________\n",
            "activation_47 (Activation)      (None, 7, 7, 512)    0           bn5c_branch2a[0][0]              \n",
            "__________________________________________________________________________________________________\n",
            "res5c_branch2b (Conv2D)         (None, 7, 7, 512)    2359808     activation_47[0][0]              \n",
            "__________________________________________________________________________________________________\n",
            "bn5c_branch2b (BatchNormalizati (None, 7, 7, 512)    2048        res5c_branch2b[0][0]             \n",
            "__________________________________________________________________________________________________\n",
            "activation_48 (Activation)      (None, 7, 7, 512)    0           bn5c_branch2b[0][0]              \n",
            "__________________________________________________________________________________________________\n",
            "res5c_branch2c (Conv2D)         (None, 7, 7, 2048)   1050624     activation_48[0][0]              \n",
            "__________________________________________________________________________________________________\n",
            "bn5c_branch2c (BatchNormalizati (None, 7, 7, 2048)   8192        res5c_branch2c[0][0]             \n",
            "__________________________________________________________________________________________________\n",
            "add_16 (Add)                    (None, 7, 7, 2048)   0           bn5c_branch2c[0][0]              \n",
            "                                                                 activation_46[0][0]              \n",
            "__________________________________________________________________________________________________\n",
            "activation_49 (Activation)      (None, 7, 7, 2048)   0           add_16[0][0]                     \n",
            "__________________________________________________________________________________________________\n",
            "avg_pool (GlobalAveragePooling2 (None, 2048)         0           activation_49[0][0]              \n",
            "__________________________________________________________________________________________________\n",
            "fc12 (Dense)                    (None, 12)           24588       avg_pool[0][0]                   \n",
            "==================================================================================================\n",
            "Total params: 23,612,300\n",
            "Trainable params: 23,559,180\n",
            "Non-trainable params: 53,120\n",
            "__________________________________________________________________________________________________\n",
            "None\n"
          ],
          "name": "stdout"
        }
      ]
    },
    {
      "cell_type": "code",
      "metadata": {
        "id": "fqm1YxzYGvDW",
        "colab_type": "code",
        "colab": {
          "base_uri": "https://localhost:8080/",
          "height": 391
        },
        "outputId": "18935732-8864-4b66-84fb-7aa28175e945"
      },
      "source": [
        "history = model.fit_generator(gen.flow(train_X, train_label, batch_size=batch_size),epochs=epochs,verbose=2,validation_data=(valid_X, valid_label),callbacks=callbacks_list)"
      ],
      "execution_count": 77,
      "outputs": [
        {
          "output_type": "stream",
          "text": [
            "Epoch 1/150\n",
            " - 226s - loss: 0.0315 - accuracy: 0.9899 - val_loss: 0.3192 - val_accuracy: 0.9362\n",
            "\n",
            "Epoch 00001: val_accuracy improved from -inf to 0.93625, saving model to res-model.h5\n",
            "Epoch 2/150\n"
          ],
          "name": "stdout"
        },
        {
          "output_type": "error",
          "ename": "KeyboardInterrupt",
          "evalue": "ignored",
          "traceback": [
            "\u001b[0;31m---------------------------------------------------------------------------\u001b[0m",
            "\u001b[0;31mKeyboardInterrupt\u001b[0m                         Traceback (most recent call last)",
            "\u001b[0;32m<ipython-input-77-6d0ac008f40e>\u001b[0m in \u001b[0;36m<module>\u001b[0;34m()\u001b[0m\n\u001b[0;32m----> 1\u001b[0;31m \u001b[0mhistory\u001b[0m \u001b[0;34m=\u001b[0m \u001b[0mmodel\u001b[0m\u001b[0;34m.\u001b[0m\u001b[0mfit_generator\u001b[0m\u001b[0;34m(\u001b[0m\u001b[0mgen\u001b[0m\u001b[0;34m.\u001b[0m\u001b[0mflow\u001b[0m\u001b[0;34m(\u001b[0m\u001b[0mtrain_X\u001b[0m\u001b[0;34m,\u001b[0m \u001b[0mtrain_label\u001b[0m\u001b[0;34m,\u001b[0m \u001b[0mbatch_size\u001b[0m\u001b[0;34m=\u001b[0m\u001b[0mbatch_size\u001b[0m\u001b[0;34m)\u001b[0m\u001b[0;34m,\u001b[0m\u001b[0mepochs\u001b[0m\u001b[0;34m=\u001b[0m\u001b[0mepochs\u001b[0m\u001b[0;34m,\u001b[0m\u001b[0mverbose\u001b[0m\u001b[0;34m=\u001b[0m\u001b[0;36m2\u001b[0m\u001b[0;34m,\u001b[0m\u001b[0mvalidation_data\u001b[0m\u001b[0;34m=\u001b[0m\u001b[0;34m(\u001b[0m\u001b[0mvalid_X\u001b[0m\u001b[0;34m,\u001b[0m \u001b[0mvalid_label\u001b[0m\u001b[0;34m)\u001b[0m\u001b[0;34m,\u001b[0m\u001b[0mcallbacks\u001b[0m\u001b[0;34m=\u001b[0m\u001b[0mcallbacks_list\u001b[0m\u001b[0;34m)\u001b[0m\u001b[0;34m\u001b[0m\u001b[0;34m\u001b[0m\u001b[0m\n\u001b[0m",
            "\u001b[0;32m/usr/local/lib/python3.6/dist-packages/keras/legacy/interfaces.py\u001b[0m in \u001b[0;36mwrapper\u001b[0;34m(*args, **kwargs)\u001b[0m\n\u001b[1;32m     89\u001b[0m                 warnings.warn('Update your `' + object_name + '` call to the ' +\n\u001b[1;32m     90\u001b[0m                               'Keras 2 API: ' + signature, stacklevel=2)\n\u001b[0;32m---> 91\u001b[0;31m             \u001b[0;32mreturn\u001b[0m \u001b[0mfunc\u001b[0m\u001b[0;34m(\u001b[0m\u001b[0;34m*\u001b[0m\u001b[0margs\u001b[0m\u001b[0;34m,\u001b[0m \u001b[0;34m**\u001b[0m\u001b[0mkwargs\u001b[0m\u001b[0;34m)\u001b[0m\u001b[0;34m\u001b[0m\u001b[0;34m\u001b[0m\u001b[0m\n\u001b[0m\u001b[1;32m     92\u001b[0m         \u001b[0mwrapper\u001b[0m\u001b[0;34m.\u001b[0m\u001b[0m_original_function\u001b[0m \u001b[0;34m=\u001b[0m \u001b[0mfunc\u001b[0m\u001b[0;34m\u001b[0m\u001b[0;34m\u001b[0m\u001b[0m\n\u001b[1;32m     93\u001b[0m         \u001b[0;32mreturn\u001b[0m \u001b[0mwrapper\u001b[0m\u001b[0;34m\u001b[0m\u001b[0;34m\u001b[0m\u001b[0m\n",
            "\u001b[0;32m/usr/local/lib/python3.6/dist-packages/keras/engine/training.py\u001b[0m in \u001b[0;36mfit_generator\u001b[0;34m(self, generator, steps_per_epoch, epochs, verbose, callbacks, validation_data, validation_steps, validation_freq, class_weight, max_queue_size, workers, use_multiprocessing, shuffle, initial_epoch)\u001b[0m\n\u001b[1;32m   1730\u001b[0m             \u001b[0muse_multiprocessing\u001b[0m\u001b[0;34m=\u001b[0m\u001b[0muse_multiprocessing\u001b[0m\u001b[0;34m,\u001b[0m\u001b[0;34m\u001b[0m\u001b[0;34m\u001b[0m\u001b[0m\n\u001b[1;32m   1731\u001b[0m             \u001b[0mshuffle\u001b[0m\u001b[0;34m=\u001b[0m\u001b[0mshuffle\u001b[0m\u001b[0;34m,\u001b[0m\u001b[0;34m\u001b[0m\u001b[0;34m\u001b[0m\u001b[0m\n\u001b[0;32m-> 1732\u001b[0;31m             initial_epoch=initial_epoch)\n\u001b[0m\u001b[1;32m   1733\u001b[0m \u001b[0;34m\u001b[0m\u001b[0m\n\u001b[1;32m   1734\u001b[0m     \u001b[0;34m@\u001b[0m\u001b[0minterfaces\u001b[0m\u001b[0;34m.\u001b[0m\u001b[0mlegacy_generator_methods_support\u001b[0m\u001b[0;34m\u001b[0m\u001b[0;34m\u001b[0m\u001b[0m\n",
            "\u001b[0;32m/usr/local/lib/python3.6/dist-packages/keras/engine/training_generator.py\u001b[0m in \u001b[0;36mfit_generator\u001b[0;34m(model, generator, steps_per_epoch, epochs, verbose, callbacks, validation_data, validation_steps, validation_freq, class_weight, max_queue_size, workers, use_multiprocessing, shuffle, initial_epoch)\u001b[0m\n\u001b[1;32m    218\u001b[0m                                             \u001b[0msample_weight\u001b[0m\u001b[0;34m=\u001b[0m\u001b[0msample_weight\u001b[0m\u001b[0;34m,\u001b[0m\u001b[0;34m\u001b[0m\u001b[0;34m\u001b[0m\u001b[0m\n\u001b[1;32m    219\u001b[0m                                             \u001b[0mclass_weight\u001b[0m\u001b[0;34m=\u001b[0m\u001b[0mclass_weight\u001b[0m\u001b[0;34m,\u001b[0m\u001b[0;34m\u001b[0m\u001b[0;34m\u001b[0m\u001b[0m\n\u001b[0;32m--> 220\u001b[0;31m                                             reset_metrics=False)\n\u001b[0m\u001b[1;32m    221\u001b[0m \u001b[0;34m\u001b[0m\u001b[0m\n\u001b[1;32m    222\u001b[0m                 \u001b[0mouts\u001b[0m \u001b[0;34m=\u001b[0m \u001b[0mto_list\u001b[0m\u001b[0;34m(\u001b[0m\u001b[0mouts\u001b[0m\u001b[0;34m)\u001b[0m\u001b[0;34m\u001b[0m\u001b[0;34m\u001b[0m\u001b[0m\n",
            "\u001b[0;32m/usr/local/lib/python3.6/dist-packages/keras/engine/training.py\u001b[0m in \u001b[0;36mtrain_on_batch\u001b[0;34m(self, x, y, sample_weight, class_weight, reset_metrics)\u001b[0m\n\u001b[1;32m   1512\u001b[0m             \u001b[0mins\u001b[0m \u001b[0;34m=\u001b[0m \u001b[0mx\u001b[0m \u001b[0;34m+\u001b[0m \u001b[0my\u001b[0m \u001b[0;34m+\u001b[0m \u001b[0msample_weights\u001b[0m\u001b[0;34m\u001b[0m\u001b[0;34m\u001b[0m\u001b[0m\n\u001b[1;32m   1513\u001b[0m         \u001b[0mself\u001b[0m\u001b[0;34m.\u001b[0m\u001b[0m_make_train_function\u001b[0m\u001b[0;34m(\u001b[0m\u001b[0;34m)\u001b[0m\u001b[0;34m\u001b[0m\u001b[0;34m\u001b[0m\u001b[0m\n\u001b[0;32m-> 1514\u001b[0;31m         \u001b[0moutputs\u001b[0m \u001b[0;34m=\u001b[0m \u001b[0mself\u001b[0m\u001b[0;34m.\u001b[0m\u001b[0mtrain_function\u001b[0m\u001b[0;34m(\u001b[0m\u001b[0mins\u001b[0m\u001b[0;34m)\u001b[0m\u001b[0;34m\u001b[0m\u001b[0;34m\u001b[0m\u001b[0m\n\u001b[0m\u001b[1;32m   1515\u001b[0m \u001b[0;34m\u001b[0m\u001b[0m\n\u001b[1;32m   1516\u001b[0m         \u001b[0;32mif\u001b[0m \u001b[0mreset_metrics\u001b[0m\u001b[0;34m:\u001b[0m\u001b[0;34m\u001b[0m\u001b[0;34m\u001b[0m\u001b[0m\n",
            "\u001b[0;32m/usr/local/lib/python3.6/dist-packages/tensorflow/python/keras/backend.py\u001b[0m in \u001b[0;36m__call__\u001b[0;34m(self, inputs)\u001b[0m\n\u001b[1;32m   3790\u001b[0m         \u001b[0mvalue\u001b[0m \u001b[0;34m=\u001b[0m \u001b[0mmath_ops\u001b[0m\u001b[0;34m.\u001b[0m\u001b[0mcast\u001b[0m\u001b[0;34m(\u001b[0m\u001b[0mvalue\u001b[0m\u001b[0;34m,\u001b[0m \u001b[0mtensor\u001b[0m\u001b[0;34m.\u001b[0m\u001b[0mdtype\u001b[0m\u001b[0;34m)\u001b[0m\u001b[0;34m\u001b[0m\u001b[0;34m\u001b[0m\u001b[0m\n\u001b[1;32m   3791\u001b[0m       \u001b[0mconverted_inputs\u001b[0m\u001b[0;34m.\u001b[0m\u001b[0mappend\u001b[0m\u001b[0;34m(\u001b[0m\u001b[0mvalue\u001b[0m\u001b[0;34m)\u001b[0m\u001b[0;34m\u001b[0m\u001b[0;34m\u001b[0m\u001b[0m\n\u001b[0;32m-> 3792\u001b[0;31m     \u001b[0moutputs\u001b[0m \u001b[0;34m=\u001b[0m \u001b[0mself\u001b[0m\u001b[0;34m.\u001b[0m\u001b[0m_graph_fn\u001b[0m\u001b[0;34m(\u001b[0m\u001b[0;34m*\u001b[0m\u001b[0mconverted_inputs\u001b[0m\u001b[0;34m)\u001b[0m\u001b[0;34m\u001b[0m\u001b[0;34m\u001b[0m\u001b[0m\n\u001b[0m\u001b[1;32m   3793\u001b[0m \u001b[0;34m\u001b[0m\u001b[0m\n\u001b[1;32m   3794\u001b[0m     \u001b[0;31m# EagerTensor.numpy() will often make a copy to ensure memory safety.\u001b[0m\u001b[0;34m\u001b[0m\u001b[0;34m\u001b[0m\u001b[0;34m\u001b[0m\u001b[0m\n",
            "\u001b[0;32m/usr/local/lib/python3.6/dist-packages/tensorflow/python/eager/function.py\u001b[0m in \u001b[0;36m__call__\u001b[0;34m(self, *args, **kwargs)\u001b[0m\n\u001b[1;32m   1603\u001b[0m       \u001b[0mTypeError\u001b[0m\u001b[0;34m:\u001b[0m \u001b[0mFor\u001b[0m \u001b[0minvalid\u001b[0m \u001b[0mpositional\u001b[0m\u001b[0;34m/\u001b[0m\u001b[0mkeyword\u001b[0m \u001b[0margument\u001b[0m \u001b[0mcombinations\u001b[0m\u001b[0;34m.\u001b[0m\u001b[0;34m\u001b[0m\u001b[0;34m\u001b[0m\u001b[0m\n\u001b[1;32m   1604\u001b[0m     \"\"\"\n\u001b[0;32m-> 1605\u001b[0;31m     \u001b[0;32mreturn\u001b[0m \u001b[0mself\u001b[0m\u001b[0;34m.\u001b[0m\u001b[0m_call_impl\u001b[0m\u001b[0;34m(\u001b[0m\u001b[0margs\u001b[0m\u001b[0;34m,\u001b[0m \u001b[0mkwargs\u001b[0m\u001b[0;34m)\u001b[0m\u001b[0;34m\u001b[0m\u001b[0;34m\u001b[0m\u001b[0m\n\u001b[0m\u001b[1;32m   1606\u001b[0m \u001b[0;34m\u001b[0m\u001b[0m\n\u001b[1;32m   1607\u001b[0m   \u001b[0;32mdef\u001b[0m \u001b[0m_call_impl\u001b[0m\u001b[0;34m(\u001b[0m\u001b[0mself\u001b[0m\u001b[0;34m,\u001b[0m \u001b[0margs\u001b[0m\u001b[0;34m,\u001b[0m \u001b[0mkwargs\u001b[0m\u001b[0;34m,\u001b[0m \u001b[0mcancellation_manager\u001b[0m\u001b[0;34m=\u001b[0m\u001b[0;32mNone\u001b[0m\u001b[0;34m)\u001b[0m\u001b[0;34m:\u001b[0m\u001b[0;34m\u001b[0m\u001b[0;34m\u001b[0m\u001b[0m\n",
            "\u001b[0;32m/usr/local/lib/python3.6/dist-packages/tensorflow/python/eager/function.py\u001b[0m in \u001b[0;36m_call_impl\u001b[0;34m(self, args, kwargs, cancellation_manager)\u001b[0m\n\u001b[1;32m   1643\u001b[0m       raise TypeError(\"Keyword arguments {} unknown. Expected {}.\".format(\n\u001b[1;32m   1644\u001b[0m           list(kwargs.keys()), list(self._arg_keywords)))\n\u001b[0;32m-> 1645\u001b[0;31m     \u001b[0;32mreturn\u001b[0m \u001b[0mself\u001b[0m\u001b[0;34m.\u001b[0m\u001b[0m_call_flat\u001b[0m\u001b[0;34m(\u001b[0m\u001b[0margs\u001b[0m\u001b[0;34m,\u001b[0m \u001b[0mself\u001b[0m\u001b[0;34m.\u001b[0m\u001b[0mcaptured_inputs\u001b[0m\u001b[0;34m,\u001b[0m \u001b[0mcancellation_manager\u001b[0m\u001b[0;34m)\u001b[0m\u001b[0;34m\u001b[0m\u001b[0;34m\u001b[0m\u001b[0m\n\u001b[0m\u001b[1;32m   1646\u001b[0m \u001b[0;34m\u001b[0m\u001b[0m\n\u001b[1;32m   1647\u001b[0m   \u001b[0;32mdef\u001b[0m \u001b[0m_filtered_call\u001b[0m\u001b[0;34m(\u001b[0m\u001b[0mself\u001b[0m\u001b[0;34m,\u001b[0m \u001b[0margs\u001b[0m\u001b[0;34m,\u001b[0m \u001b[0mkwargs\u001b[0m\u001b[0;34m)\u001b[0m\u001b[0;34m:\u001b[0m\u001b[0;34m\u001b[0m\u001b[0;34m\u001b[0m\u001b[0m\n",
            "\u001b[0;32m/usr/local/lib/python3.6/dist-packages/tensorflow/python/eager/function.py\u001b[0m in \u001b[0;36m_call_flat\u001b[0;34m(self, args, captured_inputs, cancellation_manager)\u001b[0m\n\u001b[1;32m   1744\u001b[0m       \u001b[0;31m# No tape is watching; skip to running the function.\u001b[0m\u001b[0;34m\u001b[0m\u001b[0;34m\u001b[0m\u001b[0;34m\u001b[0m\u001b[0m\n\u001b[1;32m   1745\u001b[0m       return self._build_call_outputs(self._inference_function.call(\n\u001b[0;32m-> 1746\u001b[0;31m           ctx, args, cancellation_manager=cancellation_manager))\n\u001b[0m\u001b[1;32m   1747\u001b[0m     forward_backward = self._select_forward_and_backward_functions(\n\u001b[1;32m   1748\u001b[0m         \u001b[0margs\u001b[0m\u001b[0;34m,\u001b[0m\u001b[0;34m\u001b[0m\u001b[0;34m\u001b[0m\u001b[0m\n",
            "\u001b[0;32m/usr/local/lib/python3.6/dist-packages/tensorflow/python/eager/function.py\u001b[0m in \u001b[0;36mcall\u001b[0;34m(self, ctx, args, cancellation_manager)\u001b[0m\n\u001b[1;32m    596\u001b[0m               \u001b[0minputs\u001b[0m\u001b[0;34m=\u001b[0m\u001b[0margs\u001b[0m\u001b[0;34m,\u001b[0m\u001b[0;34m\u001b[0m\u001b[0;34m\u001b[0m\u001b[0m\n\u001b[1;32m    597\u001b[0m               \u001b[0mattrs\u001b[0m\u001b[0;34m=\u001b[0m\u001b[0mattrs\u001b[0m\u001b[0;34m,\u001b[0m\u001b[0;34m\u001b[0m\u001b[0;34m\u001b[0m\u001b[0m\n\u001b[0;32m--> 598\u001b[0;31m               ctx=ctx)\n\u001b[0m\u001b[1;32m    599\u001b[0m         \u001b[0;32melse\u001b[0m\u001b[0;34m:\u001b[0m\u001b[0;34m\u001b[0m\u001b[0;34m\u001b[0m\u001b[0m\n\u001b[1;32m    600\u001b[0m           outputs = execute.execute_with_cancellation(\n",
            "\u001b[0;32m/usr/local/lib/python3.6/dist-packages/tensorflow/python/eager/execute.py\u001b[0m in \u001b[0;36mquick_execute\u001b[0;34m(op_name, num_outputs, inputs, attrs, ctx, name)\u001b[0m\n\u001b[1;32m     58\u001b[0m     \u001b[0mctx\u001b[0m\u001b[0;34m.\u001b[0m\u001b[0mensure_initialized\u001b[0m\u001b[0;34m(\u001b[0m\u001b[0;34m)\u001b[0m\u001b[0;34m\u001b[0m\u001b[0;34m\u001b[0m\u001b[0m\n\u001b[1;32m     59\u001b[0m     tensors = pywrap_tfe.TFE_Py_Execute(ctx._handle, device_name, op_name,\n\u001b[0;32m---> 60\u001b[0;31m                                         inputs, attrs, num_outputs)\n\u001b[0m\u001b[1;32m     61\u001b[0m   \u001b[0;32mexcept\u001b[0m \u001b[0mcore\u001b[0m\u001b[0;34m.\u001b[0m\u001b[0m_NotOkStatusException\u001b[0m \u001b[0;32mas\u001b[0m \u001b[0me\u001b[0m\u001b[0;34m:\u001b[0m\u001b[0;34m\u001b[0m\u001b[0;34m\u001b[0m\u001b[0m\n\u001b[1;32m     62\u001b[0m     \u001b[0;32mif\u001b[0m \u001b[0mname\u001b[0m \u001b[0;32mis\u001b[0m \u001b[0;32mnot\u001b[0m \u001b[0;32mNone\u001b[0m\u001b[0;34m:\u001b[0m\u001b[0;34m\u001b[0m\u001b[0;34m\u001b[0m\u001b[0m\n",
            "\u001b[0;31mKeyboardInterrupt\u001b[0m: "
          ]
        }
      ]
    },
    {
      "cell_type": "code",
      "metadata": {
        "id": "Ftfkn13HG2JG",
        "colab_type": "code",
        "colab": {}
      },
      "source": [
        "model.load_weights(\"res-model.h5\")"
      ],
      "execution_count": 0,
      "outputs": []
    },
    {
      "cell_type": "code",
      "metadata": {
        "id": "vIl0-UCEG5zA",
        "colab_type": "code",
        "colab": {}
      },
      "source": [
        "test_eval =model.evaluate(x_test, y_test)"
      ],
      "execution_count": 0,
      "outputs": []
    },
    {
      "cell_type": "code",
      "metadata": {
        "id": "vUzLONq4G7-f",
        "colab_type": "code",
        "colab": {}
      },
      "source": [
        "print('Test loss:', test_eval[0])\n",
        "print('Test accuracy:', test_eval[1])"
      ],
      "execution_count": 0,
      "outputs": []
    },
    {
      "cell_type": "code",
      "metadata": {
        "id": "dwuFmvnlG-iF",
        "colab_type": "code",
        "colab": {}
      },
      "source": [
        "from sklearn.metrics import f1_score, precision_score, recall_score, confusion_matrix, accuracy_score\n",
        "y_pred1 = model.predict(x_test,batch_size=1)\n",
        "print(y_pred1.shape)\n",
        "y_pred1=np.argmax(y_pred1,axis=1)\n",
        "print(y_pred1.shape)\n",
        "print(y_test.shape)\n",
        "valid_label1=y_test\n",
        "valid_label1=np.argmax(valid_label1,axis=1)\n",
        "print(valid_label1.shape)\n",
        "# y_pred1[1]\n",
        "# print(y_pred1[1])\n",
        "# print(\"//\")\n",
        "# y_pred[1]\n",
        "# print(\"//\")\n",
        "# valid_label[1]\n",
        "# #Print f1, precision, and recall scores\n",
        "print('Precision score:')\n",
        "print(precision_score(valid_label1, y_pred1,average='macro'))\n",
        "print('recall score:')\n",
        "print(recall_score(valid_label1, y_pred1,average='macro'))\n",
        "print('f1 score:')\n",
        "print(f1_score(valid_label1, y_pred1,average='macro'))\n",
        "\n",
        "#print(recall_score(valid_label1, y_pred1,average='micro'))\n",
        "# print('accuracy score:')\n",
        "# print(accuracy_score(valid_label1, y_pred1))\n",
        "# # val_pred=model.predict(valid_X,batch_size=40)\n",
        "# # np.round(val_pred[1])"
      ],
      "execution_count": 0,
      "outputs": []
    },
    {
      "cell_type": "code",
      "metadata": {
        "id": "24qjOOzaHBLE",
        "colab_type": "code",
        "colab": {}
      },
      "source": [
        "    import matplotlib.pyplot as plt\n",
        "    import seaborn as sns\n",
        "    from sklearn import metrics\n",
        "    cm = metrics.confusion_matrix(valid_label1, y_pred1)\n",
        "    print(cm)\n",
        "    plt.figure(figsize=(12,12))\n",
        "    sns.heatmap(cm, annot=True, fmt=\".3f\", linewidths=.20, square = True, cmap = 'Blues_r');\n",
        "    plt.ylabel('Actual label');\n",
        "    plt.xlabel('Predicted label');\n",
        "    plt.xticks(range(12), ['Black-grass','Charlock', 'Cleavers','Common Chickweed','Common wheat','Fat Hen','Loose Silky-bent','Maize','Scentless Mayweed','ShepherdΓÇÖs Purse','Cranesbill','Sugar beet'], rotation=45,fontsize=10)\n",
        "    plt.yticks(range(12), ['Black-grass','Charlock', 'Cleavers','Common Chickweed','Common wheat','Fat Hen','Loose Silky-bent','Maize','Scentless Mayweed','ShepherdΓÇÖs Purse','Cranesbill','Sugar beet'],rotation=45, fontsize=10)\n",
        "    plt.show()\n",
        "    # /CATEGORIES = [\"Black-grass\", \"Charlock\",\"Cleavers\",\"Common Chickweed\",\"Common wheat\",\"Fat Hen\",\"Loose Silky-bent\",\"Maize\",\"Scentless Mayweed\",\"ShepherdΓÇÖs Purse\",\"Small-flowered Cranesbill\",\"Sugar beet\"]"
      ],
      "execution_count": 0,
      "outputs": []
    },
    {
      "cell_type": "code",
      "metadata": {
        "id": "8ev-JLLyHGhS",
        "colab_type": "code",
        "colab": {}
      },
      "source": [
        "from sklearn.metrics import classification_report\n",
        "cm_plot_labels=['Black-grass','Charlock', 'Cleavers','Common Chickweed','Common wheat','Fat Hen','Loose Silky-bent','Maize','Scentless Mayweed','ShepherdΓÇÖs Purse','Cranesbill','Sugar beet']\n",
        "# Generate a classification report\n",
        "report = classification_report(valid_label1, y_pred1,target_names=cm_plot_labels)\n",
        "\n",
        "print(report)"
      ],
      "execution_count": 0,
      "outputs": []
    },
    {
      "cell_type": "code",
      "metadata": {
        "id": "K5MWU8TiHHdy",
        "colab_type": "code",
        "colab": {}
      },
      "source": [
        "plt.plot(history.history['accuracy'])\n",
        "plt.plot(history.history['val_accuracy'])\n",
        "plt.title('model accuracy')\n",
        "plt.ylabel('accuracy')\n",
        "plt.xlabel('epoch')\n",
        "plt.legend(['training', 'validation'], loc='upper left')\n",
        "plt.show()"
      ],
      "execution_count": 0,
      "outputs": []
    },
    {
      "cell_type": "code",
      "metadata": {
        "id": "I4i_yzROHMA1",
        "colab_type": "code",
        "colab": {}
      },
      "source": [
        "plt.plot(history.history['loss'])\n",
        "plt.plot(history.history['val_loss'])\n",
        "plt.title('model loss')\n",
        "plt.ylabel('loss')\n",
        "plt.xlabel('epoch')\n",
        "plt.legend(['training', 'validation'], loc='upper left')\n",
        "plt.show()"
      ],
      "execution_count": 0,
      "outputs": []
    }
  ]
}
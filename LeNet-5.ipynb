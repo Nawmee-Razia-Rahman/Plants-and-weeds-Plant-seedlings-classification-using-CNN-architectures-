{
  "nbformat": 4,
  "nbformat_minor": 0,
  "metadata": {
    "colab": {
      "name": "lenet_(1).ipynb",
      "provenance": [],
      "collapsed_sections": [],
      "machine_shape": "hm"
    },
    "kernelspec": {
      "name": "python3",
      "display_name": "Python 3"
    },
    "accelerator": "GPU"
  },
  "cells": [
    {
      "cell_type": "code",
      "metadata": {
        "id": "25TBTh03Cu97",
        "colab_type": "code",
        "outputId": "dcd48948-acd7-4504-c0f0-68c8f871a662",
        "colab": {
          "base_uri": "https://localhost:8080/",
          "height": 204
        }
      },
      "source": [
        "!pip install -U kaggle"
      ],
      "execution_count": 1,
      "outputs": [
        {
          "output_type": "stream",
          "text": [
            "Requirement already up-to-date: kaggle in /usr/local/lib/python3.6/dist-packages (1.5.6)\n",
            "Requirement already satisfied, skipping upgrade: certifi in /usr/local/lib/python3.6/dist-packages (from kaggle) (2020.4.5.1)\n",
            "Requirement already satisfied, skipping upgrade: requests in /usr/local/lib/python3.6/dist-packages (from kaggle) (2.23.0)\n",
            "Requirement already satisfied, skipping upgrade: python-slugify in /usr/local/lib/python3.6/dist-packages (from kaggle) (4.0.0)\n",
            "Requirement already satisfied, skipping upgrade: python-dateutil in /usr/local/lib/python3.6/dist-packages (from kaggle) (2.8.1)\n",
            "Requirement already satisfied, skipping upgrade: urllib3<1.25,>=1.21.1 in /usr/local/lib/python3.6/dist-packages (from kaggle) (1.24.3)\n",
            "Requirement already satisfied, skipping upgrade: six>=1.10 in /usr/local/lib/python3.6/dist-packages (from kaggle) (1.12.0)\n",
            "Requirement already satisfied, skipping upgrade: tqdm in /usr/local/lib/python3.6/dist-packages (from kaggle) (4.41.1)\n",
            "Requirement already satisfied, skipping upgrade: chardet<4,>=3.0.2 in /usr/local/lib/python3.6/dist-packages (from requests->kaggle) (3.0.4)\n",
            "Requirement already satisfied, skipping upgrade: idna<3,>=2.5 in /usr/local/lib/python3.6/dist-packages (from requests->kaggle) (2.9)\n",
            "Requirement already satisfied, skipping upgrade: text-unidecode>=1.3 in /usr/local/lib/python3.6/dist-packages (from python-slugify->kaggle) (1.3)\n"
          ],
          "name": "stdout"
        }
      ]
    },
    {
      "cell_type": "code",
      "metadata": {
        "id": "cKzzzsLjEUCg",
        "colab_type": "code",
        "outputId": "eb0d2ac9-5d60-499a-df0a-6a3b4263728a",
        "colab": {
          "resources": {
            "http://localhost:8080/nbextensions/google.colab/files.js": {
              "data": "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",
              "ok": true,
              "headers": [
                [
                  "content-type",
                  "application/javascript"
                ]
              ],
              "status": 200,
              "status_text": ""
            }
          },
          "base_uri": "https://localhost:8080/",
          "height": 91
        }
      },
      "source": [
        "from google.colab import files\n",
        "files.upload()"
      ],
      "execution_count": 2,
      "outputs": [
        {
          "output_type": "display_data",
          "data": {
            "text/html": [
              "\n",
              "     <input type=\"file\" id=\"files-5d8231d0-11d4-4367-8ad9-3353e8e13f27\" name=\"files[]\" multiple disabled />\n",
              "     <output id=\"result-5d8231d0-11d4-4367-8ad9-3353e8e13f27\">\n",
              "      Upload widget is only available when the cell has been executed in the\n",
              "      current browser session. Please rerun this cell to enable.\n",
              "      </output>\n",
              "      <script src=\"/nbextensions/google.colab/files.js\"></script> "
            ],
            "text/plain": [
              "<IPython.core.display.HTML object>"
            ]
          },
          "metadata": {
            "tags": []
          }
        },
        {
          "output_type": "stream",
          "text": [
            "Saving kaggle.json to kaggle.json\n"
          ],
          "name": "stdout"
        },
        {
          "output_type": "execute_result",
          "data": {
            "text/plain": [
              "{'kaggle.json': b'{\"username\":\"nawmee121\",\"key\":\"cea99b9c80a2631c31dcfbdaf5241379\"}'}"
            ]
          },
          "metadata": {
            "tags": []
          },
          "execution_count": 2
        }
      ]
    },
    {
      "cell_type": "code",
      "metadata": {
        "id": "8kxCGPmhE3I-",
        "colab_type": "code",
        "colab": {}
      },
      "source": [
        "!mkdir -p ~/.kaggle\n",
        "!cp kaggle.json ~/.kaggle/\n",
        "#sudo kaggle competitions list\n",
        "#!chmod 600 ~/.kaggle/kaggle.json\n",
        "!chmod 600 ~/.kaggle/kaggle.json\n",
        "#!export KAGGLE_USERNAME=[nawmee121]\n",
        "#!export KAGGLE_KEY=4a3ad69e2b2ff1ffbe8a2d03b5ae8891"
      ],
      "execution_count": 0,
      "outputs": []
    },
    {
      "cell_type": "code",
      "metadata": {
        "id": "QdZ9-TAWHEZE",
        "colab_type": "code",
        "outputId": "6e0c701b-805b-4002-b35d-f81b46e264c3",
        "colab": {
          "base_uri": "https://localhost:8080/",
          "height": 68
        }
      },
      "source": [
        "!kaggle datasets download -d vbookshelf/v2-plant-seedlings-dataset"
      ],
      "execution_count": 4,
      "outputs": [
        {
          "output_type": "stream",
          "text": [
            "Downloading v2-plant-seedlings-dataset.zip to /content\n",
            "100% 3.19G/3.19G [00:50<00:00, 41.7MB/s]\n",
            "100% 3.19G/3.19G [00:50<00:00, 67.3MB/s]\n"
          ],
          "name": "stdout"
        }
      ]
    },
    {
      "cell_type": "code",
      "metadata": {
        "id": "fPFqvgZvIdzH",
        "colab_type": "code",
        "outputId": "f0a52af9-d566-47c2-a339-bd251eb74f01",
        "colab": {
          "base_uri": "https://localhost:8080/",
          "height": 34
        }
      },
      "source": [
        "from zipfile import ZipFile \n",
        "file_name=\"v2-plant-seedlings-dataset.zip\"\n",
        "\n",
        "with ZipFile(file_name,'r') as zip:\n",
        "  zip.extractall()\n",
        "  print('Done')"
      ],
      "execution_count": 5,
      "outputs": [
        {
          "output_type": "stream",
          "text": [
            "Done\n"
          ],
          "name": "stdout"
        }
      ]
    },
    {
      "cell_type": "code",
      "metadata": {
        "id": "w4Wm0SRCs1bG",
        "colab_type": "code",
        "colab": {}
      },
      "source": [
        "!rm -r /content/v2-plant-seedlings-dataset.zip"
      ],
      "execution_count": 0,
      "outputs": []
    },
    {
      "cell_type": "code",
      "metadata": {
        "id": "tEOifiAOKw-i",
        "colab_type": "code",
        "outputId": "a4083cf8-8bad-4342-ff77-c9a9e2f55ae3",
        "colab": {
          "base_uri": "https://localhost:8080/",
          "height": 289
        }
      },
      "source": [
        "import os\n",
        "os.listdir('/content')"
      ],
      "execution_count": 7,
      "outputs": [
        {
          "output_type": "execute_result",
          "data": {
            "text/plain": [
              "['.config',\n",
              " 'Fat Hen',\n",
              " 'Small-flowered Cranesbill',\n",
              " 'Common Chickweed',\n",
              " 'ShepherdΓÇÖs Purse',\n",
              " 'Black-grass',\n",
              " 'Scentless Mayweed',\n",
              " 'Maize',\n",
              " 'Sugar beet',\n",
              " 'Charlock',\n",
              " 'Loose Silky-bent',\n",
              " 'Common wheat',\n",
              " 'kaggle.json',\n",
              " 'nonsegmentedv2',\n",
              " 'Cleavers',\n",
              " 'sample_data']"
            ]
          },
          "metadata": {
            "tags": []
          },
          "execution_count": 7
        }
      ]
    },
    {
      "cell_type": "code",
      "metadata": {
        "id": "n9jWcBlZLJcc",
        "colab_type": "code",
        "colab": {}
      },
      "source": [
        "DATADIR='/content/nonsegmentedv2'"
      ],
      "execution_count": 0,
      "outputs": []
    },
    {
      "cell_type": "code",
      "metadata": {
        "id": "mDykGgkTLZG0",
        "colab_type": "code",
        "outputId": "f0232a1c-9a05-4312-caf1-e18d94dbd2c2",
        "colab": {
          "base_uri": "https://localhost:8080/",
          "height": 34
        }
      },
      "source": [
        "import os\n",
        "import keras\n",
        "import cv2\n",
        "from sklearn.metrics import confusion_matrix\n",
        "from sklearn.model_selection import train_test_split\n",
        "from sklearn.utils.multiclass import unique_labels\n",
        "from matplotlib import pyplot as plt\n",
        "from pprint import pprint\n",
        "import numpy as np # linear algebra\n",
        "import pandas as pd # data processing, CSV file I/O (e.g. pd.read_csv)\n",
        "import random\n",
        "from keras.preprocessing.image import ImageDataGenerator"
      ],
      "execution_count": 9,
      "outputs": [
        {
          "output_type": "stream",
          "text": [
            "Using TensorFlow backend.\n"
          ],
          "name": "stderr"
        }
      ]
    },
    {
      "cell_type": "code",
      "metadata": {
        "id": "x3Ma07RILw0r",
        "colab_type": "code",
        "outputId": "1a511a68-f647-49d4-e043-f820929a5cf7",
        "colab": {
          "base_uri": "https://localhost:8080/",
          "height": 54
        }
      },
      "source": [
        "print(os.listdir(r'/content/nonsegmentedv2'))\n",
        "#print(os.listdir(r'/content/RiceDiseaseDataset/validation'))"
      ],
      "execution_count": 10,
      "outputs": [
        {
          "output_type": "stream",
          "text": [
            "['Fat Hen', 'Small-flowered Cranesbill', 'Common Chickweed', 'ShepherdΓÇÖs Purse', 'Black-grass', 'Scentless Mayweed', 'Maize', 'Sugar beet', 'Charlock', 'Loose Silky-bent', 'Common wheat', 'Cleavers']\n"
          ],
          "name": "stdout"
        }
      ]
    },
    {
      "cell_type": "code",
      "metadata": {
        "id": "GivJt4bfMmyt",
        "colab_type": "code",
        "colab": {}
      },
      "source": [
        "#IMAGE_SIZE=224\n",
        "NUM_CLASSES=12\n"
      ],
      "execution_count": 0,
      "outputs": []
    },
    {
      "cell_type": "code",
      "metadata": {
        "id": "8JDh93YSMqE8",
        "colab_type": "code",
        "outputId": "6bec752b-96df-48e0-cf40-e822278ffc34",
        "colab": {
          "base_uri": "https://localhost:8080/",
          "height": 71
        }
      },
      "source": [
        "classes=sorted(os.listdir(DATADIR))\n",
        "print('There are {} having names:\\n{}'.format(len(classes),classes))"
      ],
      "execution_count": 12,
      "outputs": [
        {
          "output_type": "stream",
          "text": [
            "There are 12 having names:\n",
            "['Black-grass', 'Charlock', 'Cleavers', 'Common Chickweed', 'Common wheat', 'Fat Hen', 'Loose Silky-bent', 'Maize', 'Scentless Mayweed', 'ShepherdΓÇÖs Purse', 'Small-flowered Cranesbill', 'Sugar beet']\n"
          ],
          "name": "stdout"
        }
      ]
    },
    {
      "cell_type": "code",
      "metadata": {
        "id": "boradcAOMuny",
        "colab_type": "code",
        "colab": {}
      },
      "source": [
        "CATEGORIES = [\"Black-grass\", \"Charlock\",\"Cleavers\",\"Common Chickweed\",\"Common wheat\",\"Fat Hen\",\"Loose Silky-bent\",\"Maize\",\"Scentless Mayweed\",\"ShepherdΓÇÖs Purse\",\"Small-flowered Cranesbill\",\"Sugar beet\"]"
      ],
      "execution_count": 0,
      "outputs": []
    },
    {
      "cell_type": "code",
      "metadata": {
        "id": "uiEmaQ0iYaJq",
        "colab_type": "code",
        "colab": {}
      },
      "source": [
        "# print(CATEGORIES.class_indices)"
      ],
      "execution_count": 0,
      "outputs": []
    },
    {
      "cell_type": "code",
      "metadata": {
        "id": "tYqpxkQOMwGV",
        "colab_type": "code",
        "outputId": "b4411f60-ef21-498e-8cbe-95b555c375ee",
        "colab": {
          "base_uri": "https://localhost:8080/",
          "height": 221
        }
      },
      "source": [
        "#\\ reading all the images from the folders\n",
        "images_list=dict()\n",
        "for i in classes:\n",
        "    images_list[i]=os.listdir(os.path.join(DATADIR, i))\n",
        "    print('{0} \\t--> {1}'.format(len(images_list[i]),i))"
      ],
      "execution_count": 15,
      "outputs": [
        {
          "output_type": "stream",
          "text": [
            "309 \t--> Black-grass\n",
            "452 \t--> Charlock\n",
            "335 \t--> Cleavers\n",
            "713 \t--> Common Chickweed\n",
            "253 \t--> Common wheat\n",
            "538 \t--> Fat Hen\n",
            "762 \t--> Loose Silky-bent\n",
            "257 \t--> Maize\n",
            "607 \t--> Scentless Mayweed\n",
            "274 \t--> ShepherdΓÇÖs Purse\n",
            "576 \t--> Small-flowered Cranesbill\n",
            "463 \t--> Sugar beet\n"
          ],
          "name": "stdout"
        }
      ]
    },
    {
      "cell_type": "code",
      "metadata": {
        "id": "H9BRPvyArFys",
        "colab_type": "code",
        "colab": {}
      },
      "source": [
        "scores=[309,452,335,713,253,538,762,257,607,274,576,463]"
      ],
      "execution_count": 0,
      "outputs": []
    },
    {
      "cell_type": "code",
      "metadata": {
        "id": "_uD4Y9IhrdFi",
        "colab_type": "code",
        "colab": {}
      },
      "source": [
        "positions=[0,1,2,3,4,5,6,7,8,9,10,11]"
      ],
      "execution_count": 0,
      "outputs": []
    },
    {
      "cell_type": "code",
      "metadata": {
        "id": "M_nUe7W5r4jg",
        "colab_type": "code",
        "outputId": "d0e82421-0336-4288-fad7-8ee396fb49b1",
        "colab": {
          "base_uri": "https://localhost:8080/",
          "height": 703
        }
      },
      "source": [
        "fig=plt.figure(figsize=(19.5,10))\n",
        "plt.bar(positions,scores,width=.5,color=\"g\")\n",
        "plt.xticks(positions,CATEGORIES,rotation=45,fontsize=12)\n",
        "plt.show()"
      ],
      "execution_count": 18,
      "outputs": [
        {
          "output_type": "display_data",
          "data": {
            "image/png": "[encoded data removed]",
            "text/plain": [
              "<Figure size 1404x720 with 1 Axes>"
            ]
          },
          "metadata": {
            "tags": [],
            "needs_background": "light"
          }
        }
      ]
    },
    {
      "cell_type": "code",
      "metadata": {
        "id": "WF5BL2YXNCDR",
        "colab_type": "code",
        "outputId": "df021963-b642-4524-ab24-8779c28b48fd",
        "colab": {
          "base_uri": "https://localhost:8080/",
          "height": 1000
        }
      },
      "source": [
        "for category in CATEGORIES:  # do dogs and cats\n",
        "    path = os.path.join(DATADIR,category)  # create path to dogs and cats\n",
        "    for img in os.listdir(path):  # iterate over each image per dogs and cats\n",
        "        img_array = cv2.imread(os.path.join(path,img))  # convert to array\n",
        "        print(img_array)\n",
        "        plt.imshow(img_array)  # graph it\n",
        "        plt.show()  # display!\n",
        "\n",
        "        break  # we just want one for now so break\n",
        "    break  #...and one more!\n"
      ],
      "execution_count": 19,
      "outputs": [
        {
          "output_type": "stream",
          "text": [
            "[[[ 61  84  97]\n",
            "  [ 59  82  94]\n",
            "  [ 47  72  84]\n",
            "  ...\n",
            "  [ 50  72  89]\n",
            "  [ 49  70  87]\n",
            "  [ 53  72  89]]\n",
            "\n",
            " [[ 63  87  98]\n",
            "  [ 63  86  97]\n",
            "  [ 49  74  85]\n",
            "  ...\n",
            "  [ 54  73  87]\n",
            "  [ 49  65  81]\n",
            "  [ 43  58  75]]\n",
            "\n",
            " [[ 66  91 100]\n",
            "  [ 59  84  92]\n",
            "  [ 52  77  86]\n",
            "  ...\n",
            "  [ 46  61  76]\n",
            "  [ 31  46  63]\n",
            "  [ 20  33  53]]\n",
            "\n",
            " ...\n",
            "\n",
            " [[ 56  53  59]\n",
            "  [ 65  61  66]\n",
            "  [ 56  51  58]\n",
            "  ...\n",
            "  [ 45  43  51]\n",
            "  [ 47  44  51]\n",
            "  [ 51  48  54]]\n",
            "\n",
            " [[ 58  53  60]\n",
            "  [ 60  54  61]\n",
            "  [ 57  51  58]\n",
            "  ...\n",
            "  [ 42  40  47]\n",
            "  [ 46  44  51]\n",
            "  [ 50  48  54]]\n",
            "\n",
            " [[ 61  56  64]\n",
            "  [ 59  53  60]\n",
            "  [ 57  52  58]\n",
            "  ...\n",
            "  [ 33  32  39]\n",
            "  [ 44  43  49]\n",
            "  [ 45  44  50]]]\n"
          ],
          "name": "stdout"
        },
        {
          "output_type": "display_data",
          "data": {
            "image/png": "[encoded data removed]",
            "text/plain": [
              "<Figure size 432x288 with 1 Axes>"
            ]
          },
          "metadata": {
            "tags": [],
            "needs_background": "light"
          }
        }
      ]
    },
    {
      "cell_type": "code",
      "metadata": {
        "id": "RrnNsWCZNMPo",
        "colab_type": "code",
        "colab": {}
      },
      "source": [
        "IMG_SIZE = 224"
      ],
      "execution_count": 0,
      "outputs": []
    },
    {
      "cell_type": "code",
      "metadata": {
        "id": "jTFPLbzFTiXX",
        "colab_type": "code",
        "outputId": "76533383-eb81-4d43-9bda-4cb533cae607",
        "colab": {
          "base_uri": "https://localhost:8080/",
          "height": 286
        }
      },
      "source": [
        "new_array = cv2.resize(img_array, (IMG_SIZE, IMG_SIZE))\n",
        "plt.imshow(new_array)\n",
        "plt.show()\n",
        "new_array.shape"
      ],
      "execution_count": 21,
      "outputs": [
        {
          "output_type": "display_data",
          "data": {
            "image/png": "[encoded data removed]",
            "text/plain": [
              "<Figure size 432x288 with 1 Axes>"
            ]
          },
          "metadata": {
            "tags": [],
            "needs_background": "light"
          }
        },
        {
          "output_type": "execute_result",
          "data": {
            "text/plain": [
              "(224, 224, 3)"
            ]
          },
          "metadata": {
            "tags": []
          },
          "execution_count": 21
        }
      ]
    },
    {
      "cell_type": "code",
      "metadata": {
        "id": "Nvp0AXTKTmRU",
        "colab_type": "code",
        "colab": {}
      },
      "source": [
        "training_data = []\n",
        "\n",
        "def create_training_data():\n",
        "    for category in CATEGORIES:  # do dogs and cats\n",
        "\n",
        "        path = os.path.join(DATADIR,category)  # create path to dogs and cats\n",
        "        class_num = CATEGORIES.index(category)  \n",
        "        print('this is class num',class_num)\n",
        "\n",
        "        for img in os.listdir(path):  # iterate over each image per dogs and cats\n",
        "            try:\n",
        "                img_array = cv2.imread(os.path.join(path,img))  # convert to array\n",
        "                new_array = cv2.resize(img_array, (IMG_SIZE, IMG_SIZE))  # resize to normalize data size\n",
        "                training_data.append([new_array, class_num])  # add this to our training_data\n",
        "            except Exception as e:  # in the interest in keeping the output clean...\n",
        "                pass"
      ],
      "execution_count": 0,
      "outputs": []
    },
    {
      "cell_type": "code",
      "metadata": {
        "id": "BYNQlC8JTnpw",
        "colab_type": "code",
        "outputId": "e7b8d8f0-fea1-4b4f-dc9c-ea549518ae09",
        "colab": {
          "base_uri": "https://localhost:8080/",
          "height": 238
        }
      },
      "source": [
        "\n",
        "create_training_data()\n",
        "\n",
        "print(len(training_data))"
      ],
      "execution_count": 23,
      "outputs": [
        {
          "output_type": "stream",
          "text": [
            "this is class num 0\n",
            "this is class num 1\n",
            "this is class num 2\n",
            "this is class num 3\n",
            "this is class num 4\n",
            "this is class num 5\n",
            "this is class num 6\n",
            "this is class num 7\n",
            "this is class num 8\n",
            "this is class num 9\n",
            "this is class num 10\n",
            "this is class num 11\n",
            "5539\n"
          ],
          "name": "stdout"
        }
      ]
    },
    {
      "cell_type": "code",
      "metadata": {
        "id": "v5qcsyP1Ttvl",
        "colab_type": "code",
        "outputId": "8cf300d3-a20b-45ef-b534-bce185ceff1c",
        "colab": {
          "base_uri": "https://localhost:8080/",
          "height": 34
        }
      },
      "source": [
        "cata=len(CATEGORIES)\n",
        "print(cata)"
      ],
      "execution_count": 24,
      "outputs": [
        {
          "output_type": "stream",
          "text": [
            "12\n"
          ],
          "name": "stdout"
        }
      ]
    },
    {
      "cell_type": "code",
      "metadata": {
        "id": "PCn4thuuTyFN",
        "colab_type": "code",
        "colab": {}
      },
      "source": [
        "#!rm -r /content/RiceDiseaseDataset"
      ],
      "execution_count": 0,
      "outputs": []
    },
    {
      "cell_type": "code",
      "metadata": {
        "id": "Oa8k9OCwSZHJ",
        "colab_type": "code",
        "colab": {}
      },
      "source": [
        " import random\n",
        " random.shuffle(training_data)"
      ],
      "execution_count": 0,
      "outputs": []
    },
    {
      "cell_type": "code",
      "metadata": {
        "id": "3SEMag5oT1Ml",
        "colab_type": "code",
        "outputId": "9700c609-eafe-443a-e1d2-3f2a93606b11",
        "colab": {
          "base_uri": "https://localhost:8080/",
          "height": 187
        }
      },
      "source": [
        "for sample in training_data[:10]:\n",
        "    print(sample[1])"
      ],
      "execution_count": 27,
      "outputs": [
        {
          "output_type": "stream",
          "text": [
            "2\n",
            "1\n",
            "3\n",
            "1\n",
            "1\n",
            "10\n",
            "4\n",
            "10\n",
            "5\n",
            "6\n"
          ],
          "name": "stdout"
        }
      ]
    },
    {
      "cell_type": "code",
      "metadata": {
        "id": "YxSj7LyeT46m",
        "colab_type": "code",
        "colab": {}
      },
      "source": [
        "X = []\n",
        "y = []\n",
        "\n",
        "for features,label in training_data:\n",
        "    X.append(features)\n",
        "    y.append(label)\n",
        "\n",
        "\n"
      ],
      "execution_count": 0,
      "outputs": []
    },
    {
      "cell_type": "code",
      "metadata": {
        "id": "J0ZBcJB5pqLi",
        "colab_type": "code",
        "colab": {}
      },
      "source": [
        "X = np.array(X).reshape(-1, IMG_SIZE, IMG_SIZE, 3)\n",
        "y = np.array(y)\n",
        "X=X/255.0\n"
      ],
      "execution_count": 0,
      "outputs": []
    },
    {
      "cell_type": "code",
      "metadata": {
        "id": "F23V0RlRT9MP",
        "colab_type": "code",
        "outputId": "1774ca0c-3069-4c0b-efe5-757516481e6e",
        "colab": {
          "base_uri": "https://localhost:8080/",
          "height": 34
        }
      },
      "source": [
        "X.shape"
      ],
      "execution_count": 30,
      "outputs": [
        {
          "output_type": "execute_result",
          "data": {
            "text/plain": [
              "(5539, 224, 224, 3)"
            ]
          },
          "metadata": {
            "tags": []
          },
          "execution_count": 30
        }
      ]
    },
    {
      "cell_type": "code",
      "metadata": {
        "id": "7CcnQ56i8nuX",
        "colab_type": "code",
        "outputId": "ac43e305-589c-4cb6-d5d5-23adcabfff4e",
        "colab": {
          "base_uri": "https://localhost:8080/",
          "height": 34
        }
      },
      "source": [
        "y.shape"
      ],
      "execution_count": 31,
      "outputs": [
        {
          "output_type": "execute_result",
          "data": {
            "text/plain": [
              "(5539,)"
            ]
          },
          "metadata": {
            "tags": []
          },
          "execution_count": 31
        }
      ]
    },
    {
      "cell_type": "code",
      "metadata": {
        "id": "lij7ty4aYmxm",
        "colab_type": "code",
        "colab": {}
      },
      "source": [
        "# print(y.class_indices)"
      ],
      "execution_count": 0,
      "outputs": []
    },
    {
      "cell_type": "code",
      "metadata": {
        "id": "Dzkb_GlWUB7s",
        "colab_type": "code",
        "colab": {}
      },
      "source": [
        "import keras\n",
        "import keras.utils\n",
        "from keras import utils as np_utils\n",
        "y = keras.utils.to_categorical(y, cata)"
      ],
      "execution_count": 0,
      "outputs": []
    },
    {
      "cell_type": "code",
      "metadata": {
        "id": "fI8S7b3uVHpP",
        "colab_type": "code",
        "outputId": "c6bdfc3e-a260-4479-be37-1e54cbd61223",
        "colab": {
          "base_uri": "https://localhost:8080/",
          "height": 34
        }
      },
      "source": [
        "y.shape"
      ],
      "execution_count": 34,
      "outputs": [
        {
          "output_type": "execute_result",
          "data": {
            "text/plain": [
              "(5539, 12)"
            ]
          },
          "metadata": {
            "tags": []
          },
          "execution_count": 34
        }
      ]
    },
    {
      "cell_type": "code",
      "metadata": {
        "id": "fKCUu7TgVMu8",
        "colab_type": "code",
        "outputId": "0d64e389-cef8-4e5f-d796-3f7558e60dac",
        "colab": {
          "base_uri": "https://localhost:8080/",
          "height": 187
        }
      },
      "source": [
        "for label in y[:10]:\n",
        "    print(label)"
      ],
      "execution_count": 35,
      "outputs": [
        {
          "output_type": "stream",
          "text": [
            "[0. 0. 1. 0. 0. 0. 0. 0. 0. 0. 0. 0.]\n",
            "[0. 1. 0. 0. 0. 0. 0. 0. 0. 0. 0. 0.]\n",
            "[0. 0. 0. 1. 0. 0. 0. 0. 0. 0. 0. 0.]\n",
            "[0. 1. 0. 0. 0. 0. 0. 0. 0. 0. 0. 0.]\n",
            "[0. 1. 0. 0. 0. 0. 0. 0. 0. 0. 0. 0.]\n",
            "[0. 0. 0. 0. 0. 0. 0. 0. 0. 0. 1. 0.]\n",
            "[0. 0. 0. 0. 1. 0. 0. 0. 0. 0. 0. 0.]\n",
            "[0. 0. 0. 0. 0. 0. 0. 0. 0. 0. 1. 0.]\n",
            "[0. 0. 0. 0. 0. 1. 0. 0. 0. 0. 0. 0.]\n",
            "[0. 0. 0. 0. 0. 0. 1. 0. 0. 0. 0. 0.]\n"
          ],
          "name": "stdout"
        }
      ]
    },
    {
      "cell_type": "code",
      "metadata": {
        "id": "d--nGHjCVQrG",
        "colab_type": "code",
        "outputId": "ef02138f-a208-47da-bfdc-ef0fb8116f9c",
        "colab": {
          "base_uri": "https://localhost:8080/",
          "height": 51
        }
      },
      "source": [
        "from sklearn.model_selection import train_test_split\n",
        "x_train, x_test, y_train, y_test = train_test_split(X,y, test_size=0.1,  random_state=42)\n",
        "print(y_train.shape, y_test.shape)\n",
        "print(x_train.shape, x_test.shape)"
      ],
      "execution_count": 36,
      "outputs": [
        {
          "output_type": "stream",
          "text": [
            "(4985, 12) (554, 12)\n",
            "(4985, 224, 224, 3) (554, 224, 224, 3)\n"
          ],
          "name": "stdout"
        }
      ]
    },
    {
      "cell_type": "code",
      "metadata": {
        "id": "yf3I0PNFwFf-",
        "colab_type": "code",
        "colab": {}
      },
      "source": [
        "#plt.figure()\n",
        "# fig, axs = plt.subplots(nrows=3,ncols=4, sharex='all', sharey='all', figsize=( 15,  10))\n",
        "# axs[0,0].set_title('Black-grass')\n",
        "# axs[0,0].imshow(x_train[0])\n",
        "# axs[0,1].set_title('Charlock')\n",
        "# axs[0,1].imshow(x_train[1])\n",
        "# axs[0,2].set_title('Cleavers')\n",
        "# axs[0,2].imshow(x_train[2])\n",
        "# axs[0,3].set_title('Common Chickweed')\n",
        "# axs[0,3].imshow(x_train[3])\n",
        "# axs[1,0].set_title('Common wheat')\n",
        "# axs[1,0].imshow(x_train[4])\n",
        "# axs[1,1].set_title('Fat Hen')\n",
        "# axs[1,1].imshow(x_train[5])\n",
        "# axs[1,2].set_title('Loose Silky-bent')\n",
        "# axs[1,2].imshow(x_train[6])\n",
        "# axs[1,3].set_title('Maize')\n",
        "# axs[1,3].imshow(x_train[7])\n",
        "# axs[2,0].set_title('Scentless Mayweed')\n",
        "# axs[2,0].imshow(x_train[8])\n",
        "# axs[2,1].set_title('ShepherdΓÇÖs Purse')\n",
        "# axs[2,1].imshow(x_train[9])\n",
        "# axs[2,2].set_title('Small-flowered Cranesbill')\n",
        "# axs[2,2].imshow(x_train[10])\n",
        "# axs[2,3].set_title('Sugar beet')\n",
        "# axs[2,3].imshow(x_train[11])\n",
        "\n",
        "# ******************************************\n",
        "\n",
        "# plt.subplot(3,4,1)\n",
        "# # plt.imshow(x_train[2])\n",
        "# #axs[0,0].title('Cleavers')\n",
        "# #plt.show()\n",
        "# #\n",
        "# #plt.figure()\n",
        "# plt.subplot(3,4,2)\n",
        "# plt.imshow(x_train[3])\n",
        "# plt.title('Common Chickweed')\n",
        "\n",
        "# #plt.figure()\n",
        "# plt.subplot(3,4,3)\n",
        "# plt.imshow(x_train[3])\n",
        "# plt.title('Common Chickweed')\n",
        "\n",
        "# #plt.figure()\n",
        "# plt.subplot(3,4,4)\n",
        "# plt.imshow(x_train[3])\n",
        "# plt.title('Common Chickweed')\n",
        "\n",
        "# plt.subplot(3,4,5)\n",
        "# plt.imshow(x_train[3])\n",
        "# plt.title('Common Chickweed')"
      ],
      "execution_count": 0,
      "outputs": []
    },
    {
      "cell_type": "code",
      "metadata": {
        "id": "RX7hH2-i6K_z",
        "colab_type": "code",
        "colab": {}
      },
      "source": [
        "del X\n",
        "del y"
      ],
      "execution_count": 0,
      "outputs": []
    },
    {
      "cell_type": "code",
      "metadata": {
        "id": "o0Z8Q8xP5pYO",
        "colab_type": "code",
        "colab": {}
      },
      "source": [
        "# import argparse\n",
        "# ap = argparse.ArgumentParser()\n",
        "# ap.add_argument(\"-d\", \"--dataset\", required=True,\n",
        "# \thelp=\"path to input dataset\")\n",
        "# ap.add_argument(\"-a\", \"--augment\", type=int, default=-1,\n",
        "# \thelp=\"whether or not 'on the fly' data augmentation should be used\")\n",
        "# ap.add_argument(\"-p\", \"--plot\", type=str, default=\"plot.png\",\n",
        "# \thelp=\"path to output loss/accuracy plot\")\n",
        "# args = vars(ap.parse_args())"
      ],
      "execution_count": 0,
      "outputs": []
    },
    {
      "cell_type": "code",
      "metadata": {
        "id": "SePgwJe44bWk",
        "colab_type": "code",
        "colab": {}
      },
      "source": [
        "from keras.preprocessing.image import ImageDataGenerator\n",
        "#aug = ImageDataGenerator()"
      ],
      "execution_count": 0,
      "outputs": []
    },
    {
      "cell_type": "code",
      "metadata": {
        "id": "-LH44O915HVm",
        "colab_type": "code",
        "colab": {}
      },
      "source": [
        "# if args[\"augment\"] > 0:\n",
        "# \tprint(\"[INFO] performing 'on the fly' data augmentation\")\n",
        "gen = ImageDataGenerator(\n",
        "\t\trotation_range=20,\n",
        "\t\tzoom_range=0.1,\n",
        "\t\twidth_shift_range=0.1,\n",
        "\t\theight_shift_range=0.1,\n",
        "\t\tshear_range=0.15,\n",
        "\t\thorizontal_flip=True,\n",
        "\t\tfill_mode=\"nearest\")"
      ],
      "execution_count": 0,
      "outputs": []
    },
    {
      "cell_type": "code",
      "metadata": {
        "id": "_wUP_2TaVfAg",
        "colab_type": "code",
        "colab": {}
      },
      "source": [
        "# plt.figure(figsize=[5,5])\n",
        "\n",
        "# # Display the first image in training data\n",
        "# plt.subplot(121)\n",
        "# plt.imshow(x_train[0,:,:,:])\n",
        "# plt.title(\"Training Data : {}\".format(x_train[0]))\n",
        "\n",
        "# # Display the first image in testing data\n",
        "# plt.subplot(122)\n",
        "# plt.imshow(x_test[0,:,:,:])\n",
        "# plt.title(\"Testing Data : {}\".format(x_test[0]))"
      ],
      "execution_count": 0,
      "outputs": []
    },
    {
      "cell_type": "code",
      "metadata": {
        "id": "wNGF186NViBA",
        "colab_type": "code",
        "outputId": "c223280c-46a2-47fe-eddd-7a2e7c60696b",
        "colab": {
          "base_uri": "https://localhost:8080/",
          "height": 51
        }
      },
      "source": [
        "from sklearn.model_selection import train_test_split\n",
        "train_X,valid_X,train_label,valid_label = train_test_split(x_train, y_train, test_size=0.11, random_state=50)\n",
        "print(train_X.shape, valid_X.shape)\n",
        "print(train_label.shape, valid_label.shape)"
      ],
      "execution_count": 43,
      "outputs": [
        {
          "output_type": "stream",
          "text": [
            "(4436, 224, 224, 3) (549, 224, 224, 3)\n",
            "(4436, 12) (549, 12)\n"
          ],
          "name": "stdout"
        }
      ]
    },
    {
      "cell_type": "code",
      "metadata": {
        "id": "mZ8Gn1yT5SgF",
        "colab_type": "code",
        "colab": {}
      },
      "source": [
        "del x_train\n",
        "del y_train"
      ],
      "execution_count": 0,
      "outputs": []
    },
    {
      "cell_type": "code",
      "metadata": {
        "id": "3kmB3FYAVlFY",
        "colab_type": "code",
        "colab": {}
      },
      "source": [
        "# train_X.shape,valid_X.shape,train_label.shape,valid_label.shape"
      ],
      "execution_count": 0,
      "outputs": []
    },
    {
      "cell_type": "markdown",
      "metadata": {
        "id": "HgFZnyDh5nZO",
        "colab_type": "text"
      },
      "source": [
        "# Lenet5\n"
      ]
    },
    {
      "cell_type": "code",
      "metadata": {
        "id": "_d7q0rPDFvqQ",
        "colab_type": "code",
        "colab": {}
      },
      "source": [
        "import keras\n",
        "from keras.models import Sequential,Input,Model\n",
        "from keras.layers import Dense, Dropout, Flatten\n",
        "from keras.layers import Conv2D, MaxPooling2D\n",
        "from keras.layers.normalization import BatchNormalization\n",
        "from keras.layers.advanced_activations import LeakyReLU"
      ],
      "execution_count": 0,
      "outputs": []
    },
    {
      "cell_type": "code",
      "metadata": {
        "id": "7dV1V0xTFxjJ",
        "colab_type": "code",
        "colab": {}
      },
      "source": [
        "batch_size = 20\n",
        "epochs = 150"
      ],
      "execution_count": 0,
      "outputs": []
    },
    {
      "cell_type": "code",
      "metadata": {
        "id": "HqWB8RNreq_w",
        "colab_type": "code",
        "colab": {}
      },
      "source": [
        "model = keras.Sequential()\n",
        "\n",
        "model.add(keras.layers.Conv2D(filters=6, kernel_size=(3, 3), activation='relu', input_shape=(224,224,3)))\n",
        "model.add(keras.layers.AveragePooling2D())\n",
        "\n",
        "model.add(keras.layers.Conv2D(filters=16, kernel_size=(3, 3), activation='relu'))\n",
        "model.add(keras.layers.AveragePooling2D())\n",
        "\n",
        "model.add(keras.layers.Flatten())\n",
        "\n",
        "model.add(keras.layers.Dense(units=120, activation='relu'))\n",
        "\n",
        "model.add(keras.layers.Dense(units=84, activation='relu'))\n",
        "\n",
        "model.add(keras.layers.Dense(units=12, activation = 'softmax'))"
      ],
      "execution_count": 0,
      "outputs": []
    },
    {
      "cell_type": "code",
      "metadata": {
        "id": "GMca_cMfFXtI",
        "colab_type": "code",
        "colab": {}
      },
      "source": [
        "from keras.callbacks import ModelCheckpoint\n",
        "# # checkpoint = ModelCheckpoint(filepath, monitor='val_accuracy', verbose=1, save_best_only=True, mode='max')\n",
        "# callbacks=[ModelCheckpoint('weight.model', monitor='val_accuracy', save_best_only=True,mode='max')]\n",
        "# # callbacks_list = [checkpoint]\n",
        "filepath = \"lenet5-model.h5\"\n",
        "checkpoint = ModelCheckpoint(filepath, monitor='val_accuracy', verbose=1, \n",
        "                             save_best_only=True, mode='max')\n",
        "callbacks_list = [checkpoint]"
      ],
      "execution_count": 0,
      "outputs": []
    },
    {
      "cell_type": "code",
      "metadata": {
        "id": "pel70PYTGG-H",
        "colab_type": "code",
        "outputId": "8a6dfc14-a56a-44f3-ca12-c3854391b1b3",
        "colab": {
          "base_uri": "https://localhost:8080/",
          "height": 442
        }
      },
      "source": [
        "model.compile(loss=keras.losses.categorical_crossentropy, optimizer=keras.optimizers.Adam(),metrics=['accuracy'])\n",
        "print(model.summary())"
      ],
      "execution_count": 50,
      "outputs": [
        {
          "output_type": "stream",
          "text": [
            "Model: \"sequential_1\"\n",
            "_________________________________________________________________\n",
            "Layer (type)                 Output Shape              Param #   \n",
            "=================================================================\n",
            "conv2d_1 (Conv2D)            (None, 222, 222, 6)       168       \n",
            "_________________________________________________________________\n",
            "average_pooling2d_1 (Average (None, 111, 111, 6)       0         \n",
            "_________________________________________________________________\n",
            "conv2d_2 (Conv2D)            (None, 109, 109, 16)      880       \n",
            "_________________________________________________________________\n",
            "average_pooling2d_2 (Average (None, 54, 54, 16)        0         \n",
            "_________________________________________________________________\n",
            "flatten_1 (Flatten)          (None, 46656)             0         \n",
            "_________________________________________________________________\n",
            "dense_1 (Dense)              (None, 120)               5598840   \n",
            "_________________________________________________________________\n",
            "dense_2 (Dense)              (None, 84)                10164     \n",
            "_________________________________________________________________\n",
            "dense_3 (Dense)              (None, 12)                1020      \n",
            "=================================================================\n",
            "Total params: 5,611,072\n",
            "Trainable params: 5,611,072\n",
            "Non-trainable params: 0\n",
            "_________________________________________________________________\n",
            "None\n"
          ],
          "name": "stdout"
        }
      ]
    },
    {
      "cell_type": "code",
      "metadata": {
        "id": "xvzA-z33GJDZ",
        "colab_type": "code",
        "outputId": "a6633501-1682-4f94-d9de-4fcf612ab39f",
        "colab": {
          "base_uri": "https://localhost:8080/",
          "height": 1000
        }
      },
      "source": [
        "history = model.fit_generator(gen.flow(train_X, train_label, batch_size=batch_size),epochs=epochs,verbose=2,validation_data=(valid_X, valid_label),callbacks=callbacks_list)"
      ],
      "execution_count": 51,
      "outputs": [
        {
          "output_type": "stream",
          "text": [
            "Epoch 1/150\n",
            " - 51s - loss: 2.3446 - accuracy: 0.1959 - val_loss: 1.9489 - val_accuracy: 0.3679\n",
            "\n",
            "Epoch 00001: val_accuracy improved from -inf to 0.36794, saving model to lenet5-model.h5\n",
            "Epoch 2/150\n",
            " - 47s - loss: 1.7737 - accuracy: 0.3812 - val_loss: 1.4757 - val_accuracy: 0.4809\n",
            "\n",
            "Epoch 00002: val_accuracy improved from 0.36794 to 0.48087, saving model to lenet5-model.h5\n",
            "Epoch 3/150\n",
            " - 47s - loss: 1.4805 - accuracy: 0.4748 - val_loss: 1.2128 - val_accuracy: 0.5993\n",
            "\n",
            "Epoch 00003: val_accuracy improved from 0.48087 to 0.59927, saving model to lenet5-model.h5\n",
            "Epoch 4/150\n",
            " - 47s - loss: 1.2338 - accuracy: 0.5658 - val_loss: 1.1632 - val_accuracy: 0.5665\n",
            "\n",
            "Epoch 00004: val_accuracy did not improve from 0.59927\n",
            "Epoch 5/150\n",
            " - 47s - loss: 1.1717 - accuracy: 0.5895 - val_loss: 1.0564 - val_accuracy: 0.6375\n",
            "\n",
            "Epoch 00005: val_accuracy improved from 0.59927 to 0.63752, saving model to lenet5-model.h5\n",
            "Epoch 6/150\n",
            " - 47s - loss: 1.0971 - accuracy: 0.6132 - val_loss: 0.9767 - val_accuracy: 0.6448\n",
            "\n",
            "Epoch 00006: val_accuracy improved from 0.63752 to 0.64481, saving model to lenet5-model.h5\n",
            "Epoch 7/150\n",
            " - 46s - loss: 1.0752 - accuracy: 0.6177 - val_loss: 0.9192 - val_accuracy: 0.6776\n",
            "\n",
            "Epoch 00007: val_accuracy improved from 0.64481 to 0.67760, saving model to lenet5-model.h5\n",
            "Epoch 8/150\n",
            " - 46s - loss: 1.0390 - accuracy: 0.6344 - val_loss: 1.0196 - val_accuracy: 0.6485\n",
            "\n",
            "Epoch 00008: val_accuracy did not improve from 0.67760\n",
            "Epoch 9/150\n",
            " - 46s - loss: 0.9885 - accuracy: 0.6465 - val_loss: 0.8552 - val_accuracy: 0.6885\n",
            "\n",
            "Epoch 00009: val_accuracy improved from 0.67760 to 0.68852, saving model to lenet5-model.h5\n",
            "Epoch 10/150\n",
            " - 46s - loss: 0.9601 - accuracy: 0.6646 - val_loss: 0.9022 - val_accuracy: 0.6776\n",
            "\n",
            "Epoch 00010: val_accuracy did not improve from 0.68852\n",
            "Epoch 11/150\n",
            " - 46s - loss: 0.9217 - accuracy: 0.6709 - val_loss: 0.7678 - val_accuracy: 0.7213\n",
            "\n",
            "Epoch 00011: val_accuracy improved from 0.68852 to 0.72131, saving model to lenet5-model.h5\n",
            "Epoch 12/150\n",
            " - 46s - loss: 0.8866 - accuracy: 0.6950 - val_loss: 0.8131 - val_accuracy: 0.7122\n",
            "\n",
            "Epoch 00012: val_accuracy did not improve from 0.72131\n",
            "Epoch 13/150\n",
            " - 46s - loss: 0.8805 - accuracy: 0.6950 - val_loss: 0.7839 - val_accuracy: 0.7359\n",
            "\n",
            "Epoch 00013: val_accuracy improved from 0.72131 to 0.73588, saving model to lenet5-model.h5\n",
            "Epoch 14/150\n",
            " - 46s - loss: 0.8327 - accuracy: 0.7074 - val_loss: 0.7538 - val_accuracy: 0.7377\n",
            "\n",
            "Epoch 00014: val_accuracy improved from 0.73588 to 0.73770, saving model to lenet5-model.h5\n",
            "Epoch 15/150\n",
            " - 46s - loss: 0.8145 - accuracy: 0.7214 - val_loss: 0.7125 - val_accuracy: 0.7432\n",
            "\n",
            "Epoch 00015: val_accuracy improved from 0.73770 to 0.74317, saving model to lenet5-model.h5\n",
            "Epoch 16/150\n",
            " - 46s - loss: 0.7996 - accuracy: 0.7142 - val_loss: 0.7077 - val_accuracy: 0.7741\n",
            "\n",
            "Epoch 00016: val_accuracy improved from 0.74317 to 0.77413, saving model to lenet5-model.h5\n",
            "Epoch 17/150\n",
            " - 47s - loss: 0.8079 - accuracy: 0.7223 - val_loss: 0.6912 - val_accuracy: 0.7559\n",
            "\n",
            "Epoch 00017: val_accuracy did not improve from 0.77413\n",
            "Epoch 18/150\n",
            " - 47s - loss: 0.7708 - accuracy: 0.7311 - val_loss: 0.6669 - val_accuracy: 0.7687\n",
            "\n",
            "Epoch 00018: val_accuracy did not improve from 0.77413\n",
            "Epoch 19/150\n",
            " - 46s - loss: 0.7638 - accuracy: 0.7324 - val_loss: 0.6866 - val_accuracy: 0.7559\n",
            "\n",
            "Epoch 00019: val_accuracy did not improve from 0.77413\n",
            "Epoch 20/150\n",
            " - 47s - loss: 0.7659 - accuracy: 0.7360 - val_loss: 0.6508 - val_accuracy: 0.7705\n",
            "\n",
            "Epoch 00020: val_accuracy did not improve from 0.77413\n",
            "Epoch 21/150\n",
            " - 47s - loss: 0.7687 - accuracy: 0.7297 - val_loss: 0.6521 - val_accuracy: 0.7687\n",
            "\n",
            "Epoch 00021: val_accuracy did not improve from 0.77413\n",
            "Epoch 22/150\n",
            " - 47s - loss: 0.7404 - accuracy: 0.7383 - val_loss: 0.6727 - val_accuracy: 0.7614\n",
            "\n",
            "Epoch 00022: val_accuracy did not improve from 0.77413\n",
            "Epoch 23/150\n",
            " - 47s - loss: 0.7390 - accuracy: 0.7349 - val_loss: 0.9046 - val_accuracy: 0.6740\n",
            "\n",
            "Epoch 00023: val_accuracy did not improve from 0.77413\n",
            "Epoch 24/150\n",
            " - 47s - loss: 0.7034 - accuracy: 0.7532 - val_loss: 0.6143 - val_accuracy: 0.7687\n",
            "\n",
            "Epoch 00024: val_accuracy did not improve from 0.77413\n",
            "Epoch 25/150\n",
            " - 47s - loss: 0.7158 - accuracy: 0.7525 - val_loss: 0.6227 - val_accuracy: 0.7778\n",
            "\n",
            "Epoch 00025: val_accuracy improved from 0.77413 to 0.77778, saving model to lenet5-model.h5\n",
            "Epoch 26/150\n",
            " - 47s - loss: 0.7077 - accuracy: 0.7500 - val_loss: 0.7604 - val_accuracy: 0.7250\n",
            "\n",
            "Epoch 00026: val_accuracy did not improve from 0.77778\n",
            "Epoch 27/150\n",
            " - 47s - loss: 0.6834 - accuracy: 0.7559 - val_loss: 0.6211 - val_accuracy: 0.7687\n",
            "\n",
            "Epoch 00027: val_accuracy did not improve from 0.77778\n",
            "Epoch 28/150\n",
            " - 47s - loss: 0.6841 - accuracy: 0.7626 - val_loss: 0.6711 - val_accuracy: 0.7614\n",
            "\n",
            "Epoch 00028: val_accuracy did not improve from 0.77778\n",
            "Epoch 29/150\n",
            " - 47s - loss: 0.6565 - accuracy: 0.7667 - val_loss: 0.6019 - val_accuracy: 0.7814\n",
            "\n",
            "Epoch 00029: val_accuracy improved from 0.77778 to 0.78142, saving model to lenet5-model.h5\n",
            "Epoch 30/150\n",
            " - 47s - loss: 0.6822 - accuracy: 0.7633 - val_loss: 0.6561 - val_accuracy: 0.7705\n",
            "\n",
            "Epoch 00030: val_accuracy did not improve from 0.78142\n",
            "Epoch 31/150\n",
            " - 47s - loss: 0.6755 - accuracy: 0.7577 - val_loss: 0.5734 - val_accuracy: 0.7796\n",
            "\n",
            "Epoch 00031: val_accuracy did not improve from 0.78142\n",
            "Epoch 32/150\n",
            " - 47s - loss: 0.6455 - accuracy: 0.7737 - val_loss: 0.5796 - val_accuracy: 0.7960\n",
            "\n",
            "Epoch 00032: val_accuracy improved from 0.78142 to 0.79599, saving model to lenet5-model.h5\n",
            "Epoch 33/150\n",
            " - 47s - loss: 0.6581 - accuracy: 0.7647 - val_loss: 0.5920 - val_accuracy: 0.7905\n",
            "\n",
            "Epoch 00033: val_accuracy did not improve from 0.79599\n",
            "Epoch 34/150\n",
            " - 47s - loss: 0.6503 - accuracy: 0.7730 - val_loss: 0.6083 - val_accuracy: 0.7778\n",
            "\n",
            "Epoch 00034: val_accuracy did not improve from 0.79599\n",
            "Epoch 35/150\n",
            " - 47s - loss: 0.6139 - accuracy: 0.7755 - val_loss: 0.6373 - val_accuracy: 0.7723\n",
            "\n",
            "Epoch 00035: val_accuracy did not improve from 0.79599\n",
            "Epoch 36/150\n",
            " - 47s - loss: 0.6272 - accuracy: 0.7743 - val_loss: 0.5664 - val_accuracy: 0.7687\n",
            "\n",
            "Epoch 00036: val_accuracy did not improve from 0.79599\n",
            "Epoch 37/150\n",
            " - 47s - loss: 0.6110 - accuracy: 0.7874 - val_loss: 0.5639 - val_accuracy: 0.8087\n",
            "\n",
            "Epoch 00037: val_accuracy improved from 0.79599 to 0.80874, saving model to lenet5-model.h5\n",
            "Epoch 38/150\n",
            " - 47s - loss: 0.6520 - accuracy: 0.7676 - val_loss: 0.6274 - val_accuracy: 0.7450\n",
            "\n",
            "Epoch 00038: val_accuracy did not improve from 0.80874\n",
            "Epoch 39/150\n",
            " - 47s - loss: 0.6251 - accuracy: 0.7829 - val_loss: 0.5796 - val_accuracy: 0.7942\n",
            "\n",
            "Epoch 00039: val_accuracy did not improve from 0.80874\n",
            "Epoch 40/150\n",
            " - 47s - loss: 0.5886 - accuracy: 0.7874 - val_loss: 0.5796 - val_accuracy: 0.7978\n",
            "\n",
            "Epoch 00040: val_accuracy did not improve from 0.80874\n",
            "Epoch 41/150\n",
            " - 47s - loss: 0.5935 - accuracy: 0.7888 - val_loss: 0.6022 - val_accuracy: 0.7687\n",
            "\n",
            "Epoch 00041: val_accuracy did not improve from 0.80874\n",
            "Epoch 42/150\n",
            " - 47s - loss: 0.6109 - accuracy: 0.7784 - val_loss: 0.5689 - val_accuracy: 0.8069\n",
            "\n",
            "Epoch 00042: val_accuracy did not improve from 0.80874\n",
            "Epoch 43/150\n",
            " - 47s - loss: 0.6069 - accuracy: 0.7809 - val_loss: 0.5666 - val_accuracy: 0.7814\n",
            "\n",
            "Epoch 00043: val_accuracy did not improve from 0.80874\n",
            "Epoch 44/150\n",
            " - 47s - loss: 0.5903 - accuracy: 0.7867 - val_loss: 0.5349 - val_accuracy: 0.7905\n",
            "\n",
            "Epoch 00044: val_accuracy did not improve from 0.80874\n",
            "Epoch 45/150\n",
            " - 47s - loss: 0.5998 - accuracy: 0.7917 - val_loss: 0.6425 - val_accuracy: 0.7650\n",
            "\n",
            "Epoch 00045: val_accuracy did not improve from 0.80874\n",
            "Epoch 46/150\n",
            " - 47s - loss: 0.5835 - accuracy: 0.7915 - val_loss: 0.6922 - val_accuracy: 0.7450\n",
            "\n",
            "Epoch 00046: val_accuracy did not improve from 0.80874\n",
            "Epoch 47/150\n",
            " - 47s - loss: 0.5918 - accuracy: 0.7863 - val_loss: 0.5760 - val_accuracy: 0.8015\n",
            "\n",
            "Epoch 00047: val_accuracy did not improve from 0.80874\n",
            "Epoch 48/150\n",
            " - 47s - loss: 0.5946 - accuracy: 0.7870 - val_loss: 0.5774 - val_accuracy: 0.8015\n",
            "\n",
            "Epoch 00048: val_accuracy did not improve from 0.80874\n",
            "Epoch 49/150\n",
            " - 47s - loss: 0.5765 - accuracy: 0.7885 - val_loss: 0.4895 - val_accuracy: 0.8197\n",
            "\n",
            "Epoch 00049: val_accuracy improved from 0.80874 to 0.81967, saving model to lenet5-model.h5\n",
            "Epoch 50/150\n",
            " - 47s - loss: 0.5471 - accuracy: 0.8014 - val_loss: 0.5005 - val_accuracy: 0.8215\n",
            "\n",
            "Epoch 00050: val_accuracy improved from 0.81967 to 0.82149, saving model to lenet5-model.h5\n",
            "Epoch 51/150\n",
            " - 47s - loss: 0.5548 - accuracy: 0.7998 - val_loss: 0.6243 - val_accuracy: 0.7687\n",
            "\n",
            "Epoch 00051: val_accuracy did not improve from 0.82149\n",
            "Epoch 52/150\n",
            " - 47s - loss: 0.5584 - accuracy: 0.7946 - val_loss: 0.5233 - val_accuracy: 0.8179\n",
            "\n",
            "Epoch 00052: val_accuracy did not improve from 0.82149\n",
            "Epoch 53/150\n",
            " - 47s - loss: 0.5450 - accuracy: 0.8066 - val_loss: 0.4875 - val_accuracy: 0.8270\n",
            "\n",
            "Epoch 00053: val_accuracy improved from 0.82149 to 0.82696, saving model to lenet5-model.h5\n",
            "Epoch 54/150\n",
            " - 47s - loss: 0.5314 - accuracy: 0.8050 - val_loss: 0.5805 - val_accuracy: 0.8033\n",
            "\n",
            "Epoch 00054: val_accuracy did not improve from 0.82696\n",
            "Epoch 55/150\n",
            " - 47s - loss: 0.5340 - accuracy: 0.8068 - val_loss: 0.7106 - val_accuracy: 0.7650\n",
            "\n",
            "Epoch 00055: val_accuracy did not improve from 0.82696\n",
            "Epoch 56/150\n",
            " - 47s - loss: 0.5518 - accuracy: 0.7967 - val_loss: 0.5556 - val_accuracy: 0.8051\n",
            "\n",
            "Epoch 00056: val_accuracy did not improve from 0.82696\n",
            "Epoch 57/150\n",
            " - 47s - loss: 0.5285 - accuracy: 0.8154 - val_loss: 0.5083 - val_accuracy: 0.8197\n",
            "\n",
            "Epoch 00057: val_accuracy did not improve from 0.82696\n",
            "Epoch 58/150\n",
            " - 47s - loss: 0.5279 - accuracy: 0.8066 - val_loss: 0.5437 - val_accuracy: 0.8051\n",
            "\n",
            "Epoch 00058: val_accuracy did not improve from 0.82696\n",
            "Epoch 59/150\n",
            " - 47s - loss: 0.5379 - accuracy: 0.8048 - val_loss: 0.4331 - val_accuracy: 0.8488\n",
            "\n",
            "Epoch 00059: val_accuracy improved from 0.82696 to 0.84882, saving model to lenet5-model.h5\n",
            "Epoch 60/150\n",
            " - 47s - loss: 0.4862 - accuracy: 0.8217 - val_loss: 0.6166 - val_accuracy: 0.7923\n",
            "\n",
            "Epoch 00060: val_accuracy did not improve from 0.84882\n",
            "Epoch 61/150\n",
            " - 47s - loss: 0.5007 - accuracy: 0.8226 - val_loss: 0.4967 - val_accuracy: 0.8233\n",
            "\n",
            "Epoch 00061: val_accuracy did not improve from 0.84882\n",
            "Epoch 62/150\n",
            " - 47s - loss: 0.5154 - accuracy: 0.8133 - val_loss: 0.5020 - val_accuracy: 0.8342\n",
            "\n",
            "Epoch 00062: val_accuracy did not improve from 0.84882\n",
            "Epoch 63/150\n",
            " - 47s - loss: 0.5039 - accuracy: 0.8194 - val_loss: 0.5304 - val_accuracy: 0.8251\n",
            "\n",
            "Epoch 00063: val_accuracy did not improve from 0.84882\n",
            "Epoch 64/150\n",
            " - 47s - loss: 0.5110 - accuracy: 0.8165 - val_loss: 0.4399 - val_accuracy: 0.8415\n",
            "\n",
            "Epoch 00064: val_accuracy did not improve from 0.84882\n",
            "Epoch 65/150\n",
            " - 47s - loss: 0.4804 - accuracy: 0.8233 - val_loss: 0.4763 - val_accuracy: 0.8251\n",
            "\n",
            "Epoch 00065: val_accuracy did not improve from 0.84882\n",
            "Epoch 66/150\n",
            " - 47s - loss: 0.4522 - accuracy: 0.8260 - val_loss: 0.4578 - val_accuracy: 0.8324\n",
            "\n",
            "Epoch 00066: val_accuracy did not improve from 0.84882\n",
            "Epoch 67/150\n",
            " - 47s - loss: 0.4721 - accuracy: 0.8298 - val_loss: 0.4366 - val_accuracy: 0.8488\n",
            "\n",
            "Epoch 00067: val_accuracy did not improve from 0.84882\n",
            "Epoch 68/150\n",
            " - 47s - loss: 0.4725 - accuracy: 0.8280 - val_loss: 0.4610 - val_accuracy: 0.8215\n",
            "\n",
            "Epoch 00068: val_accuracy did not improve from 0.84882\n",
            "Epoch 69/150\n",
            " - 47s - loss: 0.4687 - accuracy: 0.8316 - val_loss: 0.4604 - val_accuracy: 0.8251\n",
            "\n",
            "Epoch 00069: val_accuracy did not improve from 0.84882\n",
            "Epoch 70/150\n",
            " - 47s - loss: 0.4812 - accuracy: 0.8275 - val_loss: 0.4854 - val_accuracy: 0.8434\n",
            "\n",
            "Epoch 00070: val_accuracy did not improve from 0.84882\n",
            "Epoch 71/150\n",
            " - 47s - loss: 0.4556 - accuracy: 0.8298 - val_loss: 0.4374 - val_accuracy: 0.8616\n",
            "\n",
            "Epoch 00071: val_accuracy improved from 0.84882 to 0.86157, saving model to lenet5-model.h5\n",
            "Epoch 72/150\n",
            " - 47s - loss: 0.4617 - accuracy: 0.8291 - val_loss: 0.7618 - val_accuracy: 0.7468\n",
            "\n",
            "Epoch 00072: val_accuracy did not improve from 0.86157\n",
            "Epoch 73/150\n",
            " - 47s - loss: 0.4551 - accuracy: 0.8336 - val_loss: 0.4871 - val_accuracy: 0.8361\n",
            "\n",
            "Epoch 00073: val_accuracy did not improve from 0.86157\n",
            "Epoch 74/150\n",
            " - 47s - loss: 0.4630 - accuracy: 0.8282 - val_loss: 0.5272 - val_accuracy: 0.8142\n",
            "\n",
            "Epoch 00074: val_accuracy did not improve from 0.86157\n",
            "Epoch 75/150\n",
            "Epoch 1/150\n",
            " - 51s - loss: 2.3446 - accuracy: 0.1959 - val_loss: 1.9489 - val_accuracy: 0.3679\n",
            "\n",
            "Epoch 00001: val_accuracy improved from -inf to 0.36794, saving model to lenet5-model.h5\n",
            "Epoch 2/150\n",
            " - 47s - loss: 1.7737 - accuracy: 0.3812 - val_loss: 1.4757 - val_accuracy: 0.4809\n",
            "\n",
            "Epoch 00002: val_accuracy improved from 0.36794 to 0.48087, saving model to lenet5-model.h5\n",
            "Epoch 3/150\n",
            " - 47s - loss: 1.4805 - accuracy: 0.4748 - val_loss: 1.2128 - val_accuracy: 0.5993\n",
            "\n",
            "Epoch 00003: val_accuracy improved from 0.48087 to 0.59927, saving model to lenet5-model.h5\n",
            "Epoch 4/150\n",
            " - 47s - loss: 1.2338 - accuracy: 0.5658 - val_loss: 1.1632 - val_accuracy: 0.5665\n",
            "\n",
            "Epoch 00004: val_accuracy did not improve from 0.59927\n",
            "Epoch 5/150\n",
            " - 47s - loss: 1.1717 - accuracy: 0.5895 - val_loss: 1.0564 - val_accuracy: 0.6375\n",
            "\n",
            "Epoch 00005: val_accuracy improved from 0.59927 to 0.63752, saving model to lenet5-model.h5\n",
            "Epoch 6/150\n",
            " - 47s - loss: 1.0971 - accuracy: 0.6132 - val_loss: 0.9767 - val_accuracy: 0.6448\n",
            "\n",
            "Epoch 00006: val_accuracy improved from 0.63752 to 0.64481, saving model to lenet5-model.h5\n",
            "Epoch 7/150\n",
            " - 46s - loss: 1.0752 - accuracy: 0.6177 - val_loss: 0.9192 - val_accuracy: 0.6776\n",
            "\n",
            "Epoch 00007: val_accuracy improved from 0.64481 to 0.67760, saving model to lenet5-model.h5\n",
            "Epoch 8/150\n",
            " - 46s - loss: 1.0390 - accuracy: 0.6344 - val_loss: 1.0196 - val_accuracy: 0.6485\n",
            "\n",
            "Epoch 00008: val_accuracy did not improve from 0.67760\n",
            "Epoch 9/150\n",
            " - 46s - loss: 0.9885 - accuracy: 0.6465 - val_loss: 0.8552 - val_accuracy: 0.6885\n",
            "\n",
            "Epoch 00009: val_accuracy improved from 0.67760 to 0.68852, saving model to lenet5-model.h5\n",
            "Epoch 10/150\n",
            " - 46s - loss: 0.9601 - accuracy: 0.6646 - val_loss: 0.9022 - val_accuracy: 0.6776\n",
            "\n",
            "Epoch 00010: val_accuracy did not improve from 0.68852\n",
            "Epoch 11/150\n",
            " - 46s - loss: 0.9217 - accuracy: 0.6709 - val_loss: 0.7678 - val_accuracy: 0.7213\n",
            "\n",
            "Epoch 00011: val_accuracy improved from 0.68852 to 0.72131, saving model to lenet5-model.h5\n",
            "Epoch 12/150\n",
            " - 46s - loss: 0.8866 - accuracy: 0.6950 - val_loss: 0.8131 - val_accuracy: 0.7122\n",
            "\n",
            "Epoch 00012: val_accuracy did not improve from 0.72131\n",
            "Epoch 13/150\n",
            " - 46s - loss: 0.8805 - accuracy: 0.6950 - val_loss: 0.7839 - val_accuracy: 0.7359\n",
            "\n",
            "Epoch 00013: val_accuracy improved from 0.72131 to 0.73588, saving model to lenet5-model.h5\n",
            "Epoch 14/150\n",
            " - 46s - loss: 0.8327 - accuracy: 0.7074 - val_loss: 0.7538 - val_accuracy: 0.7377\n",
            "\n",
            "Epoch 00014: val_accuracy improved from 0.73588 to 0.73770, saving model to lenet5-model.h5\n",
            "Epoch 15/150\n",
            " - 46s - loss: 0.8145 - accuracy: 0.7214 - val_loss: 0.7125 - val_accuracy: 0.7432\n",
            "\n",
            "Epoch 00015: val_accuracy improved from 0.73770 to 0.74317, saving model to lenet5-model.h5\n",
            "Epoch 16/150\n",
            " - 46s - loss: 0.7996 - accuracy: 0.7142 - val_loss: 0.7077 - val_accuracy: 0.7741\n",
            "\n",
            "Epoch 00016: val_accuracy improved from 0.74317 to 0.77413, saving model to lenet5-model.h5\n",
            "Epoch 17/150\n",
            " - 47s - loss: 0.8079 - accuracy: 0.7223 - val_loss: 0.6912 - val_accuracy: 0.7559\n",
            "\n",
            "Epoch 00017: val_accuracy did not improve from 0.77413\n",
            "Epoch 18/150\n",
            " - 47s - loss: 0.7708 - accuracy: 0.7311 - val_loss: 0.6669 - val_accuracy: 0.7687\n",
            "\n",
            "Epoch 00018: val_accuracy did not improve from 0.77413\n",
            "Epoch 19/150\n",
            " - 46s - loss: 0.7638 - accuracy: 0.7324 - val_loss: 0.6866 - val_accuracy: 0.7559\n",
            "\n",
            "Epoch 00019: val_accuracy did not improve from 0.77413\n",
            "Epoch 20/150\n",
            " - 47s - loss: 0.7659 - accuracy: 0.7360 - val_loss: 0.6508 - val_accuracy: 0.7705\n",
            "\n",
            "Epoch 00020: val_accuracy did not improve from 0.77413\n",
            "Epoch 21/150\n",
            " - 47s - loss: 0.7687 - accuracy: 0.7297 - val_loss: 0.6521 - val_accuracy: 0.7687\n",
            "\n",
            "Epoch 00021: val_accuracy did not improve from 0.77413\n",
            "Epoch 22/150\n",
            " - 47s - loss: 0.7404 - accuracy: 0.7383 - val_loss: 0.6727 - val_accuracy: 0.7614\n",
            "\n",
            "Epoch 00022: val_accuracy did not improve from 0.77413\n",
            "Epoch 23/150\n",
            " - 47s - loss: 0.7390 - accuracy: 0.7349 - val_loss: 0.9046 - val_accuracy: 0.6740\n",
            "\n",
            "Epoch 00023: val_accuracy did not improve from 0.77413\n",
            "Epoch 24/150\n",
            " - 47s - loss: 0.7034 - accuracy: 0.7532 - val_loss: 0.6143 - val_accuracy: 0.7687\n",
            "\n",
            "Epoch 00024: val_accuracy did not improve from 0.77413\n",
            "Epoch 25/150\n",
            " - 47s - loss: 0.7158 - accuracy: 0.7525 - val_loss: 0.6227 - val_accuracy: 0.7778\n",
            "\n",
            "Epoch 00025: val_accuracy improved from 0.77413 to 0.77778, saving model to lenet5-model.h5\n",
            "Epoch 26/150\n",
            " - 47s - loss: 0.7077 - accuracy: 0.7500 - val_loss: 0.7604 - val_accuracy: 0.7250\n",
            "\n",
            "Epoch 00026: val_accuracy did not improve from 0.77778\n",
            "Epoch 27/150\n",
            " - 47s - loss: 0.6834 - accuracy: 0.7559 - val_loss: 0.6211 - val_accuracy: 0.7687\n",
            "\n",
            "Epoch 00027: val_accuracy did not improve from 0.77778\n",
            "Epoch 28/150\n",
            " - 47s - loss: 0.6841 - accuracy: 0.7626 - val_loss: 0.6711 - val_accuracy: 0.7614\n",
            "\n",
            "Epoch 00028: val_accuracy did not improve from 0.77778\n",
            "Epoch 29/150\n",
            " - 47s - loss: 0.6565 - accuracy: 0.7667 - val_loss: 0.6019 - val_accuracy: 0.7814\n",
            "\n",
            "Epoch 00029: val_accuracy improved from 0.77778 to 0.78142, saving model to lenet5-model.h5\n",
            "Epoch 30/150\n",
            " - 47s - loss: 0.6822 - accuracy: 0.7633 - val_loss: 0.6561 - val_accuracy: 0.7705\n",
            "\n",
            "Epoch 00030: val_accuracy did not improve from 0.78142\n",
            "Epoch 31/150\n",
            " - 47s - loss: 0.6755 - accuracy: 0.7577 - val_loss: 0.5734 - val_accuracy: 0.7796\n",
            "\n",
            "Epoch 00031: val_accuracy did not improve from 0.78142\n",
            "Epoch 32/150\n",
            " - 47s - loss: 0.6455 - accuracy: 0.7737 - val_loss: 0.5796 - val_accuracy: 0.7960\n",
            "\n",
            "Epoch 00032: val_accuracy improved from 0.78142 to 0.79599, saving model to lenet5-model.h5\n",
            "Epoch 33/150\n",
            " - 47s - loss: 0.6581 - accuracy: 0.7647 - val_loss: 0.5920 - val_accuracy: 0.7905\n",
            "\n",
            "Epoch 00033: val_accuracy did not improve from 0.79599\n",
            "Epoch 34/150\n",
            " - 47s - loss: 0.6503 - accuracy: 0.7730 - val_loss: 0.6083 - val_accuracy: 0.7778\n",
            "\n",
            "Epoch 00034: val_accuracy did not improve from 0.79599\n",
            "Epoch 35/150\n",
            " - 47s - loss: 0.6139 - accuracy: 0.7755 - val_loss: 0.6373 - val_accuracy: 0.7723\n",
            "\n",
            "Epoch 00035: val_accuracy did not improve from 0.79599\n",
            "Epoch 36/150\n",
            " - 47s - loss: 0.6272 - accuracy: 0.7743 - val_loss: 0.5664 - val_accuracy: 0.7687\n",
            "\n",
            "Epoch 00036: val_accuracy did not improve from 0.79599\n",
            "Epoch 37/150\n",
            " - 47s - loss: 0.6110 - accuracy: 0.7874 - val_loss: 0.5639 - val_accuracy: 0.8087\n",
            "\n",
            "Epoch 00037: val_accuracy improved from 0.79599 to 0.80874, saving model to lenet5-model.h5\n",
            "Epoch 38/150\n",
            " - 47s - loss: 0.6520 - accuracy: 0.7676 - val_loss: 0.6274 - val_accuracy: 0.7450\n",
            "\n",
            "Epoch 00038: val_accuracy did not improve from 0.80874\n",
            "Epoch 39/150\n",
            " - 47s - loss: 0.6251 - accuracy: 0.7829 - val_loss: 0.5796 - val_accuracy: 0.7942\n",
            "\n",
            "Epoch 00039: val_accuracy did not improve from 0.80874\n",
            "Epoch 40/150\n",
            " - 47s - loss: 0.5886 - accuracy: 0.7874 - val_loss: 0.5796 - val_accuracy: 0.7978\n",
            "\n",
            "Epoch 00040: val_accuracy did not improve from 0.80874\n",
            "Epoch 41/150\n",
            " - 47s - loss: 0.5935 - accuracy: 0.7888 - val_loss: 0.6022 - val_accuracy: 0.7687\n",
            "\n",
            "Epoch 00041: val_accuracy did not improve from 0.80874\n",
            "Epoch 42/150\n",
            " - 47s - loss: 0.6109 - accuracy: 0.7784 - val_loss: 0.5689 - val_accuracy: 0.8069\n",
            "\n",
            "Epoch 00042: val_accuracy did not improve from 0.80874\n",
            "Epoch 43/150\n",
            " - 47s - loss: 0.6069 - accuracy: 0.7809 - val_loss: 0.5666 - val_accuracy: 0.7814\n",
            "\n",
            "Epoch 00043: val_accuracy did not improve from 0.80874\n",
            "Epoch 44/150\n",
            " - 47s - loss: 0.5903 - accuracy: 0.7867 - val_loss: 0.5349 - val_accuracy: 0.7905\n",
            "\n",
            "Epoch 00044: val_accuracy did not improve from 0.80874\n",
            "Epoch 45/150\n",
            " - 47s - loss: 0.5998 - accuracy: 0.7917 - val_loss: 0.6425 - val_accuracy: 0.7650\n",
            "\n",
            "Epoch 00045: val_accuracy did not improve from 0.80874\n",
            "Epoch 46/150\n",
            " - 47s - loss: 0.5835 - accuracy: 0.7915 - val_loss: 0.6922 - val_accuracy: 0.7450\n",
            "\n",
            "Epoch 00046: val_accuracy did not improve from 0.80874\n",
            "Epoch 47/150\n",
            " - 47s - loss: 0.5918 - accuracy: 0.7863 - val_loss: 0.5760 - val_accuracy: 0.8015\n",
            "\n",
            "Epoch 00047: val_accuracy did not improve from 0.80874\n",
            "Epoch 48/150\n",
            " - 47s - loss: 0.5946 - accuracy: 0.7870 - val_loss: 0.5774 - val_accuracy: 0.8015\n",
            "\n",
            "Epoch 00048: val_accuracy did not improve from 0.80874\n",
            "Epoch 49/150\n",
            " - 47s - loss: 0.5765 - accuracy: 0.7885 - val_loss: 0.4895 - val_accuracy: 0.8197\n",
            "\n",
            "Epoch 00049: val_accuracy improved from 0.80874 to 0.81967, saving model to lenet5-model.h5\n",
            "Epoch 50/150\n",
            " - 47s - loss: 0.5471 - accuracy: 0.8014 - val_loss: 0.5005 - val_accuracy: 0.8215\n",
            "\n",
            "Epoch 00050: val_accuracy improved from 0.81967 to 0.82149, saving model to lenet5-model.h5\n",
            "Epoch 51/150\n",
            " - 47s - loss: 0.5548 - accuracy: 0.7998 - val_loss: 0.6243 - val_accuracy: 0.7687\n",
            "\n",
            "Epoch 00051: val_accuracy did not improve from 0.82149\n",
            "Epoch 52/150\n",
            " - 47s - loss: 0.5584 - accuracy: 0.7946 - val_loss: 0.5233 - val_accuracy: 0.8179\n",
            "\n",
            "Epoch 00052: val_accuracy did not improve from 0.82149\n",
            "Epoch 53/150\n",
            " - 47s - loss: 0.5450 - accuracy: 0.8066 - val_loss: 0.4875 - val_accuracy: 0.8270\n",
            "\n",
            "Epoch 00053: val_accuracy improved from 0.82149 to 0.82696, saving model to lenet5-model.h5\n",
            "Epoch 54/150\n",
            " - 47s - loss: 0.5314 - accuracy: 0.8050 - val_loss: 0.5805 - val_accuracy: 0.8033\n",
            "\n",
            "Epoch 00054: val_accuracy did not improve from 0.82696\n",
            "Epoch 55/150\n",
            " - 47s - loss: 0.5340 - accuracy: 0.8068 - val_loss: 0.7106 - val_accuracy: 0.7650\n",
            "\n",
            "Epoch 00055: val_accuracy did not improve from 0.82696\n",
            "Epoch 56/150\n",
            " - 47s - loss: 0.5518 - accuracy: 0.7967 - val_loss: 0.5556 - val_accuracy: 0.8051\n",
            "\n",
            "Epoch 00056: val_accuracy did not improve from 0.82696\n",
            "Epoch 57/150\n",
            " - 47s - loss: 0.5285 - accuracy: 0.8154 - val_loss: 0.5083 - val_accuracy: 0.8197\n",
            "\n",
            "Epoch 00057: val_accuracy did not improve from 0.82696\n",
            "Epoch 58/150\n",
            " - 47s - loss: 0.5279 - accuracy: 0.8066 - val_loss: 0.5437 - val_accuracy: 0.8051\n",
            "\n",
            "Epoch 00058: val_accuracy did not improve from 0.82696\n",
            "Epoch 59/150\n",
            " - 47s - loss: 0.5379 - accuracy: 0.8048 - val_loss: 0.4331 - val_accuracy: 0.8488\n",
            "\n",
            "Epoch 00059: val_accuracy improved from 0.82696 to 0.84882, saving model to lenet5-model.h5\n",
            "Epoch 60/150\n",
            " - 47s - loss: 0.4862 - accuracy: 0.8217 - val_loss: 0.6166 - val_accuracy: 0.7923\n",
            "\n",
            "Epoch 00060: val_accuracy did not improve from 0.84882\n",
            "Epoch 61/150\n",
            " - 47s - loss: 0.5007 - accuracy: 0.8226 - val_loss: 0.4967 - val_accuracy: 0.8233\n",
            "\n",
            "Epoch 00061: val_accuracy did not improve from 0.84882\n",
            "Epoch 62/150\n",
            " - 47s - loss: 0.5154 - accuracy: 0.8133 - val_loss: 0.5020 - val_accuracy: 0.8342\n",
            "\n",
            "Epoch 00062: val_accuracy did not improve from 0.84882\n",
            "Epoch 63/150\n",
            " - 47s - loss: 0.5039 - accuracy: 0.8194 - val_loss: 0.5304 - val_accuracy: 0.8251\n",
            "\n",
            "Epoch 00063: val_accuracy did not improve from 0.84882\n",
            "Epoch 64/150\n",
            " - 47s - loss: 0.5110 - accuracy: 0.8165 - val_loss: 0.4399 - val_accuracy: 0.8415\n",
            "\n",
            "Epoch 00064: val_accuracy did not improve from 0.84882\n",
            "Epoch 65/150\n",
            " - 47s - loss: 0.4804 - accuracy: 0.8233 - val_loss: 0.4763 - val_accuracy: 0.8251\n",
            "\n",
            "Epoch 00065: val_accuracy did not improve from 0.84882\n",
            "Epoch 66/150\n",
            " - 47s - loss: 0.4522 - accuracy: 0.8260 - val_loss: 0.4578 - val_accuracy: 0.8324\n",
            "\n",
            "Epoch 00066: val_accuracy did not improve from 0.84882\n",
            "Epoch 67/150\n",
            " - 47s - loss: 0.4721 - accuracy: 0.8298 - val_loss: 0.4366 - val_accuracy: 0.8488\n",
            "\n",
            "Epoch 00067: val_accuracy did not improve from 0.84882\n",
            "Epoch 68/150\n",
            " - 47s - loss: 0.4725 - accuracy: 0.8280 - val_loss: 0.4610 - val_accuracy: 0.8215\n",
            "\n",
            "Epoch 00068: val_accuracy did not improve from 0.84882\n",
            "Epoch 69/150\n",
            " - 47s - loss: 0.4687 - accuracy: 0.8316 - val_loss: 0.4604 - val_accuracy: 0.8251\n",
            "\n",
            "Epoch 00069: val_accuracy did not improve from 0.84882\n",
            "Epoch 70/150\n",
            " - 47s - loss: 0.4812 - accuracy: 0.8275 - val_loss: 0.4854 - val_accuracy: 0.8434\n",
            "\n",
            "Epoch 00070: val_accuracy did not improve from 0.84882\n",
            "Epoch 71/150\n",
            " - 47s - loss: 0.4556 - accuracy: 0.8298 - val_loss: 0.4374 - val_accuracy: 0.8616\n",
            "\n",
            "Epoch 00071: val_accuracy improved from 0.84882 to 0.86157, saving model to lenet5-model.h5\n",
            "Epoch 72/150\n",
            " - 47s - loss: 0.4617 - accuracy: 0.8291 - val_loss: 0.7618 - val_accuracy: 0.7468\n",
            "\n",
            "Epoch 00072: val_accuracy did not improve from 0.86157\n",
            "Epoch 73/150\n",
            " - 47s - loss: 0.4551 - accuracy: 0.8336 - val_loss: 0.4871 - val_accuracy: 0.8361\n",
            "\n",
            "Epoch 00073: val_accuracy did not improve from 0.86157\n",
            "Epoch 74/150\n",
            " - 47s - loss: 0.4630 - accuracy: 0.8282 - val_loss: 0.5272 - val_accuracy: 0.8142\n",
            "\n",
            "Epoch 00074: val_accuracy did not improve from 0.86157\n",
            "Epoch 75/150\n",
            " - 47s - loss: 0.4547 - accuracy: 0.8359 - val_loss: 0.4382 - val_accuracy: 0.8561\n",
            " - 47s - loss: 0.4547 - accuracy: 0.8359 - val_loss: 0.4382 - val_accuracy: 0.8561\n",
            "\n",
            "Epoch 00075: val_accuracy did not improve from 0.86157\n",
            "Epoch 76/150\n",
            "\n",
            "Epoch 00075: val_accuracy did not improve from 0.86157\n",
            "Epoch 76/150\n",
            " - 47s - loss: 0.4576 - accuracy: 0.8370 - val_loss: 0.5174 - val_accuracy: 0.8233\n",
            " - 47s - loss: 0.4576 - accuracy: 0.8370 - val_loss: 0.5174 - val_accuracy: 0.8233\n",
            "\n",
            "Epoch 00076: val_accuracy did not improve from 0.86157\n",
            "Epoch 77/150\n",
            "\n",
            "Epoch 00076: val_accuracy did not improve from 0.86157\n",
            "Epoch 77/150\n",
            " - 47s - loss: 0.4450 - accuracy: 0.8330 - val_loss: 0.4857 - val_accuracy: 0.8233\n",
            " - 47s - loss: 0.4450 - accuracy: 0.8330 - val_loss: 0.4857 - val_accuracy: 0.8233\n",
            "\n",
            "Epoch 00077: val_accuracy did not improve from 0.86157\n",
            "Epoch 78/150\n",
            "\n",
            "Epoch 00077: val_accuracy did not improve from 0.86157\n",
            "Epoch 78/150\n",
            " - 47s - loss: 0.4363 - accuracy: 0.8399 - val_loss: 0.4341 - val_accuracy: 0.8506\n",
            " - 47s - loss: 0.4363 - accuracy: 0.8399 - val_loss: 0.4341 - val_accuracy: 0.8506\n",
            "\n",
            "Epoch 00078: val_accuracy did not improve from 0.86157\n",
            "Epoch 79/150\n",
            "\n",
            "Epoch 00078: val_accuracy did not improve from 0.86157\n",
            "Epoch 79/150\n",
            " - 47s - loss: 0.4358 - accuracy: 0.8417 - val_loss: 0.4125 - val_accuracy: 0.8470\n",
            " - 47s - loss: 0.4358 - accuracy: 0.8417 - val_loss: 0.4125 - val_accuracy: 0.8470\n",
            "\n",
            "Epoch 00079: val_accuracy did not improve from 0.86157\n",
            "Epoch 80/150\n",
            "\n",
            "Epoch 00079: val_accuracy did not improve from 0.86157\n",
            "Epoch 80/150\n",
            " - 47s - loss: 0.4385 - accuracy: 0.8406 - val_loss: 0.4013 - val_accuracy: 0.8488\n",
            " - 47s - loss: 0.4385 - accuracy: 0.8406 - val_loss: 0.4013 - val_accuracy: 0.8488\n",
            "\n",
            "Epoch 00080: val_accuracy did not improve from 0.86157\n",
            "Epoch 81/150\n",
            "\n",
            "Epoch 00080: val_accuracy did not improve from 0.86157\n",
            "Epoch 81/150\n",
            " - 47s - loss: 0.4263 - accuracy: 0.8397 - val_loss: 0.6480 - val_accuracy: 0.7741\n",
            " - 47s - loss: 0.4263 - accuracy: 0.8397 - val_loss: 0.6480 - val_accuracy: 0.7741\n",
            "\n",
            "Epoch 00081: val_accuracy did not improve from 0.86157\n",
            "Epoch 82/150\n",
            "\n",
            "Epoch 00081: val_accuracy did not improve from 0.86157\n",
            "Epoch 82/150\n",
            " - 47s - loss: 0.4187 - accuracy: 0.8460 - val_loss: 0.4515 - val_accuracy: 0.8397\n",
            " - 47s - loss: 0.4187 - accuracy: 0.8460 - val_loss: 0.4515 - val_accuracy: 0.8397\n",
            "\n",
            "Epoch 00082: val_accuracy did not improve from 0.86157\n",
            "Epoch 83/150\n",
            "\n",
            "Epoch 00082: val_accuracy did not improve from 0.86157\n",
            "Epoch 83/150\n",
            " - 47s - loss: 0.4390 - accuracy: 0.8397 - val_loss: 0.3895 - val_accuracy: 0.8506\n",
            " - 47s - loss: 0.4390 - accuracy: 0.8397 - val_loss: 0.3895 - val_accuracy: 0.8506\n",
            "\n",
            "Epoch 00083: val_accuracy did not improve from 0.86157\n",
            "Epoch 84/150\n",
            "\n",
            "Epoch 00083: val_accuracy did not improve from 0.86157\n",
            "Epoch 84/150\n",
            " - 47s - loss: 0.4376 - accuracy: 0.8379 - val_loss: 0.4620 - val_accuracy: 0.8543\n",
            " - 47s - loss: 0.4376 - accuracy: 0.8379 - val_loss: 0.4620 - val_accuracy: 0.8543\n",
            "\n",
            "Epoch 00084: val_accuracy did not improve from 0.86157\n",
            "Epoch 85/150\n",
            "\n",
            "Epoch 00084: val_accuracy did not improve from 0.86157\n",
            "Epoch 85/150\n",
            " - 48s - loss: 0.4202 - accuracy: 0.8490 - val_loss: 0.6205 - val_accuracy: 0.7832\n",
            " - 48s - loss: 0.4202 - accuracy: 0.8490 - val_loss: 0.6205 - val_accuracy: 0.7832\n",
            "\n",
            "Epoch 00085: val_accuracy did not improve from 0.86157\n",
            "Epoch 86/150\n",
            "\n",
            "Epoch 00085: val_accuracy did not improve from 0.86157\n",
            "Epoch 86/150\n",
            " - 47s - loss: 0.4466 - accuracy: 0.8399 - val_loss: 0.4371 - val_accuracy: 0.8470\n",
            " - 47s - loss: 0.4466 - accuracy: 0.8399 - val_loss: 0.4371 - val_accuracy: 0.8470\n",
            "\n",
            "Epoch 00086: val_accuracy did not improve from 0.86157\n",
            "Epoch 87/150\n",
            "\n",
            "Epoch 00086: val_accuracy did not improve from 0.86157\n",
            "Epoch 87/150\n",
            " - 47s - loss: 0.4296 - accuracy: 0.8447 - val_loss: 0.4297 - val_accuracy: 0.8452\n",
            " - 47s - loss: 0.4296 - accuracy: 0.8447 - val_loss: 0.4297 - val_accuracy: 0.8452\n",
            "\n",
            "Epoch 00087: val_accuracy did not improve from 0.86157\n",
            "Epoch 88/150\n",
            "\n",
            "Epoch 00087: val_accuracy did not improve from 0.86157\n",
            "Epoch 88/150\n",
            " - 47s - loss: 0.4096 - accuracy: 0.8496 - val_loss: 0.4104 - val_accuracy: 0.8506\n",
            " - 47s - loss: 0.4096 - accuracy: 0.8496 - val_loss: 0.4104 - val_accuracy: 0.8506\n",
            "\n",
            "Epoch 00088: val_accuracy did not improve from 0.86157\n",
            "Epoch 89/150\n",
            "\n",
            "Epoch 00088: val_accuracy did not improve from 0.86157\n",
            "Epoch 89/150\n",
            " - 47s - loss: 0.4061 - accuracy: 0.8514 - val_loss: 0.4040 - val_accuracy: 0.8561\n",
            " - 47s - loss: 0.4061 - accuracy: 0.8514 - val_loss: 0.4040 - val_accuracy: 0.8561\n",
            "\n",
            "Epoch 00089: val_accuracy did not improve from 0.86157\n",
            "Epoch 90/150\n",
            "\n",
            "Epoch 00089: val_accuracy did not improve from 0.86157\n",
            "Epoch 90/150\n",
            " - 47s - loss: 0.4294 - accuracy: 0.8456 - val_loss: 0.5047 - val_accuracy: 0.8179\n",
            " - 47s - loss: 0.4294 - accuracy: 0.8456 - val_loss: 0.5047 - val_accuracy: 0.8179\n",
            "\n",
            "Epoch 00090: val_accuracy did not improve from 0.86157\n",
            "Epoch 91/150\n",
            "\n",
            "Epoch 00090: val_accuracy did not improve from 0.86157\n",
            "Epoch 91/150\n",
            " - 47s - loss: 0.4438 - accuracy: 0.8390 - val_loss: 0.4489 - val_accuracy: 0.8543\n",
            " - 47s - loss: 0.4438 - accuracy: 0.8390 - val_loss: 0.4489 - val_accuracy: 0.8543\n",
            "\n",
            "Epoch 00091: val_accuracy did not improve from 0.86157\n",
            "Epoch 92/150\n",
            "\n",
            "Epoch 00091: val_accuracy did not improve from 0.86157\n",
            "Epoch 92/150\n",
            " - 46s - loss: 0.3905 - accuracy: 0.8578 - val_loss: 0.4938 - val_accuracy: 0.8197\n",
            " - 46s - loss: 0.3905 - accuracy: 0.8578 - val_loss: 0.4938 - val_accuracy: 0.8197\n",
            "\n",
            "Epoch 00092: val_accuracy did not improve from 0.86157\n",
            "Epoch 93/150\n",
            "\n",
            "Epoch 00092: val_accuracy did not improve from 0.86157\n",
            "Epoch 93/150\n",
            " - 47s - loss: 0.4208 - accuracy: 0.8460 - val_loss: 0.5284 - val_accuracy: 0.8215\n",
            " - 47s - loss: 0.4208 - accuracy: 0.8460 - val_loss: 0.5284 - val_accuracy: 0.8215\n",
            "\n",
            "Epoch 00093: val_accuracy did not improve from 0.86157\n",
            "Epoch 94/150\n",
            "\n",
            "Epoch 00093: val_accuracy did not improve from 0.86157\n",
            "Epoch 94/150\n",
            " - 47s - loss: 0.3933 - accuracy: 0.8519 - val_loss: 0.3805 - val_accuracy: 0.8670\n",
            " - 47s - loss: 0.3933 - accuracy: 0.8519 - val_loss: 0.3805 - val_accuracy: 0.8670\n",
            "\n",
            "Epoch 00094: val_accuracy improved from 0.86157 to 0.86703, saving model to lenet5-model.h5\n",
            "Epoch 95/150\n",
            "\n",
            "Epoch 00094: val_accuracy improved from 0.86157 to 0.86703, saving model to lenet5-model.h5\n",
            "Epoch 95/150\n",
            " - 47s - loss: 0.4087 - accuracy: 0.8474 - val_loss: 0.4190 - val_accuracy: 0.8579\n",
            " - 47s - loss: 0.4087 - accuracy: 0.8474 - val_loss: 0.4190 - val_accuracy: 0.8579\n",
            "\n",
            "Epoch 00095: val_accuracy did not improve from 0.86703\n",
            "Epoch 96/150\n",
            "\n",
            "Epoch 00095: val_accuracy did not improve from 0.86703\n",
            "Epoch 96/150\n",
            " - 46s - loss: 0.4045 - accuracy: 0.8503 - val_loss: 0.5065 - val_accuracy: 0.8379\n",
            " - 46s - loss: 0.4045 - accuracy: 0.8503 - val_loss: 0.5065 - val_accuracy: 0.8379\n",
            "\n",
            "Epoch 00096: val_accuracy did not improve from 0.86703\n",
            "Epoch 97/150\n",
            "\n",
            "Epoch 00096: val_accuracy did not improve from 0.86703\n",
            "Epoch 97/150\n",
            " - 46s - loss: 0.3688 - accuracy: 0.8620 - val_loss: 0.3944 - val_accuracy: 0.8579\n",
            " - 46s - loss: 0.3688 - accuracy: 0.8620 - val_loss: 0.3944 - val_accuracy: 0.8579\n",
            "\n",
            "Epoch 00097: val_accuracy did not improve from 0.86703\n",
            "Epoch 98/150\n",
            "\n",
            "Epoch 00097: val_accuracy did not improve from 0.86703\n",
            "Epoch 98/150\n",
            " - 47s - loss: 0.4043 - accuracy: 0.8526 - val_loss: 0.4360 - val_accuracy: 0.8470\n",
            " - 47s - loss: 0.4043 - accuracy: 0.8526 - val_loss: 0.4360 - val_accuracy: 0.8470\n",
            "\n",
            "Epoch 00098: val_accuracy did not improve from 0.86703\n",
            "Epoch 99/150\n",
            "\n",
            "Epoch 00098: val_accuracy did not improve from 0.86703\n",
            "Epoch 99/150\n",
            " - 47s - loss: 0.3887 - accuracy: 0.8593 - val_loss: 0.4211 - val_accuracy: 0.8506\n",
            " - 47s - loss: 0.3887 - accuracy: 0.8593 - val_loss: 0.4211 - val_accuracy: 0.8506\n",
            "\n",
            "Epoch 00099: val_accuracy did not improve from 0.86703\n",
            "Epoch 100/150\n",
            "\n",
            "Epoch 00099: val_accuracy did not improve from 0.86703\n",
            "Epoch 100/150\n",
            " - 47s - loss: 0.3990 - accuracy: 0.8510 - val_loss: 0.4033 - val_accuracy: 0.8488\n",
            " - 47s - loss: 0.3990 - accuracy: 0.8510 - val_loss: 0.4033 - val_accuracy: 0.8488\n",
            "\n",
            "Epoch 00100: val_accuracy did not improve from 0.86703\n",
            "Epoch 101/150\n",
            "\n",
            "Epoch 00100: val_accuracy did not improve from 0.86703\n",
            "Epoch 101/150\n",
            " - 47s - loss: 0.3791 - accuracy: 0.8620 - val_loss: 0.3609 - val_accuracy: 0.8725\n",
            " - 47s - loss: 0.3791 - accuracy: 0.8620 - val_loss: 0.3609 - val_accuracy: 0.8725\n",
            "\n",
            "Epoch 00101: val_accuracy improved from 0.86703 to 0.87250, saving model to lenet5-model.h5\n",
            "Epoch 102/150\n",
            "\n",
            "Epoch 00101: val_accuracy improved from 0.86703 to 0.87250, saving model to lenet5-model.h5\n",
            "Epoch 102/150\n",
            " - 47s - loss: 0.3990 - accuracy: 0.8492 - val_loss: 0.4012 - val_accuracy: 0.8725\n",
            " - 47s - loss: 0.3990 - accuracy: 0.8492 - val_loss: 0.4012 - val_accuracy: 0.8725\n",
            "\n",
            "Epoch 00102: val_accuracy did not improve from 0.87250\n",
            "Epoch 103/150\n",
            "\n",
            "Epoch 00102: val_accuracy did not improve from 0.87250\n",
            "Epoch 103/150\n",
            " - 47s - loss: 0.3979 - accuracy: 0.8580 - val_loss: 0.3446 - val_accuracy: 0.8871\n",
            " - 47s - loss: 0.3979 - accuracy: 0.8580 - val_loss: 0.3446 - val_accuracy: 0.8871\n",
            "\n",
            "Epoch 00103: val_accuracy improved from 0.87250 to 0.88707, saving model to lenet5-model.h5\n",
            "Epoch 104/150\n",
            "\n",
            "Epoch 00103: val_accuracy improved from 0.87250 to 0.88707, saving model to lenet5-model.h5\n",
            "Epoch 104/150\n",
            " - 47s - loss: 0.4055 - accuracy: 0.8510 - val_loss: 0.3460 - val_accuracy: 0.8798\n",
            " - 47s - loss: 0.4055 - accuracy: 0.8510 - val_loss: 0.3460 - val_accuracy: 0.8798\n",
            "\n",
            "Epoch 00104: val_accuracy did not improve from 0.88707\n",
            "Epoch 105/150\n",
            "\n",
            "Epoch 00104: val_accuracy did not improve from 0.88707\n",
            "Epoch 105/150\n",
            " - 47s - loss: 0.3616 - accuracy: 0.8674 - val_loss: 0.3595 - val_accuracy: 0.8707\n",
            " - 47s - loss: 0.3616 - accuracy: 0.8674 - val_loss: 0.3595 - val_accuracy: 0.8707\n",
            "\n",
            "Epoch 00105: val_accuracy did not improve from 0.88707\n",
            "Epoch 106/150\n",
            "\n",
            "Epoch 00105: val_accuracy did not improve from 0.88707\n",
            "Epoch 106/150\n",
            " - 47s - loss: 0.3824 - accuracy: 0.8638 - val_loss: 0.3542 - val_accuracy: 0.8707\n",
            " - 47s - loss: 0.3824 - accuracy: 0.8638 - val_loss: 0.3542 - val_accuracy: 0.8707\n",
            "\n",
            "Epoch 00106: val_accuracy did not improve from 0.88707\n",
            "Epoch 107/150\n",
            "\n",
            "Epoch 00106: val_accuracy did not improve from 0.88707\n",
            "Epoch 107/150\n",
            " - 47s - loss: 0.3770 - accuracy: 0.8584 - val_loss: 0.4388 - val_accuracy: 0.8616\n",
            " - 47s - loss: 0.3770 - accuracy: 0.8584 - val_loss: 0.4388 - val_accuracy: 0.8616\n",
            "\n",
            "Epoch 00107: val_accuracy did not improve from 0.88707\n",
            "Epoch 108/150\n",
            "\n",
            "Epoch 00107: val_accuracy did not improve from 0.88707\n",
            "Epoch 108/150\n",
            " - 47s - loss: 0.3911 - accuracy: 0.8508 - val_loss: 0.3574 - val_accuracy: 0.8689\n",
            " - 47s - loss: 0.3911 - accuracy: 0.8508 - val_loss: 0.3574 - val_accuracy: 0.8689\n",
            "\n",
            "Epoch 00108: val_accuracy did not improve from 0.88707\n",
            "Epoch 109/150\n",
            "\n",
            "Epoch 00108: val_accuracy did not improve from 0.88707\n",
            "Epoch 109/150\n",
            " - 47s - loss: 0.3832 - accuracy: 0.8609 - val_loss: 0.3762 - val_accuracy: 0.8743\n",
            " - 47s - loss: 0.3832 - accuracy: 0.8609 - val_loss: 0.3762 - val_accuracy: 0.8743\n",
            "\n",
            "Epoch 00109: val_accuracy did not improve from 0.88707\n",
            "Epoch 110/150\n",
            "\n",
            "Epoch 00109: val_accuracy did not improve from 0.88707\n",
            "Epoch 110/150\n",
            " - 47s - loss: 0.3689 - accuracy: 0.8659 - val_loss: 0.3865 - val_accuracy: 0.8597\n",
            " - 47s - loss: 0.3689 - accuracy: 0.8659 - val_loss: 0.3865 - val_accuracy: 0.8597\n",
            "\n",
            "Epoch 00110: val_accuracy did not improve from 0.88707\n",
            "Epoch 111/150\n",
            "\n",
            "Epoch 00110: val_accuracy did not improve from 0.88707\n",
            "Epoch 111/150\n",
            " - 47s - loss: 0.3739 - accuracy: 0.8584 - val_loss: 0.3472 - val_accuracy: 0.8852\n",
            " - 47s - loss: 0.3739 - accuracy: 0.8584 - val_loss: 0.3472 - val_accuracy: 0.8852\n",
            "\n",
            "Epoch 00111: val_accuracy did not improve from 0.88707\n",
            "Epoch 112/150\n",
            "\n",
            "Epoch 00111: val_accuracy did not improve from 0.88707\n",
            "Epoch 112/150\n",
            " - 47s - loss: 0.3788 - accuracy: 0.8589 - val_loss: 0.3872 - val_accuracy: 0.8616\n",
            " - 47s - loss: 0.3788 - accuracy: 0.8589 - val_loss: 0.3872 - val_accuracy: 0.8616\n",
            "\n",
            "Epoch 00112: val_accuracy did not improve from 0.88707\n",
            "Epoch 113/150\n",
            "\n",
            "Epoch 00112: val_accuracy did not improve from 0.88707\n",
            "Epoch 113/150\n",
            " - 47s - loss: 0.3934 - accuracy: 0.8605 - val_loss: 0.3994 - val_accuracy: 0.8616\n",
            " - 47s - loss: 0.3934 - accuracy: 0.8605 - val_loss: 0.3994 - val_accuracy: 0.8616\n",
            "\n",
            "Epoch 00113: val_accuracy did not improve from 0.88707\n",
            "Epoch 114/150\n",
            "\n",
            "Epoch 00113: val_accuracy did not improve from 0.88707\n",
            "Epoch 114/150\n",
            " - 47s - loss: 0.3747 - accuracy: 0.8634 - val_loss: 0.3509 - val_accuracy: 0.8652\n",
            " - 47s - loss: 0.3747 - accuracy: 0.8634 - val_loss: 0.3509 - val_accuracy: 0.8652\n",
            "\n",
            "Epoch 00114: val_accuracy did not improve from 0.88707\n",
            "Epoch 115/150\n",
            "\n",
            "Epoch 00114: val_accuracy did not improve from 0.88707\n",
            "Epoch 115/150\n",
            " - 47s - loss: 0.3672 - accuracy: 0.8720 - val_loss: 0.3463 - val_accuracy: 0.8689\n",
            " - 47s - loss: 0.3672 - accuracy: 0.8720 - val_loss: 0.3463 - val_accuracy: 0.8689\n",
            "\n",
            "Epoch 00115: val_accuracy did not improve from 0.88707\n",
            "Epoch 116/150\n",
            "\n",
            "Epoch 00115: val_accuracy did not improve from 0.88707\n",
            "Epoch 116/150\n",
            " - 47s - loss: 0.3661 - accuracy: 0.8645 - val_loss: 0.3922 - val_accuracy: 0.8525\n",
            " - 47s - loss: 0.3661 - accuracy: 0.8645 - val_loss: 0.3922 - val_accuracy: 0.8525\n",
            "\n",
            "Epoch 00116: val_accuracy did not improve from 0.88707\n",
            "Epoch 117/150\n",
            "\n",
            "Epoch 00116: val_accuracy did not improve from 0.88707\n",
            "Epoch 117/150\n",
            " - 47s - loss: 0.3396 - accuracy: 0.8765 - val_loss: 0.3629 - val_accuracy: 0.8670\n",
            " - 47s - loss: 0.3396 - accuracy: 0.8765 - val_loss: 0.3629 - val_accuracy: 0.8670\n",
            "\n",
            "Epoch 00117: val_accuracy did not improve from 0.88707\n",
            "Epoch 118/150\n",
            "\n",
            "Epoch 00117: val_accuracy did not improve from 0.88707\n",
            "Epoch 118/150\n",
            " - 46s - loss: 0.4048 - accuracy: 0.8535 - val_loss: 0.3953 - val_accuracy: 0.8579\n",
            " - 46s - loss: 0.4048 - accuracy: 0.8535 - val_loss: 0.3953 - val_accuracy: 0.8579\n",
            "\n",
            "Epoch 00118: val_accuracy did not improve from 0.88707\n",
            "Epoch 119/150\n",
            "\n",
            "Epoch 00118: val_accuracy did not improve from 0.88707\n",
            "Epoch 119/150\n",
            " - 46s - loss: 0.3465 - accuracy: 0.8765 - val_loss: 0.3588 - val_accuracy: 0.8725\n",
            " - 46s - loss: 0.3465 - accuracy: 0.8765 - val_loss: 0.3588 - val_accuracy: 0.8725\n",
            "\n",
            "Epoch 00119: val_accuracy did not improve from 0.88707\n",
            "Epoch 120/150\n",
            "\n",
            "Epoch 00119: val_accuracy did not improve from 0.88707\n",
            "Epoch 120/150\n",
            " - 46s - loss: 0.3708 - accuracy: 0.8661 - val_loss: 0.3633 - val_accuracy: 0.8743\n",
            " - 46s - loss: 0.3708 - accuracy: 0.8661 - val_loss: 0.3633 - val_accuracy: 0.8743\n",
            "\n",
            "Epoch 00120: val_accuracy did not improve from 0.88707\n",
            "Epoch 121/150\n",
            "\n",
            "Epoch 00120: val_accuracy did not improve from 0.88707\n",
            "Epoch 121/150\n",
            " - 46s - loss: 0.3623 - accuracy: 0.8627 - val_loss: 0.4514 - val_accuracy: 0.8361\n",
            " - 46s - loss: 0.3623 - accuracy: 0.8627 - val_loss: 0.4514 - val_accuracy: 0.8361\n",
            "\n",
            "Epoch 00121: val_accuracy did not improve from 0.88707\n",
            "Epoch 122/150\n",
            "\n",
            "Epoch 00121: val_accuracy did not improve from 0.88707\n",
            "Epoch 122/150\n",
            " - 46s - loss: 0.3553 - accuracy: 0.8634 - val_loss: 0.3882 - val_accuracy: 0.8616\n",
            " - 46s - loss: 0.3553 - accuracy: 0.8634 - val_loss: 0.3882 - val_accuracy: 0.8616\n",
            "\n",
            "Epoch 00122: val_accuracy did not improve from 0.88707\n",
            "Epoch 123/150\n",
            "\n",
            "Epoch 00122: val_accuracy did not improve from 0.88707\n",
            "Epoch 123/150\n",
            " - 46s - loss: 0.3663 - accuracy: 0.8663 - val_loss: 0.5104 - val_accuracy: 0.8270\n",
            " - 46s - loss: 0.3663 - accuracy: 0.8663 - val_loss: 0.5104 - val_accuracy: 0.8270\n",
            "\n",
            "Epoch 00123: val_accuracy did not improve from 0.88707\n",
            "Epoch 124/150\n",
            "\n",
            "Epoch 00123: val_accuracy did not improve from 0.88707\n",
            "Epoch 124/150\n",
            " - 46s - loss: 0.3483 - accuracy: 0.8713 - val_loss: 0.3893 - val_accuracy: 0.8670\n",
            " - 46s - loss: 0.3483 - accuracy: 0.8713 - val_loss: 0.3893 - val_accuracy: 0.8670\n",
            "\n",
            "Epoch 00124: val_accuracy did not improve from 0.88707\n",
            "Epoch 125/150\n",
            "\n",
            "Epoch 00124: val_accuracy did not improve from 0.88707\n",
            "Epoch 125/150\n",
            " - 46s - loss: 0.3461 - accuracy: 0.8749 - val_loss: 0.3610 - val_accuracy: 0.8725\n",
            " - 46s - loss: 0.3461 - accuracy: 0.8749 - val_loss: 0.3610 - val_accuracy: 0.8725\n",
            "\n",
            "Epoch 00125: val_accuracy did not improve from 0.88707\n",
            "Epoch 126/150\n",
            "\n",
            "Epoch 00125: val_accuracy did not improve from 0.88707\n",
            "Epoch 126/150\n",
            " - 46s - loss: 0.3438 - accuracy: 0.8693 - val_loss: 0.3556 - val_accuracy: 0.8871\n",
            " - 46s - loss: 0.3438 - accuracy: 0.8693 - val_loss: 0.3556 - val_accuracy: 0.8871\n",
            "\n",
            "Epoch 00126: val_accuracy did not improve from 0.88707\n",
            "Epoch 127/150\n",
            "\n",
            "Epoch 00126: val_accuracy did not improve from 0.88707\n",
            "Epoch 127/150\n",
            " - 46s - loss: 0.3666 - accuracy: 0.8609 - val_loss: 0.3742 - val_accuracy: 0.8852\n",
            " - 46s - loss: 0.3666 - accuracy: 0.8609 - val_loss: 0.3742 - val_accuracy: 0.8852\n",
            "\n",
            "Epoch 00127: val_accuracy did not improve from 0.88707\n",
            "Epoch 128/150\n",
            "\n",
            "Epoch 00127: val_accuracy did not improve from 0.88707\n",
            "Epoch 128/150\n",
            " - 46s - loss: 0.3460 - accuracy: 0.8697 - val_loss: 0.3905 - val_accuracy: 0.8707\n",
            " - 46s - loss: 0.3460 - accuracy: 0.8697 - val_loss: 0.3905 - val_accuracy: 0.8707\n",
            "\n",
            "Epoch 00128: val_accuracy did not improve from 0.88707\n",
            "Epoch 129/150\n",
            "\n",
            "Epoch 00128: val_accuracy did not improve from 0.88707\n",
            "Epoch 129/150\n",
            " - 46s - loss: 0.3494 - accuracy: 0.8731 - val_loss: 0.3723 - val_accuracy: 0.8707\n",
            " - 46s - loss: 0.3494 - accuracy: 0.8731 - val_loss: 0.3723 - val_accuracy: 0.8707\n",
            "\n",
            "Epoch 00129: val_accuracy did not improve from 0.88707\n",
            "Epoch 130/150\n",
            "\n",
            "Epoch 00129: val_accuracy did not improve from 0.88707\n",
            "Epoch 130/150\n",
            " - 46s - loss: 0.3315 - accuracy: 0.8720 - val_loss: 0.4217 - val_accuracy: 0.8561\n",
            " - 46s - loss: 0.3315 - accuracy: 0.8720 - val_loss: 0.4217 - val_accuracy: 0.8561\n",
            "\n",
            "Epoch 00130: val_accuracy did not improve from 0.88707\n",
            "Epoch 131/150\n",
            "\n",
            "Epoch 00130: val_accuracy did not improve from 0.88707\n",
            "Epoch 131/150\n",
            " - 46s - loss: 0.3652 - accuracy: 0.8665 - val_loss: 0.3569 - val_accuracy: 0.8780\n",
            " - 46s - loss: 0.3652 - accuracy: 0.8665 - val_loss: 0.3569 - val_accuracy: 0.8780\n",
            "\n",
            "Epoch 00131: val_accuracy did not improve from 0.88707\n",
            "Epoch 132/150\n",
            "\n",
            "Epoch 00131: val_accuracy did not improve from 0.88707\n",
            "Epoch 132/150\n",
            " - 46s - loss: 0.3429 - accuracy: 0.8729 - val_loss: 0.3841 - val_accuracy: 0.8652\n",
            " - 46s - loss: 0.3429 - accuracy: 0.8729 - val_loss: 0.3841 - val_accuracy: 0.8652\n",
            "\n",
            "Epoch 00132: val_accuracy did not improve from 0.88707\n",
            "Epoch 133/150\n",
            "\n",
            "Epoch 00132: val_accuracy did not improve from 0.88707\n",
            "Epoch 133/150\n",
            " - 46s - loss: 0.3311 - accuracy: 0.8783 - val_loss: 0.3881 - val_accuracy: 0.8561\n",
            " - 46s - loss: 0.3311 - accuracy: 0.8783 - val_loss: 0.3881 - val_accuracy: 0.8561\n",
            "\n",
            "Epoch 00133: val_accuracy did not improve from 0.88707\n",
            "Epoch 134/150\n",
            "\n",
            "Epoch 00133: val_accuracy did not improve from 0.88707\n",
            "Epoch 134/150\n",
            " - 46s - loss: 0.3277 - accuracy: 0.8744 - val_loss: 0.4024 - val_accuracy: 0.8944\n",
            " - 46s - loss: 0.3277 - accuracy: 0.8744 - val_loss: 0.4024 - val_accuracy: 0.8944\n",
            "\n",
            "Epoch 00134: val_accuracy improved from 0.88707 to 0.89435, saving model to lenet5-model.h5\n",
            "Epoch 135/150\n",
            "\n",
            "Epoch 00134: val_accuracy improved from 0.88707 to 0.89435, saving model to lenet5-model.h5\n",
            "Epoch 135/150\n",
            " - 46s - loss: 0.3439 - accuracy: 0.8672 - val_loss: 0.3227 - val_accuracy: 0.8871\n",
            " - 46s - loss: 0.3439 - accuracy: 0.8672 - val_loss: 0.3227 - val_accuracy: 0.8871\n",
            "\n",
            "Epoch 00135: val_accuracy did not improve from 0.89435\n",
            "Epoch 136/150\n",
            "\n",
            "Epoch 00135: val_accuracy did not improve from 0.89435\n",
            "Epoch 136/150\n",
            " - 46s - loss: 0.3455 - accuracy: 0.8733 - val_loss: 0.4402 - val_accuracy: 0.8616\n",
            " - 46s - loss: 0.3455 - accuracy: 0.8733 - val_loss: 0.4402 - val_accuracy: 0.8616\n",
            "\n",
            "Epoch 00136: val_accuracy did not improve from 0.89435\n",
            "Epoch 137/150\n",
            "\n",
            "Epoch 00136: val_accuracy did not improve from 0.89435\n",
            "Epoch 137/150\n",
            " - 46s - loss: 0.3307 - accuracy: 0.8830 - val_loss: 0.3447 - val_accuracy: 0.8816\n",
            " - 46s - loss: 0.3307 - accuracy: 0.8830 - val_loss: 0.3447 - val_accuracy: 0.8816\n",
            "\n",
            "Epoch 00137: val_accuracy did not improve from 0.89435\n",
            "Epoch 138/150\n",
            "\n",
            "Epoch 00137: val_accuracy did not improve from 0.89435\n",
            "Epoch 138/150\n",
            " - 46s - loss: 0.3429 - accuracy: 0.8702 - val_loss: 0.3819 - val_accuracy: 0.8743\n",
            " - 46s - loss: 0.3429 - accuracy: 0.8702 - val_loss: 0.3819 - val_accuracy: 0.8743\n",
            "\n",
            "Epoch 00138: val_accuracy did not improve from 0.89435\n",
            "Epoch 139/150\n",
            "\n",
            "Epoch 00138: val_accuracy did not improve from 0.89435\n",
            "Epoch 139/150\n",
            " - 46s - loss: 0.3495 - accuracy: 0.8699 - val_loss: 0.3657 - val_accuracy: 0.8725\n",
            " - 46s - loss: 0.3495 - accuracy: 0.8699 - val_loss: 0.3657 - val_accuracy: 0.8725\n",
            "\n",
            "Epoch 00139: val_accuracy did not improve from 0.89435\n",
            "Epoch 140/150\n",
            "\n",
            "Epoch 00139: val_accuracy did not improve from 0.89435\n",
            "Epoch 140/150\n",
            " - 46s - loss: 0.3313 - accuracy: 0.8780 - val_loss: 0.3875 - val_accuracy: 0.8707\n",
            " - 46s - loss: 0.3313 - accuracy: 0.8780 - val_loss: 0.3875 - val_accuracy: 0.8707\n",
            "\n",
            "Epoch 00140: val_accuracy did not improve from 0.89435\n",
            "Epoch 141/150\n",
            "\n",
            "Epoch 00140: val_accuracy did not improve from 0.89435\n",
            "Epoch 141/150\n",
            " - 46s - loss: 0.3308 - accuracy: 0.8789 - val_loss: 0.3908 - val_accuracy: 0.8634\n",
            " - 46s - loss: 0.3308 - accuracy: 0.8789 - val_loss: 0.3908 - val_accuracy: 0.8634\n",
            "\n",
            "Epoch 00141: val_accuracy did not improve from 0.89435\n",
            "Epoch 142/150\n",
            "\n",
            "Epoch 00141: val_accuracy did not improve from 0.89435\n",
            "Epoch 142/150\n",
            " - 46s - loss: 0.3303 - accuracy: 0.8713 - val_loss: 0.3444 - val_accuracy: 0.8780\n",
            " - 46s - loss: 0.3303 - accuracy: 0.8713 - val_loss: 0.3444 - val_accuracy: 0.8780\n",
            "\n",
            "Epoch 00142: val_accuracy did not improve from 0.89435\n",
            "Epoch 143/150\n",
            "\n",
            "Epoch 00142: val_accuracy did not improve from 0.89435\n",
            "Epoch 143/150\n",
            " - 46s - loss: 0.3267 - accuracy: 0.8830 - val_loss: 0.4185 - val_accuracy: 0.8543\n",
            " - 46s - loss: 0.3267 - accuracy: 0.8830 - val_loss: 0.4185 - val_accuracy: 0.8543\n",
            "\n",
            "Epoch 00143: val_accuracy did not improve from 0.89435\n",
            "Epoch 144/150\n",
            "\n",
            "Epoch 00143: val_accuracy did not improve from 0.89435\n",
            "Epoch 144/150\n",
            " - 46s - loss: 0.3275 - accuracy: 0.8830 - val_loss: 0.4024 - val_accuracy: 0.8597\n",
            " - 46s - loss: 0.3275 - accuracy: 0.8830 - val_loss: 0.4024 - val_accuracy: 0.8597\n",
            "\n",
            "Epoch 00144: val_accuracy did not improve from 0.89435\n",
            "Epoch 145/150\n",
            "\n",
            "Epoch 00144: val_accuracy did not improve from 0.89435\n",
            "Epoch 145/150\n",
            " - 46s - loss: 0.3214 - accuracy: 0.8819 - val_loss: 0.3383 - val_accuracy: 0.8944\n",
            " - 46s - loss: 0.3214 - accuracy: 0.8819 - val_loss: 0.3383 - val_accuracy: 0.8944\n",
            "\n",
            "Epoch 00145: val_accuracy did not improve from 0.89435\n",
            "Epoch 146/150\n",
            "\n",
            "Epoch 00145: val_accuracy did not improve from 0.89435\n",
            "Epoch 146/150\n",
            " - 46s - loss: 0.3026 - accuracy: 0.8853 - val_loss: 0.4388 - val_accuracy: 0.8525\n",
            " - 46s - loss: 0.3026 - accuracy: 0.8853 - val_loss: 0.4388 - val_accuracy: 0.8525\n",
            "\n",
            "Epoch 00146: val_accuracy did not improve from 0.89435\n",
            "Epoch 147/150\n",
            "\n",
            "Epoch 00146: val_accuracy did not improve from 0.89435\n",
            "Epoch 147/150\n",
            " - 46s - loss: 0.3255 - accuracy: 0.8756 - val_loss: 0.3582 - val_accuracy: 0.8689\n",
            " - 46s - loss: 0.3255 - accuracy: 0.8756 - val_loss: 0.3582 - val_accuracy: 0.8689\n",
            "\n",
            "Epoch 00147: val_accuracy did not improve from 0.89435\n",
            "Epoch 148/150\n",
            "\n",
            "Epoch 00147: val_accuracy did not improve from 0.89435\n",
            "Epoch 148/150\n",
            " - 46s - loss: 0.3242 - accuracy: 0.8817 - val_loss: 0.3629 - val_accuracy: 0.8707\n",
            " - 46s - loss: 0.3242 - accuracy: 0.8817 - val_loss: 0.3629 - val_accuracy: 0.8707\n",
            "\n",
            "Epoch 00148: val_accuracy did not improve from 0.89435\n",
            "Epoch 149/150\n",
            "\n",
            "Epoch 00148: val_accuracy did not improve from 0.89435\n",
            "Epoch 149/150\n",
            " - 46s - loss: 0.3276 - accuracy: 0.8828 - val_loss: 0.3637 - val_accuracy: 0.8725\n",
            " - 46s - loss: 0.3276 - accuracy: 0.8828 - val_loss: 0.3637 - val_accuracy: 0.8725\n",
            "\n",
            "Epoch 00149: val_accuracy did not improve from 0.89435\n",
            "Epoch 150/150\n",
            "\n",
            "Epoch 00149: val_accuracy did not improve from 0.89435\n",
            "Epoch 150/150\n",
            " - 46s - loss: 0.3369 - accuracy: 0.8769 - val_loss: 0.5298 - val_accuracy: 0.8051\n",
            " - 46s - loss: 0.3369 - accuracy: 0.8769 - val_loss: 0.5298 - val_accuracy: 0.8051\n",
            "\n",
            "Epoch 00150: val_accuracy did not improve from 0.89435\n",
            "\n",
            "Epoch 00150: val_accuracy did not improve from 0.89435\n"
          ],
          "name": "stdout"
        }
      ]
    },
    {
      "cell_type": "code",
      "metadata": {
        "id": "VPDey4oXGOqK",
        "colab_type": "code",
        "colab": {}
      },
      "source": [
        "model.load_weights(\"lenet5-model.h5\")"
      ],
      "execution_count": 0,
      "outputs": []
    },
    {
      "cell_type": "markdown",
      "metadata": {
        "id": "4hK5Afyc6-PY",
        "colab_type": "text"
      },
      "source": [
        "# validation set"
      ]
    },
    {
      "cell_type": "code",
      "metadata": {
        "id": "qxUGN44q7B3G",
        "colab_type": "code",
        "colab": {
          "base_uri": "https://localhost:8080/",
          "height": 187
        },
        "outputId": "ed76130f-f3ec-4c85-d893-d3a15c17d4da"
      },
      "source": [
        "from sklearn.metrics import f1_score, precision_score, recall_score, confusion_matrix, accuracy_score\n",
        "y_pred1 = model.predict(valid_X,batch_size=1)\n",
        "print(y_pred1.shape)\n",
        "y_pred1=np.argmax(y_pred1,axis=1)\n",
        "print(y_pred1.shape)\n",
        "print(valid_label.shape)\n",
        "valid_label1=valid_label\n",
        "valid_label1=np.argmax(valid_label1,axis=1)\n",
        "print(valid_label1.shape)\n",
        "# y_pred1[1]\n",
        "# print(y_pred1[1])\n",
        "# print(\"//\")\n",
        "# y_pred[1]\n",
        "# print(\"//\")\n",
        "# valid_label[1]\n",
        "# #Print f1, precision, and recall scores\n",
        "print('Precision score:')\n",
        "print(precision_score(valid_label1, y_pred1,average='macro'))\n",
        "print('recall score:')\n",
        "print(recall_score(valid_label1, y_pred1,average='macro'))\n",
        "print('f1 score:')\n",
        "print(f1_score(valid_label1, y_pred1,average='macro'))\n",
        "\n",
        "#print(recall_score(valid_label1, y_pred1,average='micro'))\n",
        "# print('accuracy score:')\n",
        "# print(accuracy_score(valid_label1, y_pred1))\n",
        "# # val_pred=model.predict(valid_X,batch_size=40)\n",
        "# # np.round(val_pred[1])"
      ],
      "execution_count": 64,
      "outputs": [
        {
          "output_type": "stream",
          "text": [
            "(549, 12)\n",
            "(549,)\n",
            "(549, 12)\n",
            "(549,)\n",
            "Precision score:\n",
            "0.8912808318045874\n",
            "recall score:\n",
            "0.8829094426364179\n",
            "f1 score:\n",
            "0.8830264694834323\n"
          ],
          "name": "stdout"
        }
      ]
    },
    {
      "cell_type": "code",
      "metadata": {
        "id": "NiIj3DEE7G_f",
        "colab_type": "code",
        "colab": {
          "base_uri": "https://localhost:8080/",
          "height": 340
        },
        "outputId": "61e519cf-df36-4d6f-9b33-f5a2a883bf59"
      },
      "source": [
        "from sklearn.metrics import classification_report\n",
        "cm_plot_labels=['Black-grass','Charlock', 'Cleavers','Common Chickweed','Common wheat','Fat Hen','Loose Silky-bent','Maize','Scentless Mayweed','ShepherdΓÇÖs Purse','Small-flowered Cranesbill','Sugar beet']\n",
        "# Generate a classification report\n",
        "report = classification_report(valid_label1, y_pred1,target_names=cm_plot_labels)\n",
        "\n",
        "print(report)\n",
        "# precision=.96\n",
        "# recall=.94\n",
        "# f1=.947"
      ],
      "execution_count": 65,
      "outputs": [
        {
          "output_type": "stream",
          "text": [
            "                           precision    recall  f1-score   support\n",
            "\n",
            "              Black-grass       0.87      0.56      0.68        36\n",
            "                 Charlock       0.86      0.97      0.91        38\n",
            "                 Cleavers       0.90      0.90      0.90        41\n",
            "         Common Chickweed       0.94      1.00      0.97        60\n",
            "             Common wheat       0.88      0.96      0.92        24\n",
            "                  Fat Hen       0.86      0.83      0.85        36\n",
            "         Loose Silky-bent       0.85      0.92      0.88        89\n",
            "                    Maize       0.90      0.95      0.93        20\n",
            "        Scentless Mayweed       0.88      0.76      0.82        50\n",
            "       ShepherdΓÇÖs Purse       0.86      0.81      0.83        31\n",
            "Small-flowered Cranesbill       0.97      0.98      0.98        65\n",
            "               Sugar beet       0.92      0.95      0.93        59\n",
            "\n",
            "                 accuracy                           0.89       549\n",
            "                macro avg       0.89      0.88      0.88       549\n",
            "             weighted avg       0.89      0.89      0.89       549\n",
            "\n"
          ],
          "name": "stdout"
        }
      ]
    },
    {
      "cell_type": "code",
      "metadata": {
        "id": "sIodqvsx7KLH",
        "colab_type": "code",
        "colab": {
          "base_uri": "https://localhost:8080/",
          "height": 947
        },
        "outputId": "db26c48b-ace9-45fc-b02d-2b51856a327a"
      },
      "source": [
        "    import matplotlib.pyplot as plt\n",
        "    import seaborn as sns\n",
        "    from sklearn import metrics\n",
        "    cm = metrics.confusion_matrix(valid_label1, y_pred1)\n",
        "    print(cm)\n",
        "    plt.figure(figsize=(12,12))\n",
        "    sns.heatmap(cm, annot=True, fmt=\".3f\", linewidths=.20, square = True, cmap = 'Blues_r');\n",
        "    plt.ylabel('Actual label');\n",
        "    plt.xlabel('Predicted label');\n",
        "    plt.xticks(range(12), ['Black-grass','Charlock', 'Cleavers','Common Chickweed','Common wheat','Fat Hen','Loose Silky-bent','Maize','Scentless Mayweed','ShepherdΓÇÖs Purse','Small-flowered Cranesbill','Sugar beet'], rotation=45,fontsize=10)\n",
        "    plt.yticks(range(12), ['Black-grass','Charlock', 'Cleavers','Common Chickweed','Common wheat','Fat Hen','Loose Silky-bent','Maize','Scentless Mayweed','ShepherdΓÇÖs Purse','Small-flowered Cranesbill','Sugar beet'],rotation=45, fontsize=10)\n",
        "    plt.show()\n",
        "    # /CATEGORIES = [\"Black-grass\", \"Charlock\",\"Cleavers\",\"Common Chickweed\",\"Common wheat\",\"Fat Hen\",\"Loose Silky-bent\",\"Maize\",\"Scentless Mayweed\",\"ShepherdΓÇÖs Purse\",\"Small-flowered Cranesbill\",\"Sugar beet\"]"
      ],
      "execution_count": 66,
      "outputs": [
        {
          "output_type": "stream",
          "text": [
            "[[20  0  0  0  2  0 13  0  1  0  0  0]\n",
            " [ 0 37  0  0  0  0  0  0  0  0  0  1]\n",
            " [ 0  3 37  0  0  0  0  0  0  0  0  1]\n",
            " [ 0  0  0 60  0  0  0  0  0  0  0  0]\n",
            " [ 0  0  0  0 23  0  0  0  0  0  0  1]\n",
            " [ 0  2  1  1  1 30  0  0  0  1  0  0]\n",
            " [ 2  0  0  0  0  3 82  0  0  0  1  1]\n",
            " [ 0  0  0  0  0  0  0 19  0  0  1  0]\n",
            " [ 1  1  3  2  0  1  2  0 38  2  0  0]\n",
            " [ 0  0  0  1  0  0  0  0  4 25  0  1]\n",
            " [ 0  0  0  0  0  0  0  0  0  1 64  0]\n",
            " [ 0  0  0  0  0  1  0  2  0  0  0 56]]\n"
          ],
          "name": "stdout"
        },
        {
          "output_type": "display_data",
          "data": {
            "image/png": "[encoded data removed]",
            "text/plain": [
              "<Figure size 864x864 with 2 Axes>"
            ]
          },
          "metadata": {
            "tags": [],
            "needs_background": "light"
          }
        }
      ]
    },
    {
      "cell_type": "markdown",
      "metadata": {
        "id": "0qsm88VI7Rlg",
        "colab_type": "text"
      },
      "source": [
        "# test set"
      ]
    },
    {
      "cell_type": "code",
      "metadata": {
        "id": "7wT0T9o7Yl2x",
        "colab_type": "code",
        "outputId": "a6ddb891-fcc7-4167-afe9-ddd8fe1ac55b",
        "colab": {
          "base_uri": "https://localhost:8080/",
          "height": 34
        }
      },
      "source": [
        "test_eval =model.evaluate(x_test, y_test)"
      ],
      "execution_count": 67,
      "outputs": [
        {
          "output_type": "stream",
          "text": [
            "554/554 [==============================] - 1s 1ms/step\n"
          ],
          "name": "stdout"
        }
      ]
    },
    {
      "cell_type": "code",
      "metadata": {
        "id": "clXLbicDYoK3",
        "colab_type": "code",
        "outputId": "bf082db8-be81-4ade-9432-c55046ddd44e",
        "colab": {
          "base_uri": "https://localhost:8080/",
          "height": 51
        }
      },
      "source": [
        "print('Test loss:', test_eval[0])\n",
        "print('Test accuracy:', test_eval[1])"
      ],
      "execution_count": 68,
      "outputs": [
        {
          "output_type": "stream",
          "text": [
            "Test loss: 0.5196298418922976\n",
            "Test accuracy: 0.8357400894165039\n"
          ],
          "name": "stdout"
        }
      ]
    },
    {
      "cell_type": "code",
      "metadata": {
        "id": "r-8D5gklYqbD",
        "colab_type": "code",
        "outputId": "81a4ae02-6b53-4d3c-a267-6bfb56b3b508",
        "colab": {
          "base_uri": "https://localhost:8080/",
          "height": 187
        }
      },
      "source": [
        "from sklearn.metrics import f1_score, precision_score, recall_score, confusion_matrix, accuracy_score\n",
        "y_pred1 = model.predict(x_test,batch_size=1)\n",
        "print(y_pred1.shape)\n",
        "y_pred1=np.argmax(y_pred1,axis=1)\n",
        "print(y_pred1.shape)\n",
        "print(y_test.shape)\n",
        "valid_label1=y_test\n",
        "valid_label1=np.argmax(valid_label1,axis=1)\n",
        "print(valid_label1.shape)\n",
        "# y_pred1[1]\n",
        "# print(y_pred1[1])\n",
        "# print(\"//\")\n",
        "# y_pred[1]\n",
        "# print(\"//\")\n",
        "# valid_label[1]\n",
        "# #Print f1, precision, and recall scores\n",
        "print('Precision score:')\n",
        "print(precision_score(valid_label1, y_pred1,average='macro'))\n",
        "print('recall score:')\n",
        "print(recall_score(valid_label1, y_pred1,average='macro'))\n",
        "print('f1 score:')\n",
        "print(f1_score(valid_label1, y_pred1,average='macro'))\n",
        "\n",
        "#print(recall_score(valid_label1, y_pred1,average='micro'))\n",
        "# print('accuracy score:')\n",
        "# print(accuracy_score(valid_label1, y_pred1))\n",
        "# # val_pred=model.predict(valid_X,batch_size=40)\n",
        "# # np.round(val_pred[1])"
      ],
      "execution_count": 69,
      "outputs": [
        {
          "output_type": "stream",
          "text": [
            "(554, 12)\n",
            "(554,)\n",
            "(554, 12)\n",
            "(554,)\n",
            "Precision score:\n",
            "0.8213152018549494\n",
            "recall score:\n",
            "0.824511680463333\n",
            "f1 score:\n",
            "0.8121256680359276\n"
          ],
          "name": "stdout"
        }
      ]
    },
    {
      "cell_type": "code",
      "metadata": {
        "id": "QRdqWX4PYzAl",
        "colab_type": "code",
        "outputId": "34524633-9ceb-4ddd-9fc1-4ed394762edb",
        "colab": {
          "base_uri": "https://localhost:8080/",
          "height": 932
        }
      },
      "source": [
        "    import matplotlib.pyplot as plt\n",
        "    import seaborn as sns\n",
        "    from sklearn import metrics\n",
        "    cm = metrics.confusion_matrix(valid_label1, y_pred1)\n",
        "    print(cm)\n",
        "    plt.figure(figsize=(12,12))\n",
        "    sns.heatmap(cm, annot=True, fmt=\".3f\", linewidths=.20, square = True, cmap = 'Blues_r');\n",
        "    plt.ylabel('Actual label');\n",
        "    plt.xlabel('Predicted label');\n",
        "    plt.xticks(range(12), ['Black-grass','Charlock', 'Cleavers','Common Chickweed','Common wheat','Fat Hen','Loose Silky-bent','Maize','Scentless Mayweed','ShepherdΓÇÖs Purse','Cranesbill','Sugar beet'], rotation=45,fontsize=10)\n",
        "    plt.yticks(range(12), ['Black-grass','Charlock', 'Cleavers','Common Chickweed','Common wheat','Fat Hen','Loose Silky-bent','Maize','Scentless Mayweed','ShepherdΓÇÖs Purse','Cranesbill','Sugar beet'],rotation=45, fontsize=10)\n",
        "    plt.show()\n",
        "    # /CATEGORIES = [\"Black-grass\", \"Charlock\",\"Cleavers\",\"Common Chickweed\",\"Common wheat\",\"Fat Hen\",\"Loose Silky-bent\",\"Maize\",\"Scentless Mayweed\",\"ShepherdΓÇÖs Purse\",\"Small-flowered Cranesbill\",\"Sugar beet\"]"
      ],
      "execution_count": 70,
      "outputs": [
        {
          "output_type": "stream",
          "text": [
            "[[12  0  0  0  1  3 17  0  0  0  1  2]\n",
            " [ 0 32  1  0  0  0  0  2  0  0  0  1]\n",
            " [ 0  3 25  0  0  3  0  1  0  0  0  1]\n",
            " [ 0  0  0 69  0  0  0  0  0  5  3  1]\n",
            " [ 0  0  0  0 17  3  0  1  0  0  0  1]\n",
            " [ 0  0  0  0  1 39  1  2  0  0  0  0]\n",
            " [ 5  0  0  1  0  2 66  0  1  0  1  0]\n",
            " [ 0  0  0  0  0  0  0 20  0  0  0  0]\n",
            " [ 0  3  3  3  0  1  0  0 48  4  0  1]\n",
            " [ 0  0  1  0  0  1  0  0  2 31  0  1]\n",
            " [ 0  1  0  0  0  0  0  0  0  1 64  0]\n",
            " [ 0  0  0  0  0  1  0  3  0  0  1 40]]\n"
          ],
          "name": "stdout"
        },
        {
          "output_type": "display_data",
          "data": {
            "image/png": "[encoded data removed]",
            "text/plain": [
              "<Figure size 864x864 with 2 Axes>"
            ]
          },
          "metadata": {
            "tags": [],
            "needs_background": "light"
          }
        }
      ]
    },
    {
      "cell_type": "code",
      "metadata": {
        "id": "thansIB2Y2cS",
        "colab_type": "code",
        "outputId": "ac124275-72c5-4387-c676-b10b526b3760",
        "colab": {
          "base_uri": "https://localhost:8080/",
          "height": 340
        }
      },
      "source": [
        "from sklearn.metrics import classification_report\n",
        "cm_plot_labels=['Black-grass','Charlock', 'Cleavers','Common Chickweed','Common wheat','Fat Hen','Loose Silky-bent','Maize','Scentless Mayweed','ShepherdΓÇÖs Purse','Cranesbill','Sugar beet']\n",
        "# Generate a classification report\n",
        "report = classification_report(valid_label1, y_pred1,target_names=cm_plot_labels)\n",
        "\n",
        "print(report)\n",
        "# precision=.9541\n",
        "# recall=.9517\n",
        "# f1 score=.9525"
      ],
      "execution_count": 71,
      "outputs": [
        {
          "output_type": "stream",
          "text": [
            "                    precision    recall  f1-score   support\n",
            "\n",
            "       Black-grass       0.71      0.33      0.45        36\n",
            "          Charlock       0.82      0.89      0.85        36\n",
            "          Cleavers       0.83      0.76      0.79        33\n",
            "  Common Chickweed       0.95      0.88      0.91        78\n",
            "      Common wheat       0.89      0.77      0.83        22\n",
            "           Fat Hen       0.74      0.91      0.81        43\n",
            "  Loose Silky-bent       0.79      0.87      0.82        76\n",
            "             Maize       0.69      1.00      0.82        20\n",
            " Scentless Mayweed       0.94      0.76      0.84        63\n",
            "ShepherdΓÇÖs Purse       0.76      0.86      0.81        36\n",
            "        Cranesbill       0.91      0.97      0.94        66\n",
            "        Sugar beet       0.83      0.89      0.86        45\n",
            "\n",
            "          accuracy                           0.84       554\n",
            "         macro avg       0.82      0.82      0.81       554\n",
            "      weighted avg       0.84      0.84      0.83       554\n",
            "\n"
          ],
          "name": "stdout"
        }
      ]
    },
    {
      "cell_type": "code",
      "metadata": {
        "id": "U63ymaonY88D",
        "colab_type": "code",
        "outputId": "7c150a99-3588-45c9-a0ff-0588a85f07d6",
        "colab": {
          "base_uri": "https://localhost:8080/",
          "height": 295
        }
      },
      "source": [
        "plt.plot(history.history['accuracy'])\n",
        "plt.plot(history.history['val_accuracy'])\n",
        "plt.title('model accuracy')\n",
        "plt.ylabel('accuracy')\n",
        "plt.xlabel('epoch')\n",
        "plt.legend(['training', 'validation'], loc='upper left')\n",
        "plt.show()"
      ],
      "execution_count": 72,
      "outputs": [
        {
          "output_type": "display_data",
          "data": {
            "image/png": "[encoded data removed]",
            "text/plain": [
              "<Figure size 432x288 with 1 Axes>"
            ]
          },
          "metadata": {
            "tags": [],
            "needs_background": "light"
          }
        }
      ]
    },
    {
      "cell_type": "code",
      "metadata": {
        "id": "nc3FlP6PZwax",
        "colab_type": "code",
        "outputId": "8242d7c9-2552-406c-c659-390433083c39",
        "colab": {
          "base_uri": "https://localhost:8080/",
          "height": 295
        }
      },
      "source": [
        "plt.plot(history.history['loss'])\n",
        "plt.plot(history.history['val_loss'])\n",
        "plt.title('model loss')\n",
        "plt.ylabel('loss')\n",
        "plt.xlabel('epoch')\n",
        "plt.legend(['training', 'validation'], loc='upper left')\n",
        "plt.show()"
      ],
      "execution_count": 73,
      "outputs": [
        {
          "output_type": "display_data",
          "data": {
            "image/png": "[encoded data removed]",
            "text/plain": [
              "<Figure size 432x288 with 1 Axes>"
            ]
          },
          "metadata": {
            "tags": [],
            "needs_background": "light"
          }
        }
      ]
    },
    {
      "cell_type": "code",
      "metadata": {
        "id": "YBiwSK07dfLE",
        "colab_type": "code",
        "colab": {}
      },
      "source": [
        ""
      ],
      "execution_count": 0,
      "outputs": []
    }
  ]
}